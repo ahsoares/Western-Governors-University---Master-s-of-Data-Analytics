{
 "cells": [
  {
   "cell_type": "markdown",
   "id": "7ad53ffd-bbe8-4791-b98f-0cfc57769b9a",
   "metadata": {},
   "source": [
    "# D206 - Data Cleaning Performance Assessment \n",
    "Aidan Soares, 012042436, Western Governors University"
   ]
  },
  {
   "cell_type": "markdown",
   "id": "2a98b161-62e8-4c7e-aa34-83e58b9595f4",
   "metadata": {},
   "source": [
    "### A: Research Question"
   ]
  },
  {
   "cell_type": "markdown",
   "id": "7ce66254-f9dc-497b-83fd-474786665e77",
   "metadata": {},
   "source": [
    "For this assessment I will be using the Churn dataset. My question is \"What factors influence the customer churn rate?\". For telecommunication companies, this question is essential for identifying variables that can lead to turnover in a strongly competitive environment and preventing the loss of market capitalization. Conducting analysis on this will allow companies to isolate and identify the leading reasons as to why a customer may be likely to cancel their service plans. Once known, these companies will be better equiped to remedy the variables that push customers away, and focus on providing customers with effective service packages, bonus plans, and curate a more appealing experience to retain them."
   ]
  },
  {
   "cell_type": "markdown",
   "id": "5786f8dc-7082-42fb-ba84-beff81eefbff",
   "metadata": {},
   "source": [
    "### B: Describing Variables"
   ]
  },
  {
   "cell_type": "markdown",
   "id": "c153fc16-5f21-4f6c-9953-a7bfcbb1fe6e",
   "metadata": {},
   "source": [
    "| Variable Name | Data Type | Description | Example |\n",
    "| :- | :- | :- | :- |\n",
    "| CaseOrder | Quantitative | A variable to identify the purchase order from customers | 1 |\n",
    "| Customer_id | Qualitative | A unique ID value given to each individual customer | K409198 |\n",
    "| Interaction | Qualitative | A unique ID generated and assigned to designate customer transactions, tech support, and sign-ups | aa90260b-4141-4a24-8e36-b04ce1f4f77b |\n",
    "| City | Qualitative | The city provided for the customer billing statement | Point Baker |\n",
    "| State | Qualitative | The state provided for the customer billing statement | AK |\n",
    "| County | Qualitative | The county provided for the customer billing statement | Prince of Wales-Hyder |\n",
    "| Zip | Qualitative | The zip code provided for the customer billing statement | 99927 |\n",
    "| Lat | Quantitative | The latitude for the address provided for the customer billing statement | 56.251 |\n",
    "| Lng | Quantitative | The longitude for the address provided for the customer billing statement | -133.37571 |\n",
    "| Population | Quantitative | Estimated population size within a mile of address provided | 38 |\n",
    "| Area | Qualitative | A description of the classification of the area type based on address provided | Urban |\n",
    "| TimeZone | Qualitative | The timezone identified based on sign-up information provided | America/Sitka |\n",
    "| Job | Qualitative | A description of the industry the customer works in based on sign-up information provided | Environmental health practitioner |\n",
    "| Children | Quantitative | The number of children the customer has from sign-up information provided | NA |\n",
    "| Age | Quantitative | The age of the customer from sign-up information provided | 68 |\n",
    "| Education | Qualitative | The highest level of education achieved by the customer from sign-up information provided | Master's Degree |\n",
    "| Employment | Qualitative | Current employment status provided in sign-up information | Part Time |\n",
    "| Income | Quantitative | Annual salary of customer provided in sign-up information | 28561.99 |\n",
    "| Marital | Qualitative | Marital status of individual provided in sign-up information | Widowed |\n",
    "| Gender | Qualitative | Self-identified gender provided by customer in sign-up information | Male |\n",
    "| Churn | Qualitative | A binary indication of customer discontinuation of service within the prior month | No |\n",
    "| Outage_sec_perweek | Quantitative | Total time in seconds that the customer's neighborhood has experienced a system outage within a week | 6.972566093 |\n",
    "| Email | Quantitative | The number of emails sent to the customer within the last year | 10 |\n",
    "| Contacts | Quantitative | Total number of times the customer has contacted tech support | 0 |\n",
    "| Yearly_equip_failure | Quantitative | Number of times the customer's equipment needed to be replaced or repaired due to failure within the last year | 1 |\n",
    "| Techie | Qualitative | A binary indication of the customer's tech proficiency based on customer's questionnaire data | No |\n",
    "| Contract | Qualitative | Length of the customer's contract duration with the company | One year |\n",
    "| Port_modem | Qualitative | A binary indication of if the customer has a port-modem | Yes |\n",
    "| Tablet | Qualitative | A binary indication of if the customer has a tablet | Yes |\n",
    "| InternetService | Qualitative | A description of the type of internet service provider a customer currently has | Fiber Optic |\n",
    "| Phone | Qualitative | A binary indication of if the customer has phone service | Yes |\n",
    "| Multiple | Qualitative | A binary indication of if the customer has multiple phone lines | No |\n",
    "| OnlineSecurity | Qualitative | A binary indication of if the customer has the online security package | Yes |\n",
    "| OnlineBackup | Qualitative | A binary indication of if the customer has the online backup package | Yes |\n",
    "| DeviceProtection | Qualitative | A binary indication of if the customer has the device protection package | No |\n",
    "| TechSupport | Qualitative | A binary indication of if the customer has the tech support package | No |\n",
    "| StreamingTV | Qualitative | A binary indication of if the customer has TV streaming | No |\n",
    "| StreamingMovies | Qualitative | A binary indication of if the customer has movie streaming | Yes |\n",
    "| PaperlessBilling | Qualitative | A binary indication of if the customer has opted for paperless billing | Yes |\n",
    "| PaymentMethod | Qualitative | A description of the payment method being used by the customer | Credit Card (automatic) |\n",
    "| Tenure | Quantitative | Total time in months that the customer has maintained their services with their current telecom provider | 6.795512947 |\n",
    "| MonthlyCharge | Quantitative | An average for the customer's monthly charge | 171.4497621 |\n",
    "| Bandwidth_GB_Year | Quantitative | An average for the customer's annual bandwidth usage in Gigabytes | 904.5361102 |\n",
    "| Item1 | Qualitative | Surveyed responses for the importance of the company's timely reponse (most imporant = 1, least important = 8) | 5 |\n",
    "| Item2 | Qualitative | Surveyed responses for the importance company's timely fixes | 5 |\n",
    "| Item3 | Qualitative | Surveyed responses for the importance of the company's timely replacements | 5 |\n",
    "| Item4 | Qualitative | Surveyed responses for the importance of the company's reliability | 3 |\n",
    "| Item5 | Qualitative | Surveyed responses for the importance of the company's service options | 4 |\n",
    "| Item6 | Qualitative | Surveyed responses for the importance of the company's respectful responses | 4 |\n",
    "| Item7 | Qualitative | Surveyed responses for the importance of the company's courteous exchanges | 3 |\n",
    "| Item8 | Qualitative | Surveyed responses for the importance of the company's ability to actively listen to the customer's needs | 4 |\n",
    "\n",
    "\n",
    "The example data above was selected from the first row of all variables in the Churn CSV dataset. Code used to create the markdown table above was learned through Saturn Cloud (Saturn Cloud, 2023)."
   ]
  },
  {
   "cell_type": "markdown",
   "id": "49e54b21-9065-4922-b310-430faabec3a1",
   "metadata": {},
   "source": [
    "### C1: Plan to Assess Quality"
   ]
  },
  {
   "cell_type": "markdown",
   "id": "71d1767b-13a2-4514-8564-1e2618837b49",
   "metadata": {},
   "source": [
    "After importing the information stored within the churn dataset into a dataframe, I will first and foremost conduct a visual assessment of my data to identify any immediate issues in quality of column names and table structure. I can do this utilizing the .info() function from the pandas library in Python to give a overview of column name, non-null counts, and column datatype. Once it is noted that the headers and variables being assessed are not misspelled or lack clarity, I will then proceed in my assessment of the datatypes themselves by confirming that the datatypes are appropriate for the data that each column contains, such as int64 for integers and float64 for numbers with fractional value. Furthermore, the .isnull().sum function provides a quick overview of the total from each column that contains null values, indicating missing data that may need to be cleaned or imputed. \n",
    "\n",
    "Following my use of the .info() function, I will proceed to identify any duplicate entries within the dataset by using the .duplicated() function on my dataframe, which will provide me with a list of which rows have duplicate entries. I can take this further by using .value_counts() to generate a sum of the total number of duplicate rows in my dataset. Certain columns however, such as customer_id, should not contain any duplicated values as each ID is unique per customer, and I must identify the sum of unique entries for these columns to ensure there is no duplication. \n",
    "\n",
    "Outliers are another important factor in assessment quality of my dataset. To assess for significant skew, I will be using a combination of z-score and plotting boxplots to identify the existence of outliers, but determination of whether to drop these datapoints, retain, or impute them will come later. And finally, some variables may be inconsistent in their chosen expression, such as a binary indicator like 0/1 used in one column, and No/Yes in another. These variables may need categorical re-expression for consistency and for effective assessment of the research question."
   ]
  },
  {
   "cell_type": "markdown",
   "id": "d66e7c1c-c7b8-4584-830f-4bdc20e2c253",
   "metadata": {},
   "source": [
    "### C2: Justification for Plan"
   ]
  },
  {
   "cell_type": "markdown",
   "id": "27cefa87-9002-4119-89ec-1d2c7ce4b6a0",
   "metadata": {},
   "source": [
    "The data provided within the Churn dataset demonstrates the possibility of containing and housing many errors such as null or duplicate values. While columns such as customer_id imply a computer-generated value assigned to an individual, and thus is unlikely to have errors, it is still important to assess its integrity for assurance of clean data and efficient internal data systems on the company's end. Conversely, some of the columns note that information is user-generated through information provided on questionnaires, or within the sign-up page. These columns are more likely to house null values or errors as the customers may miss spots on the fillable documents and accidentally leave them blank.\n",
    "\n",
    "My approach will ensure an overview of all areas in which the data lacks integrity, highlighting areas of duplication, null entries, potential for significant skew, and areas for improvement. The functions chosen above are meant to highlight and isolate the areas of most significance in identifying the quality of my data, so that I may then determine how it can be improved. Once I have collected the information using the functions mentioned above such as .duplicated(), .info(), and .isnull().sum, I can then proceed to determine if data needs to be removed, left as-is, or imputed using statistical data that can be found through .describe()."
   ]
  },
  {
   "cell_type": "markdown",
   "id": "6cc91dfa-7b48-4e31-ae63-e18c4d26c408",
   "metadata": {},
   "source": [
    "### C3: Programming Language"
   ]
  },
  {
   "cell_type": "markdown",
   "id": "bd223f6a-e793-4f5a-826e-1df9ddb19b02",
   "metadata": {},
   "source": [
    "The programming language that I will be using for this assessment is Python. As an open-source and widely used programming language, it will be effective in importing the dataset needed and can quickly perform the analysis I have outlined above using readily available libraries such as Numpy and Pandas. Using pandas, I will import the data needed from the churn dataset into a dataframe, which is structured in the form similar to a spreadsheet which is ideal as I will be directly pulling the information I need from a csv file. I have also made note of the above Pandas functions such as .duplicated(), .info(), and isnull().sum that I will be using. The numpy library contains useful tools to manipulate and transform data if needed. In conjunction with the two above, Matplotlib and Seaborn will be useful for plotting or identifying my data/outliers for quick reference, and the SKLearn library will be needed to conduct principal component analysis later in this performance assessment."
   ]
  },
  {
   "cell_type": "markdown",
   "id": "41ea405b-50bc-430c-9c31-962e3db6273b",
   "metadata": {},
   "source": [
    "### C4: Code for Assessing Quality"
   ]
  },
  {
   "cell_type": "code",
   "execution_count": 2,
   "id": "b33292be-6ee5-4b27-8fac-045b92582981",
   "metadata": {},
   "outputs": [],
   "source": [
    "# Import necessary libraries\n",
    "import pandas as pd\n",
    "import numpy as np\n",
    "import scipy.stats as stats\n",
    "import matplotlib.pyplot as plt\n",
    "import seaborn as sns\n",
    "from sklearn.decomposition import PCA"
   ]
  },
  {
   "cell_type": "code",
   "execution_count": 3,
   "id": "2112cba3-45be-408d-970b-36c30f757f45",
   "metadata": {},
   "outputs": [
    {
     "name": "stdout",
     "output_type": "stream",
     "text": [
      "<class 'pandas.core.frame.DataFrame'>\n",
      "Int64Index: 10000 entries, 1 to 10000\n",
      "Data columns (total 51 columns):\n",
      " #   Column                Non-Null Count  Dtype  \n",
      "---  ------                --------------  -----  \n",
      " 0   CaseOrder             10000 non-null  int64  \n",
      " 1   Customer_id           10000 non-null  object \n",
      " 2   Interaction           10000 non-null  object \n",
      " 3   City                  10000 non-null  object \n",
      " 4   State                 10000 non-null  object \n",
      " 5   County                10000 non-null  object \n",
      " 6   Zip                   10000 non-null  int64  \n",
      " 7   Lat                   10000 non-null  float64\n",
      " 8   Lng                   10000 non-null  float64\n",
      " 9   Population            10000 non-null  int64  \n",
      " 10  Area                  10000 non-null  object \n",
      " 11  Timezone              10000 non-null  object \n",
      " 12  Job                   10000 non-null  object \n",
      " 13  Children              7505 non-null   float64\n",
      " 14  Age                   7525 non-null   float64\n",
      " 15  Education             10000 non-null  object \n",
      " 16  Employment            10000 non-null  object \n",
      " 17  Income                7510 non-null   float64\n",
      " 18  Marital               10000 non-null  object \n",
      " 19  Gender                10000 non-null  object \n",
      " 20  Churn                 10000 non-null  object \n",
      " 21  Outage_sec_perweek    10000 non-null  float64\n",
      " 22  Email                 10000 non-null  int64  \n",
      " 23  Contacts              10000 non-null  int64  \n",
      " 24  Yearly_equip_failure  10000 non-null  int64  \n",
      " 25  Techie                7523 non-null   object \n",
      " 26  Contract              10000 non-null  object \n",
      " 27  Port_modem            10000 non-null  object \n",
      " 28  Tablet                10000 non-null  object \n",
      " 29  InternetService       10000 non-null  object \n",
      " 30  Phone                 8974 non-null   object \n",
      " 31  Multiple              10000 non-null  object \n",
      " 32  OnlineSecurity        10000 non-null  object \n",
      " 33  OnlineBackup          10000 non-null  object \n",
      " 34  DeviceProtection      10000 non-null  object \n",
      " 35  TechSupport           9009 non-null   object \n",
      " 36  StreamingTV           10000 non-null  object \n",
      " 37  StreamingMovies       10000 non-null  object \n",
      " 38  PaperlessBilling      10000 non-null  object \n",
      " 39  PaymentMethod         10000 non-null  object \n",
      " 40  Tenure                9069 non-null   float64\n",
      " 41  MonthlyCharge         10000 non-null  float64\n",
      " 42  Bandwidth_GB_Year     8979 non-null   float64\n",
      " 43  item1                 10000 non-null  int64  \n",
      " 44  item2                 10000 non-null  int64  \n",
      " 45  item3                 10000 non-null  int64  \n",
      " 46  item4                 10000 non-null  int64  \n",
      " 47  item5                 10000 non-null  int64  \n",
      " 48  item6                 10000 non-null  int64  \n",
      " 49  item7                 10000 non-null  int64  \n",
      " 50  item8                 10000 non-null  int64  \n",
      "dtypes: float64(9), int64(14), object(28)\n",
      "memory usage: 4.0+ MB\n"
     ]
    }
   ],
   "source": [
    "# Importing the csv data into a dataframe. As the first column in the dataset is an index, the index_col will need to be set to column 0 from the dataset\n",
    "# The data is stored in the same working directory as the ipynb file\n",
    "df = pd.read_csv('churn_raw_data.csv', index_col=0)\n",
    "\n",
    "# Generating overview of the dataframe\n",
    "df.info()"
   ]
  },
  {
   "cell_type": "code",
   "execution_count": 4,
   "id": "14971226-ba97-469b-b68b-5a1bbea63aaf",
   "metadata": {},
   "outputs": [
    {
     "data": {
      "text/plain": [
       "False    10000\n",
       "dtype: int64"
      ]
     },
     "execution_count": 4,
     "metadata": {},
     "output_type": "execute_result"
    }
   ],
   "source": [
    "#Identifying a total count of duplicate rows in the dataset\n",
    "df.duplicated().value_counts()"
   ]
  },
  {
   "cell_type": "code",
   "execution_count": 5,
   "id": "dbf327dd-c267-4358-af43-663416be3f62",
   "metadata": {},
   "outputs": [
    {
     "name": "stdout",
     "output_type": "stream",
     "text": [
      "10000\n",
      "10000\n",
      "10000\n"
     ]
    }
   ],
   "source": [
    "#Identifying a total count of unique entries in unique identifying columns such as caseorder, customer_id, and interaction. \n",
    "#As there are 10000 entries, there should be 10000 unique entries for each of the variables below\n",
    "print(df.CaseOrder.value_counts().sum())\n",
    "print(df.Customer_id.value_counts().sum())\n",
    "print(df.Interaction.value_counts().sum())"
   ]
  },
  {
   "cell_type": "code",
   "execution_count": 6,
   "id": "7ddc4926-a05a-4d27-8308-d7355b4e2b7e",
   "metadata": {},
   "outputs": [
    {
     "data": {
      "text/plain": [
       "CaseOrder                  0\n",
       "Customer_id                0\n",
       "Interaction                0\n",
       "City                       0\n",
       "State                      0\n",
       "County                     0\n",
       "Zip                        0\n",
       "Lat                        0\n",
       "Lng                        0\n",
       "Population                 0\n",
       "Area                       0\n",
       "Timezone                   0\n",
       "Job                        0\n",
       "Children                2495\n",
       "Age                     2475\n",
       "Education                  0\n",
       "Employment                 0\n",
       "Income                  2490\n",
       "Marital                    0\n",
       "Gender                     0\n",
       "Churn                      0\n",
       "Outage_sec_perweek         0\n",
       "Email                      0\n",
       "Contacts                   0\n",
       "Yearly_equip_failure       0\n",
       "Techie                  2477\n",
       "Contract                   0\n",
       "Port_modem                 0\n",
       "Tablet                     0\n",
       "InternetService            0\n",
       "Phone                   1026\n",
       "Multiple                   0\n",
       "OnlineSecurity             0\n",
       "OnlineBackup               0\n",
       "DeviceProtection           0\n",
       "TechSupport              991\n",
       "StreamingTV                0\n",
       "StreamingMovies            0\n",
       "PaperlessBilling           0\n",
       "PaymentMethod              0\n",
       "Tenure                   931\n",
       "MonthlyCharge              0\n",
       "Bandwidth_GB_Year       1021\n",
       "item1                      0\n",
       "item2                      0\n",
       "item3                      0\n",
       "item4                      0\n",
       "item5                      0\n",
       "item6                      0\n",
       "item7                      0\n",
       "item8                      0\n",
       "dtype: int64"
      ]
     },
     "execution_count": 6,
     "metadata": {},
     "output_type": "execute_result"
    }
   ],
   "source": [
    "#Identifying total number of null values by column\n",
    "df.isnull().sum()"
   ]
  },
  {
   "cell_type": "code",
   "execution_count": 7,
   "id": "d6f6720d-4459-403f-a6fb-4a0d2a9a6995",
   "metadata": {},
   "outputs": [
    {
     "data": {
      "text/html": [
       "<div>\n",
       "<style scoped>\n",
       "    .dataframe tbody tr th:only-of-type {\n",
       "        vertical-align: middle;\n",
       "    }\n",
       "\n",
       "    .dataframe tbody tr th {\n",
       "        vertical-align: top;\n",
       "    }\n",
       "\n",
       "    .dataframe thead th {\n",
       "        text-align: right;\n",
       "    }\n",
       "</style>\n",
       "<table border=\"1\" class=\"dataframe\">\n",
       "  <thead>\n",
       "    <tr style=\"text-align: right;\">\n",
       "      <th></th>\n",
       "      <th>Children</th>\n",
       "      <th>Age</th>\n",
       "      <th>Income</th>\n",
       "      <th>Tenure</th>\n",
       "      <th>Bandwidth_GB_Year</th>\n",
       "    </tr>\n",
       "  </thead>\n",
       "  <tbody>\n",
       "    <tr>\n",
       "      <th>count</th>\n",
       "      <td>7505.000000</td>\n",
       "      <td>7525.000000</td>\n",
       "      <td>7510.000000</td>\n",
       "      <td>9069.000000</td>\n",
       "      <td>8979.000000</td>\n",
       "    </tr>\n",
       "    <tr>\n",
       "      <th>mean</th>\n",
       "      <td>2.095936</td>\n",
       "      <td>53.275748</td>\n",
       "      <td>39936.762226</td>\n",
       "      <td>34.498858</td>\n",
       "      <td>3398.842752</td>\n",
       "    </tr>\n",
       "    <tr>\n",
       "      <th>std</th>\n",
       "      <td>2.154758</td>\n",
       "      <td>20.753928</td>\n",
       "      <td>28358.469482</td>\n",
       "      <td>26.438904</td>\n",
       "      <td>2187.396807</td>\n",
       "    </tr>\n",
       "    <tr>\n",
       "      <th>min</th>\n",
       "      <td>0.000000</td>\n",
       "      <td>18.000000</td>\n",
       "      <td>740.660000</td>\n",
       "      <td>1.000259</td>\n",
       "      <td>155.506715</td>\n",
       "    </tr>\n",
       "    <tr>\n",
       "      <th>25%</th>\n",
       "      <td>0.000000</td>\n",
       "      <td>35.000000</td>\n",
       "      <td>19285.522500</td>\n",
       "      <td>7.890442</td>\n",
       "      <td>1234.110529</td>\n",
       "    </tr>\n",
       "    <tr>\n",
       "      <th>50%</th>\n",
       "      <td>1.000000</td>\n",
       "      <td>53.000000</td>\n",
       "      <td>33186.785000</td>\n",
       "      <td>36.196030</td>\n",
       "      <td>3382.424000</td>\n",
       "    </tr>\n",
       "    <tr>\n",
       "      <th>75%</th>\n",
       "      <td>3.000000</td>\n",
       "      <td>71.000000</td>\n",
       "      <td>53472.395000</td>\n",
       "      <td>61.426670</td>\n",
       "      <td>5587.096500</td>\n",
       "    </tr>\n",
       "    <tr>\n",
       "      <th>max</th>\n",
       "      <td>10.000000</td>\n",
       "      <td>89.000000</td>\n",
       "      <td>258900.700000</td>\n",
       "      <td>71.999280</td>\n",
       "      <td>7158.982000</td>\n",
       "    </tr>\n",
       "  </tbody>\n",
       "</table>\n",
       "</div>"
      ],
      "text/plain": [
       "          Children          Age         Income       Tenure  Bandwidth_GB_Year\n",
       "count  7505.000000  7525.000000    7510.000000  9069.000000        8979.000000\n",
       "mean      2.095936    53.275748   39936.762226    34.498858        3398.842752\n",
       "std       2.154758    20.753928   28358.469482    26.438904        2187.396807\n",
       "min       0.000000    18.000000     740.660000     1.000259         155.506715\n",
       "25%       0.000000    35.000000   19285.522500     7.890442        1234.110529\n",
       "50%       1.000000    53.000000   33186.785000    36.196030        3382.424000\n",
       "75%       3.000000    71.000000   53472.395000    61.426670        5587.096500\n",
       "max      10.000000    89.000000  258900.700000    71.999280        7158.982000"
      ]
     },
     "execution_count": 7,
     "metadata": {},
     "output_type": "execute_result"
    }
   ],
   "source": [
    "#Identifying information regarding data that have null values within their columns\n",
    "df[['Children', 'Age', 'Income', 'Techie', 'Phone', 'TechSupport', 'Tenure', 'Bandwidth_GB_Year']].describe()"
   ]
  },
  {
   "cell_type": "code",
   "execution_count": 8,
   "id": "bc20424b-0d2b-4581-978d-dc9b4e8a8618",
   "metadata": {},
   "outputs": [
    {
     "name": "stdout",
     "output_type": "stream",
     "text": [
      "Axes(0.125,0.11;0.775x0.77)\n",
      "Axes(0.125,0.11;0.775x0.77)\n",
      "Axes(0.125,0.11;0.775x0.77)\n",
      "Axes(0.125,0.11;0.775x0.77)\n",
      "Axes(0.125,0.11;0.775x0.77)\n",
      "Axes(0.125,0.11;0.775x0.77)\n"
     ]
    },
    {
     "data": {
      "image/png": "[encoded data removed]",
      "text/plain": [
       "<Figure size 300x300 with 1 Axes>"
      ]
     },
     "metadata": {},
     "output_type": "display_data"
    },
    {
     "data": {
      "image/png": "[encoded data removed]",
      "text/plain": [
       "<Figure size 300x300 with 1 Axes>"
      ]
     },
     "metadata": {},
     "output_type": "display_data"
    },
    {
     "data": {
      "image/png": "[encoded data removed]",
      "text/plain": [
       "<Figure size 300x300 with 1 Axes>"
      ]
     },
     "metadata": {},
     "output_type": "display_data"
    },
    {
     "data": {
      "image/png": "[encoded data removed]",
      "text/plain": [
       "<Figure size 300x300 with 1 Axes>"
      ]
     },
     "metadata": {},
     "output_type": "display_data"
    },
    {
     "data": {
      "image/png": "[encoded data removed]",
      "text/plain": [
       "<Figure size 300x300 with 1 Axes>"
      ]
     },
     "metadata": {},
     "output_type": "display_data"
    },
    {
     "data": {
      "image/png": "[encoded data removed]",
      "text/plain": [
       "<Figure size 300x300 with 1 Axes>"
      ]
     },
     "metadata": {},
     "output_type": "display_data"
    }
   ],
   "source": [
    "#Creating boxplots to observe outliers for categories with highly varying numerical data and/or variables carrying null values\n",
    "plt.figure(figsize=(3,3))\n",
    "print(sns.boxplot(data=df[['Income']]))\n",
    "\n",
    "plt.figure(figsize=(3,3))\n",
    "print(sns.boxplot(data=df[['Children']]))\n",
    "\n",
    "plt.figure(figsize=(3,3))\n",
    "print(sns.boxplot(data=df[['Outage_sec_perweek']]))\n",
    "\n",
    "plt.figure(figsize=(3,3))\n",
    "print(sns.boxplot(data=df[['Tenure']]))\n",
    "\n",
    "plt.figure(figsize=(3,3))\n",
    "print(sns.boxplot(data=df[['MonthlyCharge']]))\n",
    "\n",
    "plt.figure(figsize=(3,3))\n",
    "print(sns.boxplot(data=df[['Bandwidth_GB_Year']]))"
   ]
  },
  {
   "cell_type": "code",
   "execution_count": 9,
   "id": "3b9a558e-c248-4530-a92e-d306d470932d",
   "metadata": {},
   "outputs": [
    {
     "name": "stdout",
     "output_type": "stream",
     "text": [
      "Number of outliers for Income: 299\n",
      "Number of outliers for Children: 302\n",
      "Number of outliers for Outage in seconds/week: 503\n",
      "Number of outliers for Monthly Charge: 3\n",
      "Number of negative values discovered for Outage in seconds/week: 11\n"
     ]
    }
   ],
   "source": [
    "#Determining number of outliers for the data chosen above\n",
    "print(\"Number of outliers for Income: \" + str((df.Income > 100000).sum()))\n",
    "print(\"Number of outliers for Children: \" + str((df.Children > 7).sum()))\n",
    "print(\"Number of outliers for Outage in seconds/week: \" + str((df.Outage_sec_perweek > 20).sum()))\n",
    "print(\"Number of outliers for Monthly Charge: \" + str((df.MonthlyCharge > 300).sum()))\n",
    "print(\"Number of negative values discovered for Outage in seconds/week: \" + str((df.Outage_sec_perweek < 0).sum()))"
   ]
  },
  {
   "cell_type": "code",
   "execution_count": 10,
   "id": "1c281039-541e-4144-866a-8eba7a7e0f98",
   "metadata": {},
   "outputs": [
    {
     "data": {
      "text/plain": [
       "array([[<Axes: title={'center': 'Children'}>,\n",
       "        <Axes: title={'center': 'Age'}>],\n",
       "       [<Axes: title={'center': 'Income'}>,\n",
       "        <Axes: title={'center': 'Tenure'}>],\n",
       "       [<Axes: title={'center': 'Bandwidth_GB_Year'}>, <Axes: >]],\n",
       "      dtype=object)"
      ]
     },
     "execution_count": 10,
     "metadata": {},
     "output_type": "execute_result"
    },
    {
     "data": {
      "image/png": "[encoded data removed]",
      "text/plain": [
       "<Figure size 1000x1000 with 6 Axes>"
      ]
     },
     "metadata": {},
     "output_type": "display_data"
    }
   ],
   "source": [
    "#Plotting histograms to assess how variables with null values should be treated\n",
    "#Columns containing binary results will be excluded from assessment\n",
    "df.hist(column=[\"Children\", \"Age\", \"Income\", \"Tenure\", \"Bandwidth_GB_Year\"], figsize=(10,10))"
   ]
  },
  {
   "cell_type": "markdown",
   "id": "9bab3d2a-8ab7-421a-a2b2-3bf21cea8c1e",
   "metadata": {},
   "source": [
    "### D1: Findings"
   ]
  },
  {
   "cell_type": "markdown",
   "id": "47a89f12-a6f0-4aad-99b0-8eb11c05d88c",
   "metadata": {},
   "source": [
    "Going in order of the code executed in Part C4.\n",
    "The info table generated demonstrates a few datatypes that can be changed for a few columns. The zip code associated with the customer's billing location should be changed to an object, rather than an integer, as it denotes a location rather than a count of values. The same can be applied for the latitude and longitude columns as well. The age and children columns are expressed within the dataset as full values, rather than fractional numbers, and would be better suited as the int64 data type. The final columns labelled 'item1' through 'item8' indicate an ordinal categorical variable via a Likert scale, and should use the 'category' datatype instead of their current int64. Furthermore, these columns are quite vague and do not indicate their purpose at a glance from the dataset. The column for Education levels contains data that could also be re-expressed in categories, since the data within is ordinal, and demonstrates a specific graduation of education mastery. These values currently expressed as strings could be transformed via ordinal encoding, to fit a likert scale such as the columns 'Item1' - 'Item8'. This would be useful if this variable were to be used for Principal Component Analysis, as PCA can only be performed on numerical data.\n",
    "\n",
    "The variables CaseOrder, Customer_Id, and Interaction Id have all been verified as having a total of 10000 unique data values, indicating that the data stored in these columns are without duplicates, null values, or errors. Following this, the isnull().sum() function has indicated the exact count of null values within the dataset. Overall, the Children, Age, Income, Techie, Phone, TechSupport, Tenure, and Bandwith_GB_year columns all demonstrate missing data values throughout. The first 4 columns noted as having null values are indicated to be user-generated information provided by the customers on sign-up, therefore it is likely that this information was missed at some point during the sign-up phase. The remaining 4 columns appear to be information the company should maintain internally, and an error may have occurred in retrieving this information. The treatment of these null values will be discussed in D2. On a closer look, we can see that some data values fluctuate significantly and carry many outliers. Variables such as customer income demonstrates many outliers that exceed the estimated upper boundaries of its boxplot. While these outliers are extreme, the customer data provided carries relevance, as the higher income levels provided by customers exist within legitimate income ranges. The boxplots also indicate the existence of negative values for Outage in seconds per week which needs to be corrected. With the exception of the negative values noted for outage in seconds, the remainder of the outliers will remain unaffected, as these outliers present relevant data for the company, and for assessment of the research question posed at the beginning of this assessment."
   ]
  },
  {
   "cell_type": "markdown",
   "id": "07875edc-cf2f-4731-a7f0-9d1ae44e2051",
   "metadata": {},
   "source": [
    "# D2: Mitigation Methods"
   ]
  },
  {
   "cell_type": "markdown",
   "id": "b772262c-7f50-4f56-b641-7449a73cb498",
   "metadata": {},
   "source": [
    "To clean my dataset, I will first be changing the aforementioned datatypes to better suit the data stored within each column (billing location variables to object, items 1-8 changed from int64 to category) using the .astype() function from the pandas library. Then I will be renaming the columns item1 - item 8 for better readability and clarity in their purpose by creating a dictionary to replace the titles with more names based on their purpose within company surveys via the .replace() function. Other column values should be replaced for more effective use in future analysis. For example, the timezones listed are expressed in multiple terms that represent the same zone, such as Chicago and Minominee sharing the Central Standard Timezone. Thus, for efficiency and redundancy purposes I will be replacing the timezone values to the 6 standard timezones being Alaska Time, Hawaii Time, Pacific Time, Mountain Time, Central Time, and Eastern Time. As mentioned above, the Education column will be re-expressed categorically as ordinal numbers for potential future use in Principal Component Analysis. Ordinal encoding can be done by first identifying the unique values stored within the Education column, then using a dictionary I can establish the replacement number based upon a linear set of numbers provided within the course textbook (Larose, 2019, p.37).\n",
    "\n",
    "While the outliers identified in C4 will be included as relevant data for company use and possible use within the research question, the negative values found in the Outage column must be converted to positive values using the .abs() function.\n",
    "\n",
    "The columns with null values will need to be treated in their own way based upon the distribution of data found from the histograms plotted in C4 through imputation using the .fillna() function to replace null values with the mean, median, or mode of the data. The Children and Income distribution indicates a right skew, and will be filled using the median. The Age distribution appears uniform, and will be filled using the data's mean. As for Tenure and Bandwidth(GB) per year, their histograms indicate a bimodal distribution, which will require the null values to be filled using the data's mean. For the columns containing null values that contain text-based data, there is no appropriate data to plot on histograms. However for the purposes of this assessment, these variables pose no relevance to my research question and the null values can be interpreted as synonymous with an answer of 'No'. Thus, I feel that it is acceptable to replace their null values with 'No'."
   ]
  },
  {
   "cell_type": "markdown",
   "id": "13db1674-deab-49bd-a674-742bf6913fd3",
   "metadata": {},
   "source": [
    "# D3: Outcome Summary"
   ]
  },
  {
   "cell_type": "markdown",
   "id": "0f60346d-6930-45e8-af63-5cb777fde90f",
   "metadata": {},
   "source": [
    "The following section of code adheres to the mitigation methodology outlined in the D2 section above. As can be seen below, I convert the datatypes for better efficiency in the necessary columns, then check that the datatype has changed through the .info() function. I also renamed any vague columns for better clarity. I then proceed to change the values within the timezone column using a dictionary created to sort the data into broader timezones. The change for these values was confirmed using the .unique() function. Similarly, I applied a dictionary to convert the data within the Education column to re-express them ordinally through numerical data instead. The change was confirmed again through the use of the .unique() function. To fix the negative entries for the Outage column I used the .abs() function to convert the negative values to positive ones and confirmed the change by ensuring that no entries exist below 0 for the Outage variable. Finally, I completed the correction of all null values found within my dataset through varyous imputation methods. Once the null values were filled, I confirmed that no null values were left in the dataset using the .isnull().sum() function. \n",
    "\n",
    "Now that the dataframe has been cleaned, the columns are easier to interpret at a glance, the datatypes are more applicable to data they're connected to, some data was replaced for better efficiency, no erronous negative data values exist, and all null values have been resolved. All visual representations of the cleaned data is provided in section D4."
   ]
  },
  {
   "cell_type": "markdown",
   "id": "a32cbaad-0ba7-425c-9204-93284927eab5",
   "metadata": {},
   "source": [
    "# D4: Mitigation Code"
   ]
  },
  {
   "cell_type": "code",
   "execution_count": 11,
   "id": "c8abe71b-52a7-426a-ba59-273abe241aa5",
   "metadata": {},
   "outputs": [],
   "source": [
    "#Converting all the datatypes for efficiency for billing location variables, education, and items 1-8\n",
    "df[\"Zip\"] = df[\"Zip\"].astype(\"object\")\n",
    "df[\"Lat\"] = df[\"Lat\"].astype(\"object\")\n",
    "df[\"Lng\"] = df[\"Lng\"].astype(\"object\")\n",
    "df[\"Education\"] = df[\"Education\"].astype(\"category\")\n",
    "df[\"item1\"] = df[\"item1\"].astype(\"category\")\n",
    "df[\"item2\"] = df[\"item2\"].astype(\"category\")\n",
    "df[\"item3\"] = df[\"item3\"].astype(\"category\")\n",
    "df[\"item4\"] = df[\"item4\"].astype(\"category\")\n",
    "df[\"item5\"] = df[\"item5\"].astype(\"category\")\n",
    "df[\"item6\"] = df[\"item6\"].astype(\"category\")\n",
    "df[\"item7\"] = df[\"item7\"].astype(\"category\")\n",
    "df[\"item8\"] = df[\"item8\"].astype(\"category\")\n",
    "\n",
    "#Changing the names of item1-8 columns for better clarity based on the data dictionary\n",
    "itemnames = {\"item1\" : \"timely_responses\",\n",
    "             \"item2\" : \"timely_fixes\",\n",
    "             \"item3\" : \"timely_replacements\",\n",
    "             \"item4\" : \"reliability\",\n",
    "             \"item5\" : \"options\",\n",
    "             \"item6\" : \"respectful_response\",\n",
    "             \"item7\" : \"courteous_exchange\",\n",
    "             \"item8\" : \"evidence_of_active_listening\"}\n",
    "\n",
    "df.rename(columns=itemnames, inplace=True)"
   ]
  },
  {
   "cell_type": "code",
   "execution_count": 12,
   "id": "86ae7840-5080-4506-9deb-7a0953c9ab6a",
   "metadata": {},
   "outputs": [
    {
     "name": "stdout",
     "output_type": "stream",
     "text": [
      "<class 'pandas.core.frame.DataFrame'>\n",
      "Int64Index: 10000 entries, 1 to 10000\n",
      "Data columns (total 51 columns):\n",
      " #   Column                        Non-Null Count  Dtype   \n",
      "---  ------                        --------------  -----   \n",
      " 0   CaseOrder                     10000 non-null  int64   \n",
      " 1   Customer_id                   10000 non-null  object  \n",
      " 2   Interaction                   10000 non-null  object  \n",
      " 3   City                          10000 non-null  object  \n",
      " 4   State                         10000 non-null  object  \n",
      " 5   County                        10000 non-null  object  \n",
      " 6   Zip                           10000 non-null  object  \n",
      " 7   Lat                           10000 non-null  object  \n",
      " 8   Lng                           10000 non-null  object  \n",
      " 9   Population                    10000 non-null  int64   \n",
      " 10  Area                          10000 non-null  object  \n",
      " 11  Timezone                      10000 non-null  object  \n",
      " 12  Job                           10000 non-null  object  \n",
      " 13  Children                      7505 non-null   float64 \n",
      " 14  Age                           7525 non-null   float64 \n",
      " 15  Education                     10000 non-null  category\n",
      " 16  Employment                    10000 non-null  object  \n",
      " 17  Income                        7510 non-null   float64 \n",
      " 18  Marital                       10000 non-null  object  \n",
      " 19  Gender                        10000 non-null  object  \n",
      " 20  Churn                         10000 non-null  object  \n",
      " 21  Outage_sec_perweek            10000 non-null  float64 \n",
      " 22  Email                         10000 non-null  int64   \n",
      " 23  Contacts                      10000 non-null  int64   \n",
      " 24  Yearly_equip_failure          10000 non-null  int64   \n",
      " 25  Techie                        7523 non-null   object  \n",
      " 26  Contract                      10000 non-null  object  \n",
      " 27  Port_modem                    10000 non-null  object  \n",
      " 28  Tablet                        10000 non-null  object  \n",
      " 29  InternetService               10000 non-null  object  \n",
      " 30  Phone                         8974 non-null   object  \n",
      " 31  Multiple                      10000 non-null  object  \n",
      " 32  OnlineSecurity                10000 non-null  object  \n",
      " 33  OnlineBackup                  10000 non-null  object  \n",
      " 34  DeviceProtection              10000 non-null  object  \n",
      " 35  TechSupport                   9009 non-null   object  \n",
      " 36  StreamingTV                   10000 non-null  object  \n",
      " 37  StreamingMovies               10000 non-null  object  \n",
      " 38  PaperlessBilling              10000 non-null  object  \n",
      " 39  PaymentMethod                 10000 non-null  object  \n",
      " 40  Tenure                        9069 non-null   float64 \n",
      " 41  MonthlyCharge                 10000 non-null  float64 \n",
      " 42  Bandwidth_GB_Year             8979 non-null   float64 \n",
      " 43  timely_responses              10000 non-null  category\n",
      " 44  timely_fixes                  10000 non-null  category\n",
      " 45  timely_replacements           10000 non-null  category\n",
      " 46  reliability                   10000 non-null  category\n",
      " 47  options                       10000 non-null  category\n",
      " 48  respectful_response           10000 non-null  category\n",
      " 49  courteous_exchange            10000 non-null  category\n",
      " 50  evidence_of_active_listening  10000 non-null  category\n",
      "dtypes: category(9), float64(7), int64(5), object(30)\n",
      "memory usage: 3.4+ MB\n"
     ]
    }
   ],
   "source": [
    "#confirming changes made to datatype and column names\n",
    "df.info()"
   ]
  },
  {
   "cell_type": "code",
   "execution_count": 13,
   "id": "d2dfd6c5-0cde-45b4-acb3-18781fbbddf4",
   "metadata": {},
   "outputs": [
    {
     "data": {
      "text/plain": [
       "array(['America/Sitka', 'America/Detroit', 'America/Los_Angeles',\n",
       "       'America/Chicago', 'America/New_York', 'America/Puerto_Rico',\n",
       "       'America/Denver', 'America/Menominee', 'America/Phoenix',\n",
       "       'America/Indiana/Indianapolis', 'America/Boise',\n",
       "       'America/Kentucky/Louisville', 'Pacific/Honolulu',\n",
       "       'America/Indiana/Petersburg', 'America/Nome', 'America/Anchorage',\n",
       "       'America/Indiana/Knox', 'America/Juneau', 'America/Toronto',\n",
       "       'America/Indiana/Winamac', 'America/Indiana/Vincennes',\n",
       "       'America/North_Dakota/New_Salem', 'America/Indiana/Tell_City',\n",
       "       'America/Indiana/Marengo', 'America/Ojinaga'], dtype=object)"
      ]
     },
     "execution_count": 13,
     "metadata": {},
     "output_type": "execute_result"
    }
   ],
   "source": [
    "#Identifying the unique values for replacement within the Timezone column\n",
    "df.Timezone.unique()"
   ]
  },
  {
   "cell_type": "code",
   "execution_count": 14,
   "id": "3ba3baa6-ad3d-4e5a-87c5-94d1316eb383",
   "metadata": {},
   "outputs": [],
   "source": [
    "#Building and using a dictionary to reduce data bloat in the Timezone column\n",
    "timezones = {\"America/Anchorage\" : \"Alaska Time\",\n",
    "             \"America/Juneau\" : \"Alaska Time\",\n",
    "             \"America/Nome\" : \"Alaska Time\",\n",
    "             \"America/Sitka\" : \"Alaska Time\",\n",
    "             \"Pacific/Honolulu\" : \"Hawaiian Time\",\n",
    "             \"America/Los_Angeles\" : \"Pacific Time\",\n",
    "             \"America/Boise\" : \"Mountain Time\",\n",
    "             \"America/Denver\" : \"Mountain Time\",\n",
    "             \"America/Phoenix\" : \"Mountain Time\",\n",
    "             \"America/Chicago\" : \"Central Time\",\n",
    "             \"America/Indiana/Knox\" : \"Central Time\",\n",
    "             \"America/Indiana/Marengo\" : \"Central Time\",\n",
    "             \"America/Indiana/Tell_City\" : \"Central Time\",\n",
    "             \"America/Menominee\" : \"Central Time\",\n",
    "             \"America/North_Dakota/Beulah\" : \"Central Time\",\n",
    "             \"America/North_Dakota/New_Salem\" : \"Central Time\",\n",
    "             \"America/Ojinaga\" : \"Central Time\",\n",
    "             \"America/Detroit\" : \"Eastern Time\",\n",
    "             \"America/Indiana/Indianapolis\" : \"Eastern Time\",\n",
    "             \"America/Indiana/Marengo\" : \"Eastern Time\",\n",
    "             \"America/Indiana/Petersburg\" : \"Eastern Time\",\n",
    "             \"America/Indiana/Vincennes\" : \"Eastern Time\",\n",
    "             \"America/Indiana/Winamac\" : \"Eastern Time\",\n",
    "             \"America/Kentucky/Louisville\" : \"Eastern Time\",\n",
    "             \"America/New_York\" : \"Eastern Time\",\n",
    "             \"America/Toronto\" : \"Eastern Time\",\n",
    "             \"America/Puerto_Rico\" : \"Atlantic Time\"}\n",
    "\n",
    "df.replace(timezones, inplace=True)"
   ]
  },
  {
   "cell_type": "code",
   "execution_count": 15,
   "id": "9b554abb-e929-40eb-981f-a2ad7851f390",
   "metadata": {},
   "outputs": [
    {
     "data": {
      "text/plain": [
       "array(['Alaska Time', 'Eastern Time', 'Pacific Time', 'Central Time',\n",
       "       'Atlantic Time', 'Mountain Time', 'Hawaiian Time'], dtype=object)"
      ]
     },
     "execution_count": 15,
     "metadata": {},
     "output_type": "execute_result"
    }
   ],
   "source": [
    "#verifying that the timezone values have been replaced\n",
    "df.Timezone.unique()"
   ]
  },
  {
   "cell_type": "code",
   "execution_count": 16,
   "id": "f293e223-033b-4c8a-b126-2e74ae0be0e3",
   "metadata": {},
   "outputs": [
    {
     "data": {
      "text/plain": [
       "Regular High School Diploma                 2421\n",
       "Bachelor's Degree                           1703\n",
       "Some College, 1 or More Years, No Degree    1562\n",
       "9th Grade to 12th Grade, No Diploma          870\n",
       "Master's Degree                              764\n",
       "Associate's Degree                           760\n",
       "Some College, Less than 1 Year               652\n",
       "Nursery School to 8th Grade                  449\n",
       "GED or Alternative Credential                387\n",
       "Professional School Degree                   198\n",
       "No Schooling Completed                       118\n",
       "Doctorate Degree                             116\n",
       "Name: Education, dtype: int64"
      ]
     },
     "execution_count": 16,
     "metadata": {},
     "output_type": "execute_result"
    }
   ],
   "source": [
    "#identifying the unique values in the Education column\n",
    "#originally intended to use the .unique() function but that provided a truncated array so I opted for .value_counts() instead\n",
    "df.Education.value_counts()"
   ]
  },
  {
   "cell_type": "code",
   "execution_count": 17,
   "id": "64e45b8a-f4a8-4c4e-ab5e-0fb92dcd5d19",
   "metadata": {},
   "outputs": [],
   "source": [
    "#Creating the dictionary and replacing the data within the Education column for ordinal data based on values from the textbook, \n",
    "#and from estimated grade completed (Larose, 2019, p.37).\n",
    "dict_edu = {\"No Schooling Completed\" : 0,\n",
    "            \"Nursery School to 8th Grade\" : 8,\n",
    "            \"9th Grade to 12th Grade, No Diploma\" : 11,\n",
    "            \"Regular High School Diploma\" : 12,\n",
    "            \"GED or Alternative Credential\" : 12,\n",
    "            \"Some College, Less than 1 Year\" : 12,\n",
    "            \"Some College, 1 or More Years, No Degree\" : 13,\n",
    "            \"Associate's Degree\" : 14,\n",
    "            \"Bachelor's Degree\" : 16,\n",
    "            \"Professional School Degree\" : 18,\n",
    "            \"Master's Degree\" : 18,\n",
    "            \"Doctorate Degree\" : 20}\n",
    "\n",
    "df.replace(dict_edu, inplace=True)"
   ]
  },
  {
   "cell_type": "code",
   "execution_count": 18,
   "id": "58db0a5c-6541-406e-8dcb-c522db669a69",
   "metadata": {},
   "outputs": [
    {
     "data": {
      "text/plain": [
       "[18, 12, 20, 0, 14, 16, 13, 11, 8]\n",
       "Categories (9, int64): [11, 14, 16, 20, ..., 8, 18, 12, 13]"
      ]
     },
     "execution_count": 18,
     "metadata": {},
     "output_type": "execute_result"
    }
   ],
   "source": [
    "#verifying that the education values have been replaced\n",
    "df.Education.unique()"
   ]
  },
  {
   "cell_type": "code",
   "execution_count": 19,
   "id": "ed3442ae-d50a-40c4-8fc7-1c924f362edf",
   "metadata": {},
   "outputs": [],
   "source": [
    "#fixing the negative values in the Outage column using the .abs() function\n",
    "df[\"Outage_sec_perweek\"] = df[\"Outage_sec_perweek\"].abs()"
   ]
  },
  {
   "cell_type": "code",
   "execution_count": 20,
   "id": "a244f09d-1cbb-4aca-8be9-c19ce8ae9b8b",
   "metadata": {},
   "outputs": [
    {
     "name": "stdout",
     "output_type": "stream",
     "text": [
      "0\n"
     ]
    }
   ],
   "source": [
    "#Verifying that there are no more negative values in the outage column\n",
    "print((df.Outage_sec_perweek < 0).sum())"
   ]
  },
  {
   "cell_type": "code",
   "execution_count": 21,
   "id": "bec473a5-3cd0-4e05-9902-7ebba06b4e82",
   "metadata": {},
   "outputs": [],
   "source": [
    "#fixing all the null values for numerical data through imputation\n",
    "df[\"Children\"].fillna(df[\"Children\"].median(), inplace=True)\n",
    "df[\"Age\"].fillna(df[\"Age\"].mean().round(), inplace=True)\n",
    "df[\"Income\"].fillna(df[\"Income\"].median(), inplace=True)\n",
    "df[\"Tenure\"].fillna(df[\"Tenure\"].mean().round(4), inplace=True)\n",
    "df[\"Bandwidth_GB_Year\"].fillna(df[\"Bandwidth_GB_Year\"].mean(), inplace=True)\n",
    "\n",
    "#fixing all null values for binary data by replacing null values with \"No\"\n",
    "df[\"Techie\"].fillna(\"No\", inplace=True)\n",
    "df[\"Phone\"].fillna(\"No\", inplace=True)\n",
    "df[\"TechSupport\"].fillna(\"No\", inplace=True)"
   ]
  },
  {
   "cell_type": "code",
   "execution_count": 22,
   "id": "3dbd7558-0483-40c7-8357-9d71c5f7e620",
   "metadata": {},
   "outputs": [
    {
     "data": {
      "text/plain": [
       "CaseOrder                       0\n",
       "Customer_id                     0\n",
       "Interaction                     0\n",
       "City                            0\n",
       "State                           0\n",
       "County                          0\n",
       "Zip                             0\n",
       "Lat                             0\n",
       "Lng                             0\n",
       "Population                      0\n",
       "Area                            0\n",
       "Timezone                        0\n",
       "Job                             0\n",
       "Children                        0\n",
       "Age                             0\n",
       "Education                       0\n",
       "Employment                      0\n",
       "Income                          0\n",
       "Marital                         0\n",
       "Gender                          0\n",
       "Churn                           0\n",
       "Outage_sec_perweek              0\n",
       "Email                           0\n",
       "Contacts                        0\n",
       "Yearly_equip_failure            0\n",
       "Techie                          0\n",
       "Contract                        0\n",
       "Port_modem                      0\n",
       "Tablet                          0\n",
       "InternetService                 0\n",
       "Phone                           0\n",
       "Multiple                        0\n",
       "OnlineSecurity                  0\n",
       "OnlineBackup                    0\n",
       "DeviceProtection                0\n",
       "TechSupport                     0\n",
       "StreamingTV                     0\n",
       "StreamingMovies                 0\n",
       "PaperlessBilling                0\n",
       "PaymentMethod                   0\n",
       "Tenure                          0\n",
       "MonthlyCharge                   0\n",
       "Bandwidth_GB_Year               0\n",
       "timely_responses                0\n",
       "timely_fixes                    0\n",
       "timely_replacements             0\n",
       "reliability                     0\n",
       "options                         0\n",
       "respectful_response             0\n",
       "courteous_exchange              0\n",
       "evidence_of_active_listening    0\n",
       "dtype: int64"
      ]
     },
     "execution_count": 22,
     "metadata": {},
     "output_type": "execute_result"
    }
   ],
   "source": [
    "#verifying any existing null values within the dataframe\n",
    "df.isnull().sum()"
   ]
  },
  {
   "cell_type": "markdown",
   "id": "b776fcc1-4472-4162-87f0-ad846552faf3",
   "metadata": {},
   "source": [
    "# D5: Clean Data Output"
   ]
  },
  {
   "cell_type": "code",
   "execution_count": 23,
   "id": "dc3574b6-2215-4ff9-9e97-91e31cb189a4",
   "metadata": {},
   "outputs": [],
   "source": [
    "#outputting the data to a new csv\n",
    "df.to_csv('clean_churn.csv')"
   ]
  },
  {
   "cell_type": "markdown",
   "id": "2b20dd36-03e0-48c6-a833-4bcf62a0c730",
   "metadata": {},
   "source": [
    "# D6: Data Cleaning Limitations"
   ]
  },
  {
   "cell_type": "markdown",
   "id": "885e75a5-0832-4765-b610-48a21f8866dc",
   "metadata": {},
   "source": [
    "The major limitation noted while cleaning data are the significant amount of null data values present within the dataset. While the analytical methods used were successfully able to identify and isolate these missing values, not much could necessarily be done to provide a balanced way to fill these null values without introducing bias into the dataset."
   ]
  },
  {
   "cell_type": "markdown",
   "id": "43dedce5-6fd0-42f7-8a86-cf677298718c",
   "metadata": {},
   "source": [
    "# D7: Discussion of Limitations"
   ]
  },
  {
   "cell_type": "markdown",
   "id": "470ed74a-3de0-4268-9259-f922a376a044",
   "metadata": {},
   "source": [
    "Through my analysis of the quality of the data available within the churn dataset, all numerical null values had to be imputed using either the median or the mode, while the non-numerical data had to simply be given values of \"no\". This has the potential to introduce bias within the cleaned dataset, as imputation was done uniformly across all the null values per column, generating a significant quantity of the same value. As such, any relevance that these variables could have in answering my research question may result in an inaccurate conclusion as the data used will not entirely provide an accurate reflection of the sample data collected."
   ]
  },
  {
   "cell_type": "markdown",
   "id": "6847967d-21d3-4dd2-9768-a7eec485cfc2",
   "metadata": {},
   "source": [
    "# E1: Principal Components"
   ]
  },
  {
   "cell_type": "markdown",
   "id": "7fe55c04-d29f-4c94-a6b4-03d1397a4a05",
   "metadata": {},
   "source": [
    "In conducting a Principal Component Analysis, it is most appropriate to utilize numerical variables. As such, I will be using population, children, age, income, weekly outages, email, contacts, yearly equipment failure, tenure, monthly charge, and annual bandwidth(GB) usage for my PCA."
   ]
  },
  {
   "cell_type": "code",
   "execution_count": 24,
   "id": "d8ea381a-d4ef-4976-ad00-c8e5739ac4d4",
   "metadata": {},
   "outputs": [
    {
     "data": {
      "text/html": [
       "<style>#sk-container-id-1 {color: black;background-color: white;}#sk-container-id-1 pre{padding: 0;}#sk-container-id-1 div.sk-toggleable {background-color: white;}#sk-container-id-1 label.sk-toggleable__label {cursor: pointer;display: block;width: 100%;margin-bottom: 0;padding: 0.3em;box-sizing: border-box;text-align: center;}#sk-container-id-1 label.sk-toggleable__label-arrow:before {content: \"▸\";float: left;margin-right: 0.25em;color: #696969;}#sk-container-id-1 label.sk-toggleable__label-arrow:hover:before {color: black;}#sk-container-id-1 div.sk-estimator:hover label.sk-toggleable__label-arrow:before {color: black;}#sk-container-id-1 div.sk-toggleable__content {max-height: 0;max-width: 0;overflow: hidden;text-align: left;background-color: #f0f8ff;}#sk-container-id-1 div.sk-toggleable__content pre {margin: 0.2em;color: black;border-radius: 0.25em;background-color: #f0f8ff;}#sk-container-id-1 input.sk-toggleable__control:checked~div.sk-toggleable__content {max-height: 200px;max-width: 100%;overflow: auto;}#sk-container-id-1 input.sk-toggleable__control:checked~label.sk-toggleable__label-arrow:before {content: \"▾\";}#sk-container-id-1 div.sk-estimator input.sk-toggleable__control:checked~label.sk-toggleable__label {background-color: #d4ebff;}#sk-container-id-1 div.sk-label input.sk-toggleable__control:checked~label.sk-toggleable__label {background-color: #d4ebff;}#sk-container-id-1 input.sk-hidden--visually {border: 0;clip: rect(1px 1px 1px 1px);clip: rect(1px, 1px, 1px, 1px);height: 1px;margin: -1px;overflow: hidden;padding: 0;position: absolute;width: 1px;}#sk-container-id-1 div.sk-estimator {font-family: monospace;background-color: #f0f8ff;border: 1px dotted black;border-radius: 0.25em;box-sizing: border-box;margin-bottom: 0.5em;}#sk-container-id-1 div.sk-estimator:hover {background-color: #d4ebff;}#sk-container-id-1 div.sk-parallel-item::after {content: \"\";width: 100%;border-bottom: 1px solid gray;flex-grow: 1;}#sk-container-id-1 div.sk-label:hover label.sk-toggleable__label {background-color: #d4ebff;}#sk-container-id-1 div.sk-serial::before {content: \"\";position: absolute;border-left: 1px solid gray;box-sizing: border-box;top: 0;bottom: 0;left: 50%;z-index: 0;}#sk-container-id-1 div.sk-serial {display: flex;flex-direction: column;align-items: center;background-color: white;padding-right: 0.2em;padding-left: 0.2em;position: relative;}#sk-container-id-1 div.sk-item {position: relative;z-index: 1;}#sk-container-id-1 div.sk-parallel {display: flex;align-items: stretch;justify-content: center;background-color: white;position: relative;}#sk-container-id-1 div.sk-item::before, #sk-container-id-1 div.sk-parallel-item::before {content: \"\";position: absolute;border-left: 1px solid gray;box-sizing: border-box;top: 0;bottom: 0;left: 50%;z-index: -1;}#sk-container-id-1 div.sk-parallel-item {display: flex;flex-direction: column;z-index: 1;position: relative;background-color: white;}#sk-container-id-1 div.sk-parallel-item:first-child::after {align-self: flex-end;width: 50%;}#sk-container-id-1 div.sk-parallel-item:last-child::after {align-self: flex-start;width: 50%;}#sk-container-id-1 div.sk-parallel-item:only-child::after {width: 0;}#sk-container-id-1 div.sk-dashed-wrapped {border: 1px dashed gray;margin: 0 0.4em 0.5em 0.4em;box-sizing: border-box;padding-bottom: 0.4em;background-color: white;}#sk-container-id-1 div.sk-label label {font-family: monospace;font-weight: bold;display: inline-block;line-height: 1.2em;}#sk-container-id-1 div.sk-label-container {text-align: center;}#sk-container-id-1 div.sk-container {/* jupyter's `normalize.less` sets `[hidden] { display: none; }` but bootstrap.min.css set `[hidden] { display: none !important; }` so we also need the `!important` here to be able to override the default hidden behavior on the sphinx rendered scikit-learn.org. See: https://github.com/scikit-learn/scikit-learn/issues/21755 */display: inline-block !important;position: relative;}#sk-container-id-1 div.sk-text-repr-fallback {display: none;}</style><div id=\"sk-container-id-1\" class=\"sk-top-container\"><div class=\"sk-text-repr-fallback\"><pre>PCA(n_components=11)</pre><b>In a Jupyter environment, please rerun this cell to show the HTML representation or trust the notebook. <br />On GitHub, the HTML representation is unable to render, please try loading this page with nbviewer.org.</b></div><div class=\"sk-container\" hidden><div class=\"sk-item\"><div class=\"sk-estimator sk-toggleable\"><input class=\"sk-toggleable__control sk-hidden--visually\" id=\"sk-estimator-id-1\" type=\"checkbox\" checked><label for=\"sk-estimator-id-1\" class=\"sk-toggleable__label sk-toggleable__label-arrow\">PCA</label><div class=\"sk-toggleable__content\"><pre>PCA(n_components=11)</pre></div></div></div></div></div>"
      ],
      "text/plain": [
       "PCA(n_components=11)"
      ]
     },
     "execution_count": 24,
     "metadata": {},
     "output_type": "execute_result"
    }
   ],
   "source": [
    "#Establishing the columns for use in my PCA\n",
    "df_pca = df[[\"Population\", \"Children\", \"Age\", \"Income\", \"Outage_sec_perweek\", \"Email\", \"Contacts\", \n",
    "             \"Yearly_equip_failure\", \"Tenure\", \"MonthlyCharge\", \"Bandwidth_GB_Year\"]]\n",
    "\n",
    "#Normalizing the data to prevent significant influence from one variable\n",
    "df_normalized = (df_pca-df_pca.mean())/df_pca.std()\n",
    "\n",
    "#shaping the data based on number of principal components\n",
    "pca = PCA(n_components=df_pca.shape[1])\n",
    "\n",
    "#fitting PCA onto normalized dataset, generate number of principal components\n",
    "pca.fit(df_normalized)"
   ]
  },
  {
   "cell_type": "code",
   "execution_count": 25,
   "id": "2c598040-b6e3-4503-96ee-ddf303506af2",
   "metadata": {},
   "outputs": [
    {
     "data": {
      "text/html": [
       "<div>\n",
       "<style scoped>\n",
       "    .dataframe tbody tr th:only-of-type {\n",
       "        vertical-align: middle;\n",
       "    }\n",
       "\n",
       "    .dataframe tbody tr th {\n",
       "        vertical-align: top;\n",
       "    }\n",
       "\n",
       "    .dataframe thead th {\n",
       "        text-align: right;\n",
       "    }\n",
       "</style>\n",
       "<table border=\"1\" class=\"dataframe\">\n",
       "  <thead>\n",
       "    <tr style=\"text-align: right;\">\n",
       "      <th></th>\n",
       "      <th>PC1</th>\n",
       "      <th>PC2</th>\n",
       "      <th>PC3</th>\n",
       "      <th>PC4</th>\n",
       "      <th>PC5</th>\n",
       "      <th>PC6</th>\n",
       "      <th>PC7</th>\n",
       "      <th>PC8</th>\n",
       "      <th>PC9</th>\n",
       "      <th>PC10</th>\n",
       "      <th>PC11</th>\n",
       "    </tr>\n",
       "  </thead>\n",
       "  <tbody>\n",
       "    <tr>\n",
       "      <th>Population</th>\n",
       "      <td>-0.000267</td>\n",
       "      <td>-0.055602</td>\n",
       "      <td>-0.317050</td>\n",
       "      <td>-0.384334</td>\n",
       "      <td>-0.037352</td>\n",
       "      <td>0.658271</td>\n",
       "      <td>0.435356</td>\n",
       "      <td>-0.050337</td>\n",
       "      <td>-0.349125</td>\n",
       "      <td>0.000922</td>\n",
       "      <td>-0.000808</td>\n",
       "    </tr>\n",
       "    <tr>\n",
       "      <th>Children</th>\n",
       "      <td>-0.002084</td>\n",
       "      <td>0.023891</td>\n",
       "      <td>0.553520</td>\n",
       "      <td>-0.199639</td>\n",
       "      <td>0.052573</td>\n",
       "      <td>0.211282</td>\n",
       "      <td>-0.492083</td>\n",
       "      <td>0.257893</td>\n",
       "      <td>-0.544692</td>\n",
       "      <td>0.009651</td>\n",
       "      <td>-0.018539</td>\n",
       "    </tr>\n",
       "    <tr>\n",
       "      <th>Age</th>\n",
       "      <td>-0.012216</td>\n",
       "      <td>-0.047919</td>\n",
       "      <td>-0.364715</td>\n",
       "      <td>0.519617</td>\n",
       "      <td>-0.102832</td>\n",
       "      <td>0.199872</td>\n",
       "      <td>-0.439701</td>\n",
       "      <td>-0.479996</td>\n",
       "      <td>-0.324142</td>\n",
       "      <td>0.121406</td>\n",
       "      <td>0.021702</td>\n",
       "    </tr>\n",
       "    <tr>\n",
       "      <th>Income</th>\n",
       "      <td>0.006268</td>\n",
       "      <td>-0.004105</td>\n",
       "      <td>0.241762</td>\n",
       "      <td>0.178956</td>\n",
       "      <td>0.767954</td>\n",
       "      <td>0.414629</td>\n",
       "      <td>-0.000112</td>\n",
       "      <td>-0.210929</td>\n",
       "      <td>0.313798</td>\n",
       "      <td>-0.069551</td>\n",
       "      <td>0.001275</td>\n",
       "    </tr>\n",
       "    <tr>\n",
       "      <th>Outage_sec_perweek</th>\n",
       "      <td>0.022349</td>\n",
       "      <td>0.706462</td>\n",
       "      <td>0.021275</td>\n",
       "      <td>-0.010085</td>\n",
       "      <td>0.014767</td>\n",
       "      <td>0.057569</td>\n",
       "      <td>0.053111</td>\n",
       "      <td>0.016042</td>\n",
       "      <td>0.051982</td>\n",
       "      <td>0.700389</td>\n",
       "      <td>0.000432</td>\n",
       "    </tr>\n",
       "    <tr>\n",
       "      <th>Email</th>\n",
       "      <td>-0.021106</td>\n",
       "      <td>0.057027</td>\n",
       "      <td>-0.335689</td>\n",
       "      <td>-0.526405</td>\n",
       "      <td>-0.057123</td>\n",
       "      <td>0.172234</td>\n",
       "      <td>-0.602241</td>\n",
       "      <td>-0.005833</td>\n",
       "      <td>0.455824</td>\n",
       "      <td>-0.055215</td>\n",
       "      <td>0.005699</td>\n",
       "    </tr>\n",
       "    <tr>\n",
       "      <th>Contacts</th>\n",
       "      <td>0.004559</td>\n",
       "      <td>-0.007840</td>\n",
       "      <td>-0.433830</td>\n",
       "      <td>0.330459</td>\n",
       "      <td>0.246952</td>\n",
       "      <td>0.091517</td>\n",
       "      <td>-0.089746</td>\n",
       "      <td>0.789139</td>\n",
       "      <td>-0.048105</td>\n",
       "      <td>0.005272</td>\n",
       "      <td>-0.002963</td>\n",
       "    </tr>\n",
       "    <tr>\n",
       "      <th>Yearly_equip_failure</th>\n",
       "      <td>0.015907</td>\n",
       "      <td>0.058043</td>\n",
       "      <td>0.301967</td>\n",
       "      <td>0.349381</td>\n",
       "      <td>-0.574420</td>\n",
       "      <td>0.515736</td>\n",
       "      <td>0.028626</td>\n",
       "      <td>0.167215</td>\n",
       "      <td>0.377032</td>\n",
       "      <td>-0.127459</td>\n",
       "      <td>-0.002362</td>\n",
       "    </tr>\n",
       "    <tr>\n",
       "      <th>Tenure</th>\n",
       "      <td>0.704918</td>\n",
       "      <td>-0.058168</td>\n",
       "      <td>-0.018070</td>\n",
       "      <td>-0.004471</td>\n",
       "      <td>-0.003156</td>\n",
       "      <td>-0.000650</td>\n",
       "      <td>-0.017948</td>\n",
       "      <td>-0.015933</td>\n",
       "      <td>0.010816</td>\n",
       "      <td>0.038142</td>\n",
       "      <td>-0.705126</td>\n",
       "    </tr>\n",
       "    <tr>\n",
       "      <th>MonthlyCharge</th>\n",
       "      <td>0.045406</td>\n",
       "      <td>0.696263</td>\n",
       "      <td>-0.093615</td>\n",
       "      <td>0.040317</td>\n",
       "      <td>0.032785</td>\n",
       "      <td>-0.053074</td>\n",
       "      <td>0.011776</td>\n",
       "      <td>-0.069263</td>\n",
       "      <td>-0.150895</td>\n",
       "      <td>-0.684732</td>\n",
       "      <td>-0.048086</td>\n",
       "    </tr>\n",
       "    <tr>\n",
       "      <th>Bandwidth_GB_Year</th>\n",
       "      <td>0.706836</td>\n",
       "      <td>-0.009350</td>\n",
       "      <td>0.002406</td>\n",
       "      <td>-0.016866</td>\n",
       "      <td>0.001757</td>\n",
       "      <td>-0.004167</td>\n",
       "      <td>-0.011469</td>\n",
       "      <td>0.005121</td>\n",
       "      <td>-0.007424</td>\n",
       "      <td>-0.012268</td>\n",
       "      <td>0.706839</td>\n",
       "    </tr>\n",
       "  </tbody>\n",
       "</table>\n",
       "</div>"
      ],
      "text/plain": [
       "                           PC1       PC2       PC3       PC4       PC5  \\\n",
       "Population           -0.000267 -0.055602 -0.317050 -0.384334 -0.037352   \n",
       "Children             -0.002084  0.023891  0.553520 -0.199639  0.052573   \n",
       "Age                  -0.012216 -0.047919 -0.364715  0.519617 -0.102832   \n",
       "Income                0.006268 -0.004105  0.241762  0.178956  0.767954   \n",
       "Outage_sec_perweek    0.022349  0.706462  0.021275 -0.010085  0.014767   \n",
       "Email                -0.021106  0.057027 -0.335689 -0.526405 -0.057123   \n",
       "Contacts              0.004559 -0.007840 -0.433830  0.330459  0.246952   \n",
       "Yearly_equip_failure  0.015907  0.058043  0.301967  0.349381 -0.574420   \n",
       "Tenure                0.704918 -0.058168 -0.018070 -0.004471 -0.003156   \n",
       "MonthlyCharge         0.045406  0.696263 -0.093615  0.040317  0.032785   \n",
       "Bandwidth_GB_Year     0.706836 -0.009350  0.002406 -0.016866  0.001757   \n",
       "\n",
       "                           PC6       PC7       PC8       PC9      PC10  \\\n",
       "Population            0.658271  0.435356 -0.050337 -0.349125  0.000922   \n",
       "Children              0.211282 -0.492083  0.257893 -0.544692  0.009651   \n",
       "Age                   0.199872 -0.439701 -0.479996 -0.324142  0.121406   \n",
       "Income                0.414629 -0.000112 -0.210929  0.313798 -0.069551   \n",
       "Outage_sec_perweek    0.057569  0.053111  0.016042  0.051982  0.700389   \n",
       "Email                 0.172234 -0.602241 -0.005833  0.455824 -0.055215   \n",
       "Contacts              0.091517 -0.089746  0.789139 -0.048105  0.005272   \n",
       "Yearly_equip_failure  0.515736  0.028626  0.167215  0.377032 -0.127459   \n",
       "Tenure               -0.000650 -0.017948 -0.015933  0.010816  0.038142   \n",
       "MonthlyCharge        -0.053074  0.011776 -0.069263 -0.150895 -0.684732   \n",
       "Bandwidth_GB_Year    -0.004167 -0.011469  0.005121 -0.007424 -0.012268   \n",
       "\n",
       "                          PC11  \n",
       "Population           -0.000808  \n",
       "Children             -0.018539  \n",
       "Age                   0.021702  \n",
       "Income                0.001275  \n",
       "Outage_sec_perweek    0.000432  \n",
       "Email                 0.005699  \n",
       "Contacts             -0.002963  \n",
       "Yearly_equip_failure -0.002362  \n",
       "Tenure               -0.705126  \n",
       "MonthlyCharge        -0.048086  \n",
       "Bandwidth_GB_Year     0.706839  "
      ]
     },
     "execution_count": 25,
     "metadata": {},
     "output_type": "execute_result"
    }
   ],
   "source": [
    "#creating and loading new PCA dataframe using the normalized data\n",
    "df_pca_loading = pd.DataFrame(pca.components_.T,\n",
    "                              columns=[\"PC1\", \"PC2\", \"PC3\", \"PC4\", \"PC5\", \"PC6\",\"PC7\", \n",
    "                                       \"PC8\",\"PC9\",\"PC10\", \"PC11\"],\n",
    "                             index=df_normalized.columns)\n",
    "\n",
    "df_pca_loading"
   ]
  },
  {
   "cell_type": "markdown",
   "id": "d8e2c376-f083-489d-8c44-53431f4719f3",
   "metadata": {},
   "source": [
    "The principal components generated from this dataset appear to primarily be PC1, PC2, PC3, PC4, PC5 and PC6 based upon the absolute values closest to 1 in each column."
   ]
  },
  {
   "cell_type": "markdown",
   "id": "ca1f0e1c-49ca-4b73-a29d-4a197e9a979f",
   "metadata": {},
   "source": [
    "# E2: Reduced Number of Principal Components"
   ]
  },
  {
   "cell_type": "code",
   "execution_count": 26,
   "id": "599a374d-5d0e-45f7-80c2-81267c6b9095",
   "metadata": {},
   "outputs": [
    {
     "data": {
      "image/png": "[encoded data removed]",
      "text/plain": [
       "<Figure size 640x480 with 1 Axes>"
      ]
     },
     "metadata": {},
     "output_type": "display_data"
    },
    {
     "data": {
      "text/plain": [
       "[1.89684282168499,\n",
       " 1.1317698894806254,\n",
       " 1.0478969056532632,\n",
       " 1.02293035535664,\n",
       " 1.003793511439029,\n",
       " 0.995776023433323,\n",
       " 0.98807201665985,\n",
       " 0.981297449659488,\n",
       " 0.962463226475956,\n",
       " 0.8650811957710942,\n",
       " 0.10297660438580092]"
      ]
     },
     "execution_count": 26,
     "metadata": {},
     "output_type": "execute_result"
    }
   ],
   "source": [
    "#creating covariance matrix\n",
    "cov_matrix = np.dot(df_normalized.T, df_normalized)/df_pca.shape[0]\n",
    "\n",
    "#creating eigenvectors\n",
    "eigenvalues = [np.dot(eigenvector.T, np.dot(cov_matrix, eigenvector)) for eigenvector in pca.components_]\n",
    "\n",
    "#plotting the eigenvectors in a screeplot with a line across the y axis at y=1 for use in the Kaiser Rule\n",
    "plt.plot(eigenvalues)\n",
    "plt.xlabel(\"Number of Components\")\n",
    "plt.ylabel(\"Eigenvalue\")\n",
    "plt.axhline(y=1, color=\"black\")\n",
    "plt.show()\n",
    "\n",
    "#printing the eigenvalues as a list for better clarity in Kaiser Rule\n",
    "eigenvalues"
   ]
  },
  {
   "cell_type": "markdown",
   "id": "201f9f62-e43b-4e54-a90a-24af9e2a16e6",
   "metadata": {},
   "source": [
    "From the above, we can see that the relevant PCs to be kept based on the Kaiser rule are PCs 1-5 as their eigenvalues are all higher than 1."
   ]
  },
  {
   "cell_type": "markdown",
   "id": "9a6de7e6-3163-459a-a623-8207b4402498",
   "metadata": {},
   "source": [
    "# E3: Benefits of PCA"
   ]
  },
  {
   "cell_type": "markdown",
   "id": "4b11ecfb-f34a-4b8a-bb26-ff26a83ddf9f",
   "metadata": {},
   "source": [
    "While seemingly unrelated, the PCA conducted above can group factors together for assessment of correlation by reducing dimensionality between variables. In doing so, the identification of a PC can be utilized by companies to determine how these variables may contribute to a particular outcome. Using the research question posed above as an example, organizations could find PCA to be significantly beneficial for extracting groups of factors that play a role in the churn rate for customers. Rather than assess the correlation that each variable has independently, a greater perspective can be gained through the combined influence of the factors above, leading to a reduction in time spent analysing each variable."
   ]
  },
  {
   "cell_type": "markdown",
   "id": "be3448ef-00e5-4a29-92cf-3ac1991eb675",
   "metadata": {},
   "source": [
    "# F: Panopto\n",
    "\n",
    "Panopto video link: https://wgu.hosted.panopto.com/Panopto/Pages/Viewer.aspx?id=980f9552-14fe-4c48-910c-b12e00f9f2a3"
   ]
  },
  {
   "cell_type": "markdown",
   "id": "a8b5f17c-8956-43d3-b210-eeb7f4e91f9d",
   "metadata": {},
   "source": [
    "# G: Code Citations\n",
    "\n",
    "Saturn Cloud. (2023, June 12). Tables in markdown in Jupyter. Saturn Cloud Blog. https://saturncloud.io/blog/tables-in-markdown-in-jupyter/ \n",
    "\n",
    "All other code used within performance assessment modeled after those taught in WGU Courseware Resources and Dr. Middleton's webinar videos."
   ]
  },
  {
   "cell_type": "markdown",
   "id": "72bf489a-3555-4e6b-8d10-9087922f4efa",
   "metadata": {},
   "source": [
    "# H: Text Citations\n",
    "\n",
    "Chantal D. Larose; Daniel T. Larose. (2019) Data Science Using Python and R. Hoboken, NJ: Wiley.\n"
   ]
  }
 ],
 "metadata": {
  "kernelspec": {
   "display_name": "Python 3 (ipykernel)",
   "language": "python",
   "name": "python3"
  },
  "language_info": {
   "codemirror_mode": {
    "name": "ipython",
    "version": 3
   },
   "file_extension": ".py",
   "mimetype": "text/x-python",
   "name": "python",
   "nbconvert_exporter": "python",
   "pygments_lexer": "ipython3",
   "version": "3.11.5"
  }
 },
 "nbformat": 4,
 "nbformat_minor": 5
}
