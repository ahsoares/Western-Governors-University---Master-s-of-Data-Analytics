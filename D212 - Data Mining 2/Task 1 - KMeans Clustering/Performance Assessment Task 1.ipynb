{
 "cells": [
  {
   "cell_type": "markdown",
   "id": "a39b3883-cd17-47a6-99bf-02ad494be3ba",
   "metadata": {},
   "source": [
    "# D212 - Data Mining 2 Performance Assessment Task 1\n",
    "Aidan Soares, 012042436, Western Governors University"
   ]
  },
  {
   "cell_type": "markdown",
   "id": "8b49f19a-65a7-4593-bd37-25a797b1651d",
   "metadata": {},
   "source": [
    "### A1: Research Question\n",
    "For this assessment I will be using the Churn dataset provided by WGU to answer the question \"Can K-means clustering identify and establish meaningful customer groups and clusters, based on the continuous variables selected?\". This question is being posed with the goal of further analysis of market segmentation between the data from customers currently observed within the WGU telecom company, setting the groundwork for insights into potential classification of customer demographics, and the analysis of customer retention based thereupon."
   ]
  },
  {
   "cell_type": "markdown",
   "id": "7cb09af1-3cea-482f-97bf-df91dba42f83",
   "metadata": {},
   "source": [
    "### A2: Goal\n",
    "My goal for this performance assessment is to generate relevant and meaningful clusters of customers within the WGU Telecom Co. dataset. The expectation is that these groups will present opportunities for upper management, as well as the marketing department to identify specific patterns or demographics in the customers that in turn can be assessed for likelihood of satisfaction, churn, or targeted advertising. These insights can also provide the company numerous competitive advantages that could result in significant cost-saving measures in the long run."
   ]
  },
  {
   "cell_type": "markdown",
   "id": "ef20fa64-271e-42c9-925c-6b17962e6244",
   "metadata": {},
   "source": [
    "### B1: Clustering Technique\n",
    "K-Means clustering is an unsupervised machine learning algorithm that engages in pattern recognition and discovery to create clusters of data points from large sets of unsorted data. Unlike supervised learning, unsupervised learning develops and assigns classifications to data without an existing prediction task, there is no training data or targeted variable. As such, k-means is reliant on the distance measured from the center (centroid) of the cluster to 'group' these datapoints among likeness in multiple dimensions of our choosing. The expectation for this technique is to conduct an iterative process on the number of different datapoints, plotting them in a multidimensional space, which establishes that point as a centroid. The algorithm then congregates new datapoints together which creates the cluster, and recalculates the centroid of the cluster based on mean distances between datapoints within each cluster. The algorithm stops changing the centroid when no significant fluctuations in each cluster's centroid occurs with new datapoints (Sharma, 2024).\n",
    "\n",
    "While there can realistically be an infinite amount of clusters identified by our algorithm, data entries with similar variability and patterns would tend to group together in distinct ways, it would be inappropriate if we were to select a small subset of clusters, forcing our algorithm to 'lasso' distant data that is not necessarily the same. Similarly, if we end of being too granular and selecting a large number of clusters then these groups would no longer represent an appropriate subset of customers. Ultimately, it is our responsibility to determine the most appropriate K value (the number of clusters) that can be counted within close distance of the centroid, for the most efficient segmentation of the potential clusters. "
   ]
  },
  {
   "cell_type": "markdown",
   "id": "6f79835c-9287-47ed-bd8a-82bd9cc057cf",
   "metadata": {},
   "source": [
    "### B2: Assumption of K-means Clustering\n",
    "The major assumption of K-means clustering is that the clusters generated through the clustering algorithm are spherical in nature, with equal variance around the final centroid; resulting in a radius that's effectively equal in all directions from the centroid (Geeksforgeeks, 2023). For this analysis I have chosen to utilize a small number of continuous variables to limit the dimensionality of my k-means clustering to maintain clusters that do not break the relative spherical shape of this assumption."
   ]
  },
  {
   "cell_type": "markdown",
   "id": "816b2e93-5ee6-4a0d-af23-aea92fcbe63f",
   "metadata": {},
   "source": [
    "### B3: Packages/Libraries\n",
    "- Pandas: for constructing and manipulating dataframes\n",
    "- Numpy and Scipy: for conducting mathematical operations on arrays\n",
    "- Matplotlib and seaborn: for vizualizations of data\n",
    "- Sklearn: for scaling the data, for reviewing metrics such as inertia and silhouette score, and for conducting my KMeans clustering."
   ]
  },
  {
   "cell_type": "code",
   "execution_count": 1,
   "id": "3feba3ad-fab2-42f2-9b74-49d0e2ddfff3",
   "metadata": {},
   "outputs": [],
   "source": [
    "#importing libraries\n",
    "import pandas as pd\n",
    "import numpy as np\n",
    "import scipy.stats as stats\n",
    "import matplotlib.pyplot as plt\n",
    "import seaborn as sns\n",
    "from sklearn import preprocessing, metrics\n",
    "from sklearn.cluster import KMeans\n",
    "from sklearn.metrics import silhouette_score\n",
    "\n",
    "#importing dataset into a dataframe\n",
    "df = pd.read_csv('churn_clean.csv', index_col=0)"
   ]
  },
  {
   "cell_type": "markdown",
   "id": "e50e0bc7-5451-4d74-82a4-cce970ed907f",
   "metadata": {},
   "source": [
    "### C1: Data Preprocessing Goal\n",
    "The major objective for preprocessing is to scale the selected variables to the same ranges so that I can appropriately utilize them within my KMeans clustering model, if this is not performed then it would be difficult to cluster my datapoints within close proximity to eachother. Additionally, before scaling the data, all entries will be checked for any null and/or duplicate values that need to be omitted or imputed."
   ]
  },
  {
   "cell_type": "markdown",
   "id": "da7e8e9e-88f6-417c-830f-e79fddbaeca3",
   "metadata": {},
   "source": [
    "### C2: Dataset Variables\n",
    "| Variable Name | Continuous/Categorical |\n",
    "| :- | :- |\n",
    "| Tenure | Continuous |\n",
    "| Age | Continuous |\n",
    "| Monthly Charge | Continuous |\n",
    "| Bandwidth | Continuous |"
   ]
  },
  {
   "cell_type": "markdown",
   "id": "90cf770c-0033-4f42-ac30-496032401a3a",
   "metadata": {},
   "source": [
    "### C3: Data Preparation Steps"
   ]
  },
  {
   "cell_type": "code",
   "execution_count": 2,
   "id": "ec5d37f2-17eb-4688-b7d0-4306179e694a",
   "metadata": {},
   "outputs": [
    {
     "name": "stdout",
     "output_type": "stream",
     "text": [
      "<class 'pandas.core.frame.DataFrame'>\n",
      "Int64Index: 10000 entries, 1 to 10000\n",
      "Data columns (total 49 columns):\n",
      " #   Column                Non-Null Count  Dtype  \n",
      "---  ------                --------------  -----  \n",
      " 0   Customer_id           10000 non-null  object \n",
      " 1   Interaction           10000 non-null  object \n",
      " 2   UID                   10000 non-null  object \n",
      " 3   City                  10000 non-null  object \n",
      " 4   State                 10000 non-null  object \n",
      " 5   County                10000 non-null  object \n",
      " 6   Zip                   10000 non-null  int64  \n",
      " 7   Lat                   10000 non-null  float64\n",
      " 8   Lng                   10000 non-null  float64\n",
      " 9   Population            10000 non-null  int64  \n",
      " 10  Area                  10000 non-null  object \n",
      " 11  TimeZone              10000 non-null  object \n",
      " 12  Job                   10000 non-null  object \n",
      " 13  Children              10000 non-null  int64  \n",
      " 14  Age                   10000 non-null  int64  \n",
      " 15  Income                10000 non-null  float64\n",
      " 16  Marital               10000 non-null  object \n",
      " 17  Gender                10000 non-null  object \n",
      " 18  Churn                 10000 non-null  object \n",
      " 19  Outage_sec_perweek    10000 non-null  float64\n",
      " 20  Email                 10000 non-null  int64  \n",
      " 21  Contacts              10000 non-null  int64  \n",
      " 22  Yearly_equip_failure  10000 non-null  int64  \n",
      " 23  Techie                10000 non-null  object \n",
      " 24  Contract              10000 non-null  object \n",
      " 25  Port_modem            10000 non-null  object \n",
      " 26  Tablet                10000 non-null  object \n",
      " 27  InternetService       10000 non-null  object \n",
      " 28  Phone                 10000 non-null  object \n",
      " 29  Multiple              10000 non-null  object \n",
      " 30  OnlineSecurity        10000 non-null  object \n",
      " 31  OnlineBackup          10000 non-null  object \n",
      " 32  DeviceProtection      10000 non-null  object \n",
      " 33  TechSupport           10000 non-null  object \n",
      " 34  StreamingTV           10000 non-null  object \n",
      " 35  StreamingMovies       10000 non-null  object \n",
      " 36  PaperlessBilling      10000 non-null  object \n",
      " 37  PaymentMethod         10000 non-null  object \n",
      " 38  Tenure                10000 non-null  float64\n",
      " 39  MonthlyCharge         10000 non-null  float64\n",
      " 40  Bandwidth_GB_Year     10000 non-null  float64\n",
      " 41  Item1                 10000 non-null  int64  \n",
      " 42  Item2                 10000 non-null  int64  \n",
      " 43  Item3                 10000 non-null  int64  \n",
      " 44  Item4                 10000 non-null  int64  \n",
      " 45  Item5                 10000 non-null  int64  \n",
      " 46  Item6                 10000 non-null  int64  \n",
      " 47  Item7                 10000 non-null  int64  \n",
      " 48  Item8                 10000 non-null  int64  \n",
      "dtypes: float64(7), int64(15), object(27)\n",
      "memory usage: 3.8+ MB\n"
     ]
    },
    {
     "data": {
      "text/plain": [
       "False    10000\n",
       "dtype: int64"
      ]
     },
     "execution_count": 2,
     "metadata": {},
     "output_type": "execute_result"
    }
   ],
   "source": [
    "#printing non-null counts and duplicates within the dataset, in any exist\n",
    "df.info()\n",
    "df.duplicated().value_counts()"
   ]
  },
  {
   "cell_type": "markdown",
   "id": "4c895eef-2a94-45c8-a33d-3d211318843e",
   "metadata": {},
   "source": [
    "As no null values or duplicate entries exist, the dataset does not require any deletion or imputation. Next will be creating a new dataframe containing only the variables necessary for the clustering, and then scaling the data. Once the aforementioned transformations for the dataset are complete, the scaled dataset will be exported into a csv file for submission."
   ]
  },
  {
   "cell_type": "code",
   "execution_count": 3,
   "id": "6a3f8b32-f8c3-4aee-80bd-51d70c835b46",
   "metadata": {},
   "outputs": [
    {
     "data": {
      "text/html": [
       "<div>\n",
       "<style scoped>\n",
       "    .dataframe tbody tr th:only-of-type {\n",
       "        vertical-align: middle;\n",
       "    }\n",
       "\n",
       "    .dataframe tbody tr th {\n",
       "        vertical-align: top;\n",
       "    }\n",
       "\n",
       "    .dataframe thead th {\n",
       "        text-align: right;\n",
       "    }\n",
       "</style>\n",
       "<table border=\"1\" class=\"dataframe\">\n",
       "  <thead>\n",
       "    <tr style=\"text-align: right;\">\n",
       "      <th></th>\n",
       "      <th>Tenure</th>\n",
       "      <th>Age</th>\n",
       "      <th>MonthlyCharge</th>\n",
       "      <th>Bandwidth_GB_Year</th>\n",
       "    </tr>\n",
       "    <tr>\n",
       "      <th>CaseOrder</th>\n",
       "      <th></th>\n",
       "      <th></th>\n",
       "      <th></th>\n",
       "      <th></th>\n",
       "    </tr>\n",
       "  </thead>\n",
       "  <tbody>\n",
       "    <tr>\n",
       "      <th>1</th>\n",
       "      <td>6.795513</td>\n",
       "      <td>68</td>\n",
       "      <td>172.455519</td>\n",
       "      <td>904.536110</td>\n",
       "    </tr>\n",
       "    <tr>\n",
       "      <th>2</th>\n",
       "      <td>1.156681</td>\n",
       "      <td>27</td>\n",
       "      <td>242.632554</td>\n",
       "      <td>800.982766</td>\n",
       "    </tr>\n",
       "    <tr>\n",
       "      <th>3</th>\n",
       "      <td>15.754144</td>\n",
       "      <td>50</td>\n",
       "      <td>159.947583</td>\n",
       "      <td>2054.706961</td>\n",
       "    </tr>\n",
       "    <tr>\n",
       "      <th>4</th>\n",
       "      <td>17.087227</td>\n",
       "      <td>48</td>\n",
       "      <td>119.956840</td>\n",
       "      <td>2164.579412</td>\n",
       "    </tr>\n",
       "    <tr>\n",
       "      <th>5</th>\n",
       "      <td>1.670972</td>\n",
       "      <td>83</td>\n",
       "      <td>149.948316</td>\n",
       "      <td>271.493436</td>\n",
       "    </tr>\n",
       "  </tbody>\n",
       "</table>\n",
       "</div>"
      ],
      "text/plain": [
       "              Tenure  Age  MonthlyCharge  Bandwidth_GB_Year\n",
       "CaseOrder                                                  \n",
       "1           6.795513   68     172.455519         904.536110\n",
       "2           1.156681   27     242.632554         800.982766\n",
       "3          15.754144   50     159.947583        2054.706961\n",
       "4          17.087227   48     119.956840        2164.579412\n",
       "5           1.670972   83     149.948316         271.493436"
      ]
     },
     "execution_count": 3,
     "metadata": {},
     "output_type": "execute_result"
    }
   ],
   "source": [
    "#creating a dataframe that contains only the variables selected above\n",
    "newdf = df[[\"Tenure\", \"Age\", \"MonthlyCharge\", \"Bandwidth_GB_Year\"]]\n",
    "newdf.head()"
   ]
  },
  {
   "cell_type": "code",
   "execution_count": 4,
   "id": "7e7b78ee-73d4-4d21-9203-bde06befb88d",
   "metadata": {},
   "outputs": [
    {
     "data": {
      "text/html": [
       "<div>\n",
       "<style scoped>\n",
       "    .dataframe tbody tr th:only-of-type {\n",
       "        vertical-align: middle;\n",
       "    }\n",
       "\n",
       "    .dataframe tbody tr th {\n",
       "        vertical-align: top;\n",
       "    }\n",
       "\n",
       "    .dataframe thead th {\n",
       "        text-align: right;\n",
       "    }\n",
       "</style>\n",
       "<table border=\"1\" class=\"dataframe\">\n",
       "  <thead>\n",
       "    <tr style=\"text-align: right;\">\n",
       "      <th></th>\n",
       "      <th>Tenure</th>\n",
       "      <th>Age</th>\n",
       "      <th>MonthlyCharge</th>\n",
       "      <th>Bandwidth_GB_Year</th>\n",
       "    </tr>\n",
       "  </thead>\n",
       "  <tbody>\n",
       "    <tr>\n",
       "      <th>0</th>\n",
       "      <td>-1.048746</td>\n",
       "      <td>0.720925</td>\n",
       "      <td>-0.003943</td>\n",
       "      <td>-1.138487</td>\n",
       "    </tr>\n",
       "    <tr>\n",
       "      <th>1</th>\n",
       "      <td>-1.262001</td>\n",
       "      <td>-1.259957</td>\n",
       "      <td>1.630326</td>\n",
       "      <td>-1.185876</td>\n",
       "    </tr>\n",
       "    <tr>\n",
       "      <th>2</th>\n",
       "      <td>-0.709940</td>\n",
       "      <td>-0.148730</td>\n",
       "      <td>-0.295225</td>\n",
       "      <td>-0.612138</td>\n",
       "    </tr>\n",
       "    <tr>\n",
       "      <th>3</th>\n",
       "      <td>-0.659524</td>\n",
       "      <td>-0.245359</td>\n",
       "      <td>-1.226521</td>\n",
       "      <td>-0.561857</td>\n",
       "    </tr>\n",
       "    <tr>\n",
       "      <th>4</th>\n",
       "      <td>-1.242551</td>\n",
       "      <td>1.445638</td>\n",
       "      <td>-0.528086</td>\n",
       "      <td>-1.428184</td>\n",
       "    </tr>\n",
       "  </tbody>\n",
       "</table>\n",
       "</div>"
      ],
      "text/plain": [
       "     Tenure       Age  MonthlyCharge  Bandwidth_GB_Year\n",
       "0 -1.048746  0.720925      -0.003943          -1.138487\n",
       "1 -1.262001 -1.259957       1.630326          -1.185876\n",
       "2 -0.709940 -0.148730      -0.295225          -0.612138\n",
       "3 -0.659524 -0.245359      -1.226521          -0.561857\n",
       "4 -1.242551  1.445638      -0.528086          -1.428184"
      ]
     },
     "execution_count": 4,
     "metadata": {},
     "output_type": "execute_result"
    }
   ],
   "source": [
    "#scaling the data using z-score from the mean (Datacamp, n.d.)\n",
    "scaler = preprocessing.StandardScaler()\n",
    "scaled_df = scaler.fit_transform(newdf)\n",
    "scaled_df = pd.DataFrame(scaled_df, columns = newdf.columns)\n",
    "scaled_df.head()"
   ]
  },
  {
   "cell_type": "markdown",
   "id": "64848725-1150-4df9-b19e-5a124915a6d3",
   "metadata": {},
   "source": [
    "### C4: Prepared Dataset\n",
    "My cleaned and prepared dataset containing only the variables relevant for analysis can be found below, submitted alongside my jupyter notebook."
   ]
  },
  {
   "cell_type": "code",
   "execution_count": 5,
   "id": "b7135368-0ea6-4c5c-a9e4-10ed93c00086",
   "metadata": {},
   "outputs": [],
   "source": [
    "#exporting dataset to csv file\n",
    "scaled_df.to_csv('kmeans_dataset.csv', index=False)"
   ]
  },
  {
   "cell_type": "markdown",
   "id": "6c64eff4-2de6-4a2c-b22e-1ca34fda1b79",
   "metadata": {},
   "source": [
    "### D1: Determining Optimal Cluster Number\n",
    "In determining the optimal cluster number available within the dataset, I will be utilizing the inertia of the clusters. The inertia is the distance between every datapoint and its cluster's centroid. Those values are squared and summed per cluster. In simpler terms, the inertia is sum of squares of distance measured in each cluster. There is an inverse relationship between the total number of clusters in a kmeans algorithm and the inertia of the clusters; the more clusters you have, the closer the measurements can be taken between the centroid and the surrounding datapoints, resulting in a lower inertia. This relationship is not linear, with significant decline in inertia beginnning with lower cluster numbers. As such, as the cluster number gets higher, there will be less drastic variability in the inertia as it approaches a limit.\n",
    "\n",
    "To evaluate the 'optimal' number of clusters within our KMeans algorithm, we will be utilizing a technique known as the Elbow Method. The inertia values will be plotted to assess the sharpest decline in inertia, and once this decline starts to level off, the cluster number will be revealed through the 'elbow' of our plot. Furthermore, we can go further in determining the appropriate number of clusters and evaluate the quality of said clusters through the Silhouette Score method. The silhouette value is a measure of similarity between a datapoint and its own cluster, as compared to other clusters. These values range from -1 to 1, where a higher value demonstrates accurate matching between a datapoint and its cluster. As such, the highest silhouette score will denote the most appropriate cluster number (Gultekin, 2023). However, it may be difficult to achieve a high silhouette (above 0.5) due to the increased dimensionality of the 4 variables I have selected for my analysis."
   ]
  },
  {
   "cell_type": "code",
   "execution_count": 6,
   "id": "7459f94e-8aad-48cf-8543-4d4fcdaba2eb",
   "metadata": {},
   "outputs": [
    {
     "data": {
      "text/plain": [
       "Text(0.5, 1.0, 'Cluster Analysis')"
      ]
     },
     "execution_count": 6,
     "metadata": {},
     "output_type": "execute_result"
    },
    {
     "data": {
      "image/png": "[encoded data removed]",
      "text/plain": [
       "<Figure size 640x480 with 1 Axes>"
      ]
     },
     "metadata": {},
     "output_type": "display_data"
    }
   ],
   "source": [
    "#creating the model for cluster numbers 1-10, using random state 10 to generate same centroids across multiple runs (Kamara, 2024)\n",
    "inertia = []\n",
    "for k in range (1, 11):\n",
    "    imodel = KMeans(n_clusters = k, n_init = 'auto', random_state = 10)\n",
    "    imodel.fit(scaled_df)\n",
    "    inertia.append(imodel.inertia_)\n",
    "\n",
    "#plotting inertia chart from model numbers determined above\n",
    "plt.plot(range(1, 11), inertia, marker = 'o')\n",
    "plt.xlabel(\"Cluster Number\")\n",
    "plt.ylabel(\"Inertia\")\n",
    "plt.title(\"Cluster Analysis\")"
   ]
  },
  {
   "cell_type": "markdown",
   "id": "445ebb57-b73b-438e-8c41-affb55dc4420",
   "metadata": {},
   "source": [
    "As can be seen from the above plot, the inertia drastically drops at cluster number 2 and begins to gradually reduce with each incremental increase in cluster number, demonstrating that the appropriate cluster number is 2 for this analysis."
   ]
  },
  {
   "cell_type": "markdown",
   "id": "aad7aaa8-2e91-40af-8c55-bba433253c02",
   "metadata": {},
   "source": [
    "### D2: Clustering Analysis Code\n",
    "The inertia-based clustering analaysis was performed above with code found in D1. Below is the code utilized to construct the clustering model based on a cluster number of 2."
   ]
  },
  {
   "cell_type": "code",
   "execution_count": 7,
   "id": "19eab2c0-8d1c-48c6-b297-8bf3b58296f7",
   "metadata": {},
   "outputs": [
    {
     "data": {
      "text/html": [
       "<style>#sk-container-id-1 {color: black;background-color: white;}#sk-container-id-1 pre{padding: 0;}#sk-container-id-1 div.sk-toggleable {background-color: white;}#sk-container-id-1 label.sk-toggleable__label {cursor: pointer;display: block;width: 100%;margin-bottom: 0;padding: 0.3em;box-sizing: border-box;text-align: center;}#sk-container-id-1 label.sk-toggleable__label-arrow:before {content: \"▸\";float: left;margin-right: 0.25em;color: #696969;}#sk-container-id-1 label.sk-toggleable__label-arrow:hover:before {color: black;}#sk-container-id-1 div.sk-estimator:hover label.sk-toggleable__label-arrow:before {color: black;}#sk-container-id-1 div.sk-toggleable__content {max-height: 0;max-width: 0;overflow: hidden;text-align: left;background-color: #f0f8ff;}#sk-container-id-1 div.sk-toggleable__content pre {margin: 0.2em;color: black;border-radius: 0.25em;background-color: #f0f8ff;}#sk-container-id-1 input.sk-toggleable__control:checked~div.sk-toggleable__content {max-height: 200px;max-width: 100%;overflow: auto;}#sk-container-id-1 input.sk-toggleable__control:checked~label.sk-toggleable__label-arrow:before {content: \"▾\";}#sk-container-id-1 div.sk-estimator input.sk-toggleable__control:checked~label.sk-toggleable__label {background-color: #d4ebff;}#sk-container-id-1 div.sk-label input.sk-toggleable__control:checked~label.sk-toggleable__label {background-color: #d4ebff;}#sk-container-id-1 input.sk-hidden--visually {border: 0;clip: rect(1px 1px 1px 1px);clip: rect(1px, 1px, 1px, 1px);height: 1px;margin: -1px;overflow: hidden;padding: 0;position: absolute;width: 1px;}#sk-container-id-1 div.sk-estimator {font-family: monospace;background-color: #f0f8ff;border: 1px dotted black;border-radius: 0.25em;box-sizing: border-box;margin-bottom: 0.5em;}#sk-container-id-1 div.sk-estimator:hover {background-color: #d4ebff;}#sk-container-id-1 div.sk-parallel-item::after {content: \"\";width: 100%;border-bottom: 1px solid gray;flex-grow: 1;}#sk-container-id-1 div.sk-label:hover label.sk-toggleable__label {background-color: #d4ebff;}#sk-container-id-1 div.sk-serial::before {content: \"\";position: absolute;border-left: 1px solid gray;box-sizing: border-box;top: 0;bottom: 0;left: 50%;z-index: 0;}#sk-container-id-1 div.sk-serial {display: flex;flex-direction: column;align-items: center;background-color: white;padding-right: 0.2em;padding-left: 0.2em;position: relative;}#sk-container-id-1 div.sk-item {position: relative;z-index: 1;}#sk-container-id-1 div.sk-parallel {display: flex;align-items: stretch;justify-content: center;background-color: white;position: relative;}#sk-container-id-1 div.sk-item::before, #sk-container-id-1 div.sk-parallel-item::before {content: \"\";position: absolute;border-left: 1px solid gray;box-sizing: border-box;top: 0;bottom: 0;left: 50%;z-index: -1;}#sk-container-id-1 div.sk-parallel-item {display: flex;flex-direction: column;z-index: 1;position: relative;background-color: white;}#sk-container-id-1 div.sk-parallel-item:first-child::after {align-self: flex-end;width: 50%;}#sk-container-id-1 div.sk-parallel-item:last-child::after {align-self: flex-start;width: 50%;}#sk-container-id-1 div.sk-parallel-item:only-child::after {width: 0;}#sk-container-id-1 div.sk-dashed-wrapped {border: 1px dashed gray;margin: 0 0.4em 0.5em 0.4em;box-sizing: border-box;padding-bottom: 0.4em;background-color: white;}#sk-container-id-1 div.sk-label label {font-family: monospace;font-weight: bold;display: inline-block;line-height: 1.2em;}#sk-container-id-1 div.sk-label-container {text-align: center;}#sk-container-id-1 div.sk-container {/* jupyter's `normalize.less` sets `[hidden] { display: none; }` but bootstrap.min.css set `[hidden] { display: none !important; }` so we also need the `!important` here to be able to override the default hidden behavior on the sphinx rendered scikit-learn.org. See: https://github.com/scikit-learn/scikit-learn/issues/21755 */display: inline-block !important;position: relative;}#sk-container-id-1 div.sk-text-repr-fallback {display: none;}</style><div id=\"sk-container-id-1\" class=\"sk-top-container\"><div class=\"sk-text-repr-fallback\"><pre>KMeans(n_clusters=2, n_init=&#x27;auto&#x27;, random_state=10)</pre><b>In a Jupyter environment, please rerun this cell to show the HTML representation or trust the notebook. <br />On GitHub, the HTML representation is unable to render, please try loading this page with nbviewer.org.</b></div><div class=\"sk-container\" hidden><div class=\"sk-item\"><div class=\"sk-estimator sk-toggleable\"><input class=\"sk-toggleable__control sk-hidden--visually\" id=\"sk-estimator-id-1\" type=\"checkbox\" checked><label for=\"sk-estimator-id-1\" class=\"sk-toggleable__label sk-toggleable__label-arrow\">KMeans</label><div class=\"sk-toggleable__content\"><pre>KMeans(n_clusters=2, n_init=&#x27;auto&#x27;, random_state=10)</pre></div></div></div></div></div>"
      ],
      "text/plain": [
       "KMeans(n_clusters=2, n_init='auto', random_state=10)"
      ]
     },
     "execution_count": 7,
     "metadata": {},
     "output_type": "execute_result"
    }
   ],
   "source": [
    "#generating the final model for KMeans clustering with cluster number of 2\n",
    "finalmodel = KMeans(n_clusters = 2, n_init = 'auto', random_state = 10)\n",
    "finalmodel.fit(scaled_df)"
   ]
  },
  {
   "cell_type": "code",
   "execution_count": 8,
   "id": "e4bf15db-f50b-4b2e-9392-6c019215cc2e",
   "metadata": {},
   "outputs": [
    {
     "data": {
      "text/plain": [
       "array([0, 0, 0, ..., 1, 1, 1])"
      ]
     },
     "execution_count": 8,
     "metadata": {},
     "output_type": "execute_result"
    }
   ],
   "source": [
    "#reviewing the labels generated by our model\n",
    "finalmodel.labels_"
   ]
  },
  {
   "cell_type": "code",
   "execution_count": 9,
   "id": "f584fb0a-f820-410c-b4c8-a5a6badfe71a",
   "metadata": {},
   "outputs": [
    {
     "data": {
      "text/plain": [
       "array([[-0.96010434, -0.01920356,  0.00216866, -0.9517153 ],\n",
       "       [ 0.96087273,  0.01921893, -0.0021704 ,  0.95247697]])"
      ]
     },
     "execution_count": 9,
     "metadata": {},
     "output_type": "execute_result"
    }
   ],
   "source": [
    "#reviewing the centroids of the model\n",
    "finalmodel.cluster_centers_"
   ]
  },
  {
   "cell_type": "code",
   "execution_count": 10,
   "id": "07344663-52ee-4233-ad05-fff096128f39",
   "metadata": {},
   "outputs": [
    {
     "data": {
      "text/plain": [
       "Text(0.5, 1.0, 'Silhouette Score Analysis')"
      ]
     },
     "execution_count": 10,
     "metadata": {},
     "output_type": "execute_result"
    },
    {
     "data": {
      "image/png": "[encoded data removed]",
      "text/plain": [
       "<Figure size 640x480 with 1 Axes>"
      ]
     },
     "metadata": {},
     "output_type": "display_data"
    }
   ],
   "source": [
    "#assessing the silhouette score numbers per cluster numbers 2-11 (Kamara, 2024)\n",
    "silhouette = []\n",
    "for k in range (2, 11):\n",
    "    smodel = KMeans(n_clusters = k, n_init = 'auto', random_state = 10)\n",
    "    smodel.fit(scaled_df)\n",
    "    silhouette.append(silhouette_score(scaled_df, smodel.labels_))\n",
    "\n",
    "#plotting silhouette chart from model numbers determined above\n",
    "plt.plot(range(2, 11), silhouette, marker = 'o')\n",
    "plt.xlabel(\"Cluster Number\")\n",
    "plt.ylabel(\"Silhouette\")\n",
    "plt.title(\"Silhouette Score Analysis\")"
   ]
  },
  {
   "cell_type": "code",
   "execution_count": 11,
   "id": "b5e5c4b6-4b4f-46bb-8d19-4d876d4698b6",
   "metadata": {},
   "outputs": [
    {
     "name": "stdout",
     "output_type": "stream",
     "text": [
      " Clusters  Silhouette Scores\n",
      "        2           0.427974\n",
      "        3           0.357097\n",
      "        4           0.321160\n",
      "        5           0.328290\n",
      "        6           0.341541\n",
      "        7           0.329934\n",
      "        8           0.319410\n",
      "        9           0.309176\n",
      "       10           0.302998\n"
     ]
    }
   ],
   "source": [
    "#creating and printing the silhouette scores of the model above\n",
    "silhouettedf = pd.DataFrame({'Clusters': range(2,11), 'Silhouette Scores': silhouette})\n",
    "print(silhouettedf.to_string(index=False))"
   ]
  },
  {
   "cell_type": "markdown",
   "id": "485b0a99-5dbc-404d-8872-e658684b0c53",
   "metadata": {},
   "source": [
    "The above analysis corroborates that the appropriate number of clusters for our KMeans clustering model is 2."
   ]
  },
  {
   "cell_type": "markdown",
   "id": "c3b300fe-8ac8-44f1-9372-73c355aef6fa",
   "metadata": {},
   "source": [
    "### E1: Cluster Quality\n",
    "KMeans clustering is an unsupervised machine learning technique, and cannot be evaluated by comparing to established patterns within a training dataset. However, to evaluate the accuracy and quality of my clustering model I utilized the Silhouette Score method. As stated above, the silhouette value is a measure of similarity between a datapoint and its own cluster, as compared to other clusters. These values range from -1 to 1, where a higher absolute value demonstrates accurate matching between a datapoint and its cluster, indicating that the datapoints belong to the correct clusters. From the analysis performed in section D2 a cluster number of 2 resulted in the highest silhouette score within the dataset of 0.43. This score demonstrates that the KMeans clustering algorithm is moderately able to appropriately categorize datapoints into the correct clusters with similar likeness. "
   ]
  },
  {
   "cell_type": "markdown",
   "id": "6f6a19bf-f148-4145-b08e-9322c1efd1b4",
   "metadata": {},
   "source": [
    "### E2: Results & Implications\n",
    "After utilizing the elbow method and assessing the silhouette scores of all possible cluster numbers between 1 and 10, it was determined that the best cluster number to represent and classify the customers within the dataset based upon the continuous variables selected was 2 clusters. If this number were to increase then the inertia of the model would be lower, but the accuracy in assigning datapoints to appropriate clusters would falter as well. Therefore, 2 clusters is the ideal amount within our analysis.\n",
    "\n",
    "In section D2, the algorith outputted the centroids for each feature in each of the 2 clusters for our model, that being **[-0.96010434, -0.01920356, 0.00216866, -0.9517153]**, and **[0.96087273, 0.01921893, -0.0021704, 0.95247697]**. Each array represents the centroids for each feature in our 4-dimensional space in order of Tenure, Age, Monthly Charge, and Bandwidth in GB per year. The data was standardized along the z-scores of the data, the measure of standard deviations away from the mean. Notably, only the features Tenure and Bandwidth show strong variability unlike the Age and Charge centroids that do not really stray from their respective means. As can be seen from the second array, this cluster of customers demonstrate a Tenure positively distributed approximately 1 standard deviation above the mean, implying that this cluster of customers are likely to remain longer with the company than those grouped within the first array's cluster. As such, it would be beneficial for the company to further pursue analysis and greater understanding of the customer demographics within cluster 2, as these are the customers that seem to be happy maintaining their contract with the WGU telecom company."
   ]
  },
  {
   "cell_type": "markdown",
   "id": "276d57a0-2b64-4ced-a7c4-ea0d6b8e5bc2",
   "metadata": {},
   "source": [
    "### E3: Limitation\n",
    "The major limitation for this analysis is that KMeans clustering cannot incorporate the use of categorical variables in the clustering algorithm. This restricts and limits our ability to further develop more granular information regarding the customer demographics within each group, as tenure, age, charge, and bandwidth don't really tell us much on their own. Alternative user-submitted data such as survey results could yield useful insights for analysis such as this, but said data is categorical in nature."
   ]
  },
  {
   "cell_type": "markdown",
   "id": "e9b76b7b-6ff1-48c7-873a-7e5b7e480f2b",
   "metadata": {},
   "source": [
    "### E4: Recommendation\n",
    "My recommendation would be for upper management to further analyse the demographic structure of the customers within cluster 2, to assess if other distinct patterns can be recognized within that group. Doing so would result in a greater understanding of the types of customers that trend better towards longer tenures, so that marketing campaigns can be structured around attracting more customers that fit the demographic, or to encourage customers within cluster 1 to shift their current service plan structure into one that may strengthen retention and ultimately lead to stable revenue flow as well as cost savings for the company."
   ]
  },
  {
   "cell_type": "markdown",
   "id": "710884d0-8cd2-42b8-a298-4524f35dbb61",
   "metadata": {},
   "source": [
    "### F: Panopto\n",
    "My panopto video can be found here: https://wgu.hosted.panopto.com/Panopto/Pages/Viewer.aspx?id=5daf1dc2-3ab4-4e2a-9486-b17d00158e82"
   ]
  },
  {
   "cell_type": "markdown",
   "id": "26e773ae-138f-4c4f-b714-06185b468957",
   "metadata": {},
   "source": [
    "### G: Code Sources\n",
    "Wilson, Benjamin. n.d. *Unsupervised Learning in Python*. Datacamp. https://app.datacamp.com/learn/courses/unsupervised-learning-in-python\n",
    "\n",
    "Kamara, Kesselly. May 1, 2024. *Evaluating and Visualizing the Model*. Western Governors University. https://wgu.hosted.panopto.com/Panopto/Pages/Viewer.aspx?id=9fa8783e-d7d2-4b4d-b06e-b0ee01874bea"
   ]
  },
  {
   "cell_type": "markdown",
   "id": "dbf8d1ec-6beb-4cd4-a653-5ed263607d9f",
   "metadata": {},
   "source": [
    "### H: Sources\n",
    "Sharma, Pulkit. May 21, 2024. *The Ultimate Guide to K-Means Clustering: Definition, Methods and Applications*. Analytics Vidhya. https://www.analyticsvidhya.com/blog/2019/08/comprehensive-guide-k-means-clustering/\n",
    "\n",
    "Geeksforgeeks, December 9, 2023. *Demonstration of K-Means Assumptions*. Geeksforgeeks. https://www.geeksforgeeks.org/demonstration-of-k-means-assumptions/\n",
    "\n",
    "Gultekin, Hazal. September 7, 2023. *What is Silhouette Score?*. Medium. https://medium.com/@hazallgultekin/what-is-silhouette-score-f428fb39bf9a"
   ]
  }
 ],
 "metadata": {
  "kernelspec": {
   "display_name": "Python 3 (ipykernel)",
   "language": "python",
   "name": "python3"
  },
  "language_info": {
   "codemirror_mode": {
    "name": "ipython",
    "version": 3
   },
   "file_extension": ".py",
   "mimetype": "text/x-python",
   "name": "python",
   "nbconvert_exporter": "python",
   "pygments_lexer": "ipython3",
   "version": "3.11.5"
  }
 },
 "nbformat": 4,
 "nbformat_minor": 5
}
