{
 "cells": [
  {
   "cell_type": "markdown",
   "id": "a39b3883-cd17-47a6-99bf-02ad494be3ba",
   "metadata": {},
   "source": [
    "# D212 - Data Mining 2 Performance Assessment Task 2\n",
    "Aidan Soares, 012042436, Western Governors University"
   ]
  },
  {
   "cell_type": "markdown",
   "id": "8b49f19a-65a7-4593-bd37-25a797b1651d",
   "metadata": {},
   "source": [
    "### A1: Research Question\n",
    "For this assessment I will be using the Churn dataset provided by WGU to answer the question \"Can Principal Component Analysis be utilized to reduce dimensionality and idenitfy the principal components of customers within the dataset?\"."
   ]
  },
  {
   "cell_type": "markdown",
   "id": "7cb09af1-3cea-482f-97bf-df91dba42f83",
   "metadata": {},
   "source": [
    "### A2: Goal\n",
    "My goal for this performance assessment is to isolate and identify the principal components relevant to the continuous customer information collected within the WGU churn dataset. This information on its own is vast and difficult to analyze, leading to limitations and restrictions for key stakeholders seeking relevant insights into customer satisfaction, user retention, and stable revenue flows. However, utilizing PCA could reduce the dimensionality of our diverse dataset, condensing it into a smaller one that still maintains correlating features and allows for more efficiency in data exploration and visualization. It is important to note that, while PCA cannot directly be used to assess for bottom-line issues such as customer retention, this reduction in dimensionality can still bear benefits to the company in the form of data that is easier to analyize, and some explanation on the variability of the data available."
   ]
  },
  {
   "cell_type": "markdown",
   "id": "ef20fa64-271e-42c9-925c-6b17962e6244",
   "metadata": {},
   "source": [
    "### B1: PCA Justification\n",
    "Principal Component Analysis is a dimensionality reduction method that identifies the foundational components (variables) of a dataset that have linear combinations and can explain significant variability within the larger aspects of the dataset. These variables are mixed together and combined to create new components that are uncorrelated with eachother, squeezing them together to reduce the broader space emcompassed by the number of features, so that data available is compressed to reduce data bloat, and allows for reduced computational analysis to be performed. While the data may lose a bit of accuracy in further assessment, the tradeoff is improved simplicity, as smaller datasets are easier to visualize and explore (Whitfield, 2024).\n",
    "\n",
    "PCA is done in several steps:\n",
    "1. Standardization of the data for analyis: typically standardized along z-scores so that the analysis can be performed on all data along the same plane of data range\n",
    "2. Printing the covariance matrix to assess and identify major correlations: the matrix is composed of the 'weight' of the variables that contribute most to the PCs, the closer the absolute weight is to 1 the more that feature is associated with the PC\n",
    "3. Calculating the eigenvalues of the covariance matrix: eigenvalues represent the total amount of variance within the dataset that can be explained per principal component\n",
    "4. Select the most relevant PCs for the analysis: Principal Components will be selected on an eigenvalue basis as this represents the explained variability of the dataset. Per the Kaiser Rule, only PCs with eigenvalue above 1 will be kept\n",
    "\n",
    "It is expected that the PCs selected will be limited in quantity as the explainable variables will decrease with each following PC, typically the first few PCs are most appropriate for our analysis"
   ]
  },
  {
   "cell_type": "markdown",
   "id": "6f79835c-9287-47ed-bd8a-82bd9cc057cf",
   "metadata": {},
   "source": [
    "### B2: Assumption of PCA\n",
    "For PCA to function correctly, it identifies features of a dataset that have underlying linear relationships for combination into principal components. Therefore, the major assumption for PCA is that continuous variables within the selected dataset must have underlying linear relationships for the analysis to function."
   ]
  },
  {
   "cell_type": "markdown",
   "id": "da7e8e9e-88f6-417c-830f-e79fddbaeca3",
   "metadata": {},
   "source": [
    "### C1: Dataset Variables\n",
    "| Variable Name | Continuous/Categorical |\n",
    "| :- | :- |\n",
    "| Tenure | Continuous |\n",
    "| Age | Continuous |\n",
    "| Monthly Charge | Continuous |\n",
    "| Bandwidth in GB/Year | Continuous |\n",
    "| Outage in Seconds/Week | Continuous |"
   ]
  },
  {
   "cell_type": "markdown",
   "id": "90cf770c-0033-4f42-ac30-496032401a3a",
   "metadata": {},
   "source": [
    "### C2: Data Standardization"
   ]
  },
  {
   "cell_type": "code",
   "execution_count": 1,
   "id": "3feba3ad-fab2-42f2-9b74-49d0e2ddfff3",
   "metadata": {},
   "outputs": [],
   "source": [
    "#importing libraries\n",
    "import pandas as pd\n",
    "import numpy as np\n",
    "import scipy.stats as stats\n",
    "import matplotlib.pyplot as plt\n",
    "import seaborn as sns\n",
    "from sklearn.decomposition import PCA\n",
    "\n",
    "#importing dataset into a dataframe\n",
    "df = pd.read_csv('churn_clean.csv', index_col=0)"
   ]
  },
  {
   "cell_type": "code",
   "execution_count": 2,
   "id": "ec5d37f2-17eb-4688-b7d0-4306179e694a",
   "metadata": {},
   "outputs": [
    {
     "name": "stdout",
     "output_type": "stream",
     "text": [
      "<class 'pandas.core.frame.DataFrame'>\n",
      "Int64Index: 10000 entries, 1 to 10000\n",
      "Data columns (total 49 columns):\n",
      " #   Column                Non-Null Count  Dtype  \n",
      "---  ------                --------------  -----  \n",
      " 0   Customer_id           10000 non-null  object \n",
      " 1   Interaction           10000 non-null  object \n",
      " 2   UID                   10000 non-null  object \n",
      " 3   City                  10000 non-null  object \n",
      " 4   State                 10000 non-null  object \n",
      " 5   County                10000 non-null  object \n",
      " 6   Zip                   10000 non-null  int64  \n",
      " 7   Lat                   10000 non-null  float64\n",
      " 8   Lng                   10000 non-null  float64\n",
      " 9   Population            10000 non-null  int64  \n",
      " 10  Area                  10000 non-null  object \n",
      " 11  TimeZone              10000 non-null  object \n",
      " 12  Job                   10000 non-null  object \n",
      " 13  Children              10000 non-null  int64  \n",
      " 14  Age                   10000 non-null  int64  \n",
      " 15  Income                10000 non-null  float64\n",
      " 16  Marital               10000 non-null  object \n",
      " 17  Gender                10000 non-null  object \n",
      " 18  Churn                 10000 non-null  object \n",
      " 19  Outage_sec_perweek    10000 non-null  float64\n",
      " 20  Email                 10000 non-null  int64  \n",
      " 21  Contacts              10000 non-null  int64  \n",
      " 22  Yearly_equip_failure  10000 non-null  int64  \n",
      " 23  Techie                10000 non-null  object \n",
      " 24  Contract              10000 non-null  object \n",
      " 25  Port_modem            10000 non-null  object \n",
      " 26  Tablet                10000 non-null  object \n",
      " 27  InternetService       10000 non-null  object \n",
      " 28  Phone                 10000 non-null  object \n",
      " 29  Multiple              10000 non-null  object \n",
      " 30  OnlineSecurity        10000 non-null  object \n",
      " 31  OnlineBackup          10000 non-null  object \n",
      " 32  DeviceProtection      10000 non-null  object \n",
      " 33  TechSupport           10000 non-null  object \n",
      " 34  StreamingTV           10000 non-null  object \n",
      " 35  StreamingMovies       10000 non-null  object \n",
      " 36  PaperlessBilling      10000 non-null  object \n",
      " 37  PaymentMethod         10000 non-null  object \n",
      " 38  Tenure                10000 non-null  float64\n",
      " 39  MonthlyCharge         10000 non-null  float64\n",
      " 40  Bandwidth_GB_Year     10000 non-null  float64\n",
      " 41  Item1                 10000 non-null  int64  \n",
      " 42  Item2                 10000 non-null  int64  \n",
      " 43  Item3                 10000 non-null  int64  \n",
      " 44  Item4                 10000 non-null  int64  \n",
      " 45  Item5                 10000 non-null  int64  \n",
      " 46  Item6                 10000 non-null  int64  \n",
      " 47  Item7                 10000 non-null  int64  \n",
      " 48  Item8                 10000 non-null  int64  \n",
      "dtypes: float64(7), int64(15), object(27)\n",
      "memory usage: 3.8+ MB\n"
     ]
    },
    {
     "data": {
      "text/plain": [
       "False    10000\n",
       "dtype: int64"
      ]
     },
     "execution_count": 2,
     "metadata": {},
     "output_type": "execute_result"
    }
   ],
   "source": [
    "#printing non-null counts and duplicates within the dataset, in any exist\n",
    "df.info()\n",
    "df.duplicated().value_counts()"
   ]
  },
  {
   "cell_type": "markdown",
   "id": "e73935dd-c069-4eb1-b382-cda2db3c352d",
   "metadata": {},
   "source": [
    "As no null values exist, I can continue with my standardization without imputation or deletion of entries."
   ]
  },
  {
   "cell_type": "code",
   "execution_count": 3,
   "id": "02c5cc63-9b68-4fa5-8a6d-85652f902b72",
   "metadata": {},
   "outputs": [
    {
     "data": {
      "text/html": [
       "<div>\n",
       "<style scoped>\n",
       "    .dataframe tbody tr th:only-of-type {\n",
       "        vertical-align: middle;\n",
       "    }\n",
       "\n",
       "    .dataframe tbody tr th {\n",
       "        vertical-align: top;\n",
       "    }\n",
       "\n",
       "    .dataframe thead th {\n",
       "        text-align: right;\n",
       "    }\n",
       "</style>\n",
       "<table border=\"1\" class=\"dataframe\">\n",
       "  <thead>\n",
       "    <tr style=\"text-align: right;\">\n",
       "      <th></th>\n",
       "      <th>Tenure</th>\n",
       "      <th>Age</th>\n",
       "      <th>MonthlyCharge</th>\n",
       "      <th>Bandwidth_GB_Year</th>\n",
       "      <th>Outage_sec_perweek</th>\n",
       "    </tr>\n",
       "    <tr>\n",
       "      <th>CaseOrder</th>\n",
       "      <th></th>\n",
       "      <th></th>\n",
       "      <th></th>\n",
       "      <th></th>\n",
       "      <th></th>\n",
       "    </tr>\n",
       "  </thead>\n",
       "  <tbody>\n",
       "    <tr>\n",
       "      <th>1</th>\n",
       "      <td>6.795513</td>\n",
       "      <td>68</td>\n",
       "      <td>172.455519</td>\n",
       "      <td>904.536110</td>\n",
       "      <td>7.978323</td>\n",
       "    </tr>\n",
       "    <tr>\n",
       "      <th>2</th>\n",
       "      <td>1.156681</td>\n",
       "      <td>27</td>\n",
       "      <td>242.632554</td>\n",
       "      <td>800.982766</td>\n",
       "      <td>11.699080</td>\n",
       "    </tr>\n",
       "    <tr>\n",
       "      <th>3</th>\n",
       "      <td>15.754144</td>\n",
       "      <td>50</td>\n",
       "      <td>159.947583</td>\n",
       "      <td>2054.706961</td>\n",
       "      <td>10.752800</td>\n",
       "    </tr>\n",
       "    <tr>\n",
       "      <th>4</th>\n",
       "      <td>17.087227</td>\n",
       "      <td>48</td>\n",
       "      <td>119.956840</td>\n",
       "      <td>2164.579412</td>\n",
       "      <td>14.913540</td>\n",
       "    </tr>\n",
       "    <tr>\n",
       "      <th>5</th>\n",
       "      <td>1.670972</td>\n",
       "      <td>83</td>\n",
       "      <td>149.948316</td>\n",
       "      <td>271.493436</td>\n",
       "      <td>8.147417</td>\n",
       "    </tr>\n",
       "  </tbody>\n",
       "</table>\n",
       "</div>"
      ],
      "text/plain": [
       "              Tenure  Age  MonthlyCharge  Bandwidth_GB_Year  \\\n",
       "CaseOrder                                                     \n",
       "1           6.795513   68     172.455519         904.536110   \n",
       "2           1.156681   27     242.632554         800.982766   \n",
       "3          15.754144   50     159.947583        2054.706961   \n",
       "4          17.087227   48     119.956840        2164.579412   \n",
       "5           1.670972   83     149.948316         271.493436   \n",
       "\n",
       "           Outage_sec_perweek  \n",
       "CaseOrder                      \n",
       "1                    7.978323  \n",
       "2                   11.699080  \n",
       "3                   10.752800  \n",
       "4                   14.913540  \n",
       "5                    8.147417  "
      ]
     },
     "execution_count": 3,
     "metadata": {},
     "output_type": "execute_result"
    }
   ],
   "source": [
    "#creating the dataframe that houses only the data I require for PCA\n",
    "pca_df = df[[\"Tenure\", \"Age\", \"MonthlyCharge\", \"Bandwidth_GB_Year\", \"Outage_sec_perweek\"]]\n",
    "pca_df.head()"
   ]
  },
  {
   "cell_type": "code",
   "execution_count": 4,
   "id": "56db90f9-26bb-4231-ba6f-f7e9ab720d57",
   "metadata": {},
   "outputs": [
    {
     "data": {
      "text/html": [
       "<div>\n",
       "<style scoped>\n",
       "    .dataframe tbody tr th:only-of-type {\n",
       "        vertical-align: middle;\n",
       "    }\n",
       "\n",
       "    .dataframe tbody tr th {\n",
       "        vertical-align: top;\n",
       "    }\n",
       "\n",
       "    .dataframe thead th {\n",
       "        text-align: right;\n",
       "    }\n",
       "</style>\n",
       "<table border=\"1\" class=\"dataframe\">\n",
       "  <thead>\n",
       "    <tr style=\"text-align: right;\">\n",
       "      <th></th>\n",
       "      <th>Tenure</th>\n",
       "      <th>Age</th>\n",
       "      <th>MonthlyCharge</th>\n",
       "      <th>Bandwidth_GB_Year</th>\n",
       "      <th>Outage_sec_perweek</th>\n",
       "    </tr>\n",
       "    <tr>\n",
       "      <th>CaseOrder</th>\n",
       "      <th></th>\n",
       "      <th></th>\n",
       "      <th></th>\n",
       "      <th></th>\n",
       "      <th></th>\n",
       "    </tr>\n",
       "  </thead>\n",
       "  <tbody>\n",
       "    <tr>\n",
       "      <th>1</th>\n",
       "      <td>-1.048694</td>\n",
       "      <td>0.720889</td>\n",
       "      <td>-0.003942</td>\n",
       "      <td>-1.138430</td>\n",
       "      <td>-0.679944</td>\n",
       "    </tr>\n",
       "    <tr>\n",
       "      <th>2</th>\n",
       "      <td>-1.261938</td>\n",
       "      <td>-1.259894</td>\n",
       "      <td>1.630244</td>\n",
       "      <td>-1.185817</td>\n",
       "      <td>0.570303</td>\n",
       "    </tr>\n",
       "    <tr>\n",
       "      <th>3</th>\n",
       "      <td>-0.709904</td>\n",
       "      <td>-0.148723</td>\n",
       "      <td>-0.295210</td>\n",
       "      <td>-0.612107</td>\n",
       "      <td>0.252334</td>\n",
       "    </tr>\n",
       "    <tr>\n",
       "      <th>4</th>\n",
       "      <td>-0.659491</td>\n",
       "      <td>-0.245347</td>\n",
       "      <td>-1.226460</td>\n",
       "      <td>-0.561829</td>\n",
       "      <td>1.650423</td>\n",
       "    </tr>\n",
       "    <tr>\n",
       "      <th>5</th>\n",
       "      <td>-1.242489</td>\n",
       "      <td>1.445566</td>\n",
       "      <td>-0.528059</td>\n",
       "      <td>-1.428113</td>\n",
       "      <td>-0.623125</td>\n",
       "    </tr>\n",
       "  </tbody>\n",
       "</table>\n",
       "</div>"
      ],
      "text/plain": [
       "             Tenure       Age  MonthlyCharge  Bandwidth_GB_Year  \\\n",
       "CaseOrder                                                         \n",
       "1         -1.048694  0.720889      -0.003942          -1.138430   \n",
       "2         -1.261938 -1.259894       1.630244          -1.185817   \n",
       "3         -0.709904 -0.148723      -0.295210          -0.612107   \n",
       "4         -0.659491 -0.245347      -1.226460          -0.561829   \n",
       "5         -1.242489  1.445566      -0.528059          -1.428113   \n",
       "\n",
       "           Outage_sec_perweek  \n",
       "CaseOrder                      \n",
       "1                   -0.679944  \n",
       "2                    0.570303  \n",
       "3                    0.252334  \n",
       "4                    1.650423  \n",
       "5                   -0.623125  "
      ]
     },
     "execution_count": 4,
     "metadata": {},
     "output_type": "execute_result"
    }
   ],
   "source": [
    "#normalizing the data by z-score\n",
    "df_normalized = (pca_df-pca_df.mean())/pca_df.std()\n",
    "df_normalized.head()"
   ]
  },
  {
   "cell_type": "markdown",
   "id": "64848725-1150-4df9-b19e-5a124915a6d3",
   "metadata": {},
   "source": [
    "My cleaned and prepared dataset containing only the variables relevant for analysis can be found below, submitted alongside my jupyter notebook."
   ]
  },
  {
   "cell_type": "code",
   "execution_count": 5,
   "id": "b7135368-0ea6-4c5c-a9e4-10ed93c00086",
   "metadata": {},
   "outputs": [],
   "source": [
    "#exporting dataset to csv file\n",
    "df_normalized.to_csv('pca_dataset.csv', index=False)"
   ]
  },
  {
   "cell_type": "markdown",
   "id": "6c64eff4-2de6-4a2c-b22e-1ca34fda1b79",
   "metadata": {},
   "source": [
    "### D1: PCA Matrix"
   ]
  },
  {
   "cell_type": "code",
   "execution_count": 6,
   "id": "9a8ff151-c91c-4365-ae2e-5919baa95308",
   "metadata": {},
   "outputs": [
    {
     "data": {
      "text/html": [
       "<style>#sk-container-id-1 {color: black;background-color: white;}#sk-container-id-1 pre{padding: 0;}#sk-container-id-1 div.sk-toggleable {background-color: white;}#sk-container-id-1 label.sk-toggleable__label {cursor: pointer;display: block;width: 100%;margin-bottom: 0;padding: 0.3em;box-sizing: border-box;text-align: center;}#sk-container-id-1 label.sk-toggleable__label-arrow:before {content: \"▸\";float: left;margin-right: 0.25em;color: #696969;}#sk-container-id-1 label.sk-toggleable__label-arrow:hover:before {color: black;}#sk-container-id-1 div.sk-estimator:hover label.sk-toggleable__label-arrow:before {color: black;}#sk-container-id-1 div.sk-toggleable__content {max-height: 0;max-width: 0;overflow: hidden;text-align: left;background-color: #f0f8ff;}#sk-container-id-1 div.sk-toggleable__content pre {margin: 0.2em;color: black;border-radius: 0.25em;background-color: #f0f8ff;}#sk-container-id-1 input.sk-toggleable__control:checked~div.sk-toggleable__content {max-height: 200px;max-width: 100%;overflow: auto;}#sk-container-id-1 input.sk-toggleable__control:checked~label.sk-toggleable__label-arrow:before {content: \"▾\";}#sk-container-id-1 div.sk-estimator input.sk-toggleable__control:checked~label.sk-toggleable__label {background-color: #d4ebff;}#sk-container-id-1 div.sk-label input.sk-toggleable__control:checked~label.sk-toggleable__label {background-color: #d4ebff;}#sk-container-id-1 input.sk-hidden--visually {border: 0;clip: rect(1px 1px 1px 1px);clip: rect(1px, 1px, 1px, 1px);height: 1px;margin: -1px;overflow: hidden;padding: 0;position: absolute;width: 1px;}#sk-container-id-1 div.sk-estimator {font-family: monospace;background-color: #f0f8ff;border: 1px dotted black;border-radius: 0.25em;box-sizing: border-box;margin-bottom: 0.5em;}#sk-container-id-1 div.sk-estimator:hover {background-color: #d4ebff;}#sk-container-id-1 div.sk-parallel-item::after {content: \"\";width: 100%;border-bottom: 1px solid gray;flex-grow: 1;}#sk-container-id-1 div.sk-label:hover label.sk-toggleable__label {background-color: #d4ebff;}#sk-container-id-1 div.sk-serial::before {content: \"\";position: absolute;border-left: 1px solid gray;box-sizing: border-box;top: 0;bottom: 0;left: 50%;z-index: 0;}#sk-container-id-1 div.sk-serial {display: flex;flex-direction: column;align-items: center;background-color: white;padding-right: 0.2em;padding-left: 0.2em;position: relative;}#sk-container-id-1 div.sk-item {position: relative;z-index: 1;}#sk-container-id-1 div.sk-parallel {display: flex;align-items: stretch;justify-content: center;background-color: white;position: relative;}#sk-container-id-1 div.sk-item::before, #sk-container-id-1 div.sk-parallel-item::before {content: \"\";position: absolute;border-left: 1px solid gray;box-sizing: border-box;top: 0;bottom: 0;left: 50%;z-index: -1;}#sk-container-id-1 div.sk-parallel-item {display: flex;flex-direction: column;z-index: 1;position: relative;background-color: white;}#sk-container-id-1 div.sk-parallel-item:first-child::after {align-self: flex-end;width: 50%;}#sk-container-id-1 div.sk-parallel-item:last-child::after {align-self: flex-start;width: 50%;}#sk-container-id-1 div.sk-parallel-item:only-child::after {width: 0;}#sk-container-id-1 div.sk-dashed-wrapped {border: 1px dashed gray;margin: 0 0.4em 0.5em 0.4em;box-sizing: border-box;padding-bottom: 0.4em;background-color: white;}#sk-container-id-1 div.sk-label label {font-family: monospace;font-weight: bold;display: inline-block;line-height: 1.2em;}#sk-container-id-1 div.sk-label-container {text-align: center;}#sk-container-id-1 div.sk-container {/* jupyter's `normalize.less` sets `[hidden] { display: none; }` but bootstrap.min.css set `[hidden] { display: none !important; }` so we also need the `!important` here to be able to override the default hidden behavior on the sphinx rendered scikit-learn.org. See: https://github.com/scikit-learn/scikit-learn/issues/21755 */display: inline-block !important;position: relative;}#sk-container-id-1 div.sk-text-repr-fallback {display: none;}</style><div id=\"sk-container-id-1\" class=\"sk-top-container\"><div class=\"sk-text-repr-fallback\"><pre>PCA(n_components=5)</pre><b>In a Jupyter environment, please rerun this cell to show the HTML representation or trust the notebook. <br />On GitHub, the HTML representation is unable to render, please try loading this page with nbviewer.org.</b></div><div class=\"sk-container\" hidden><div class=\"sk-item\"><div class=\"sk-estimator sk-toggleable\"><input class=\"sk-toggleable__control sk-hidden--visually\" id=\"sk-estimator-id-1\" type=\"checkbox\" checked><label for=\"sk-estimator-id-1\" class=\"sk-toggleable__label sk-toggleable__label-arrow\">PCA</label><div class=\"sk-toggleable__content\"><pre>PCA(n_components=5)</pre></div></div></div></div></div>"
      ],
      "text/plain": [
       "PCA(n_components=5)"
      ]
     },
     "execution_count": 6,
     "metadata": {},
     "output_type": "execute_result"
    }
   ],
   "source": [
    "#shaping the data based on number of principal components, re-utilizing my code from D206 (Soares, 2024)\n",
    "pca = PCA(n_components=pca_df.shape[1])\n",
    "\n",
    "#fitting PCA onto normalized dataset, generate number of principal components\n",
    "pca.fit(df_normalized)"
   ]
  },
  {
   "cell_type": "code",
   "execution_count": 7,
   "id": "0da95de6-110b-4677-97b4-9ce2716a6af5",
   "metadata": {},
   "outputs": [
    {
     "data": {
      "text/html": [
       "<div>\n",
       "<style scoped>\n",
       "    .dataframe tbody tr th:only-of-type {\n",
       "        vertical-align: middle;\n",
       "    }\n",
       "\n",
       "    .dataframe tbody tr th {\n",
       "        vertical-align: top;\n",
       "    }\n",
       "\n",
       "    .dataframe thead th {\n",
       "        text-align: right;\n",
       "    }\n",
       "</style>\n",
       "<table border=\"1\" class=\"dataframe\">\n",
       "  <thead>\n",
       "    <tr style=\"text-align: right;\">\n",
       "      <th></th>\n",
       "      <th>PC1</th>\n",
       "      <th>PC2</th>\n",
       "      <th>PC3</th>\n",
       "      <th>PC4</th>\n",
       "      <th>PC5</th>\n",
       "    </tr>\n",
       "  </thead>\n",
       "  <tbody>\n",
       "    <tr>\n",
       "      <th>Tenure</th>\n",
       "      <td>0.705864</td>\n",
       "      <td>-0.045902</td>\n",
       "      <td>-0.000241</td>\n",
       "      <td>-0.043112</td>\n",
       "      <td>-0.705543</td>\n",
       "    </tr>\n",
       "    <tr>\n",
       "      <th>Age</th>\n",
       "      <td>0.001977</td>\n",
       "      <td>0.072415</td>\n",
       "      <td>0.901334</td>\n",
       "      <td>-0.426404</td>\n",
       "      <td>0.023014</td>\n",
       "    </tr>\n",
       "    <tr>\n",
       "      <th>MonthlyCharge</th>\n",
       "      <td>0.040781</td>\n",
       "      <td>0.723087</td>\n",
       "      <td>0.246817</td>\n",
       "      <td>0.642251</td>\n",
       "      <td>-0.045573</td>\n",
       "    </tr>\n",
       "    <tr>\n",
       "      <th>Bandwidth_GB_Year</th>\n",
       "      <td>0.707146</td>\n",
       "      <td>-0.001786</td>\n",
       "      <td>-0.013554</td>\n",
       "      <td>0.012473</td>\n",
       "      <td>0.706826</td>\n",
       "    </tr>\n",
       "    <tr>\n",
       "      <th>Outage_sec_perweek</th>\n",
       "      <td>0.005882</td>\n",
       "      <td>0.685413</td>\n",
       "      <td>-0.355662</td>\n",
       "      <td>-0.635357</td>\n",
       "      <td>0.000238</td>\n",
       "    </tr>\n",
       "  </tbody>\n",
       "</table>\n",
       "</div>"
      ],
      "text/plain": [
       "                         PC1       PC2       PC3       PC4       PC5\n",
       "Tenure              0.705864 -0.045902 -0.000241 -0.043112 -0.705543\n",
       "Age                 0.001977  0.072415  0.901334 -0.426404  0.023014\n",
       "MonthlyCharge       0.040781  0.723087  0.246817  0.642251 -0.045573\n",
       "Bandwidth_GB_Year   0.707146 -0.001786 -0.013554  0.012473  0.706826\n",
       "Outage_sec_perweek  0.005882  0.685413 -0.355662 -0.635357  0.000238"
      ]
     },
     "execution_count": 7,
     "metadata": {},
     "output_type": "execute_result"
    }
   ],
   "source": [
    "#creating and loading new PCA matrix using the normalized data and the 5 total components\n",
    "df_pca_loading = pd.DataFrame(pca.components_.T,\n",
    "                              columns=[\"PC1\", \"PC2\", \"PC3\", \"PC4\", \"PC5\"],\n",
    "                             index=df_normalized.columns)\n",
    "\n",
    "df_pca_loading"
   ]
  },
  {
   "cell_type": "markdown",
   "id": "aad7aaa8-2e91-40af-8c55-bba433253c02",
   "metadata": {},
   "source": [
    "### D2: Number of Principal Components"
   ]
  },
  {
   "cell_type": "code",
   "execution_count": 8,
   "id": "412e3205-9a48-4b54-b3d4-89417d955939",
   "metadata": {},
   "outputs": [
    {
     "data": {
      "image/png": "[encoded data removed]",
      "text/plain": [
       "<Figure size 640x480 with 1 Axes>"
      ]
     },
     "metadata": {},
     "output_type": "display_data"
    },
    {
     "data": {
      "text/plain": [
       "[1.9929757084871147,\n",
       " 1.020463219773508,\n",
       " 1.0062292803819015,\n",
       " 0.9739007706046443,\n",
       " 0.005931020752881161]"
      ]
     },
     "execution_count": 8,
     "metadata": {},
     "output_type": "execute_result"
    }
   ],
   "source": [
    "#creating covariance matrix\n",
    "cov_matrix = np.dot(df_normalized.T, df_normalized)/pca_df.shape[0]\n",
    "\n",
    "#creating eigenvectors\n",
    "eigenvalues = [np.dot(eigenvector.T, np.dot(cov_matrix, eigenvector)) for eigenvector in pca.components_]\n",
    "\n",
    "#plotting the eigenvectors in a screeplot with a line across the y axis at y=1 for use in the Kaiser Rule\n",
    "plt.plot(eigenvalues)\n",
    "plt.xlabel(\"Number of Components\")\n",
    "plt.ylabel(\"Eigenvalue\")\n",
    "plt.axhline(y=1, color=\"black\")\n",
    "plt.show()\n",
    "\n",
    "#printing the eigenvalues as a list for better clarity in Kaiser Rule\n",
    "eigenvalues"
   ]
  },
  {
   "cell_type": "markdown",
   "id": "b2359932-6971-4f2e-98fd-b335b539cb8e",
   "metadata": {},
   "source": [
    "From the above, both the graph and the array indicate that based on the Kaiser rule, the first PCs that should be kept are PC1, PC2, and PC3, as they all have an eigenvalue above 1."
   ]
  },
  {
   "cell_type": "markdown",
   "id": "c3b300fe-8ac8-44f1-9372-73c355aef6fa",
   "metadata": {},
   "source": [
    "### D3: PC Variance"
   ]
  },
  {
   "cell_type": "code",
   "execution_count": 9,
   "id": "76907a37-2a7b-42a2-9eef-099c88c63e50",
   "metadata": {},
   "outputs": [
    {
     "name": "stdout",
     "output_type": "stream",
     "text": [
      " PC Number  Explained Variance  Explained Variance Ratio\n",
      "         1            1.993175                  0.398635\n",
      "         2            1.020565                  0.204113\n",
      "         3            1.006330                  0.201266\n",
      "         4            0.973998                  0.194800\n",
      "         5            0.005932                  0.001186\n"
     ]
    }
   ],
   "source": [
    "variances = pd.DataFrame({\"PC Number\": range(1, 6), \"Explained Variance\": pca.explained_variance_,\n",
    "                          \"Explained Variance Ratio\": pca.explained_variance_ratio_})\n",
    "print(variances.to_string(index=False))"
   ]
  },
  {
   "cell_type": "markdown",
   "id": "9640a936-71a9-4051-8819-011c63350e2a",
   "metadata": {},
   "source": [
    "We are only utilizing only PCs 1-3 for this analysis, PC1 has an explained variance ratio of 39.9% and explained variance number of 1.99, PC2 has an explained variance ratio of 20.4% and explained variance number of 1.02, and PC3 has an explained variance ratio of 20.1% and explained variance number of 1.00."
   ]
  },
  {
   "cell_type": "markdown",
   "id": "6f6a19bf-f148-4145-b08e-9322c1efd1b4",
   "metadata": {},
   "source": [
    "### D4: Total Variance"
   ]
  },
  {
   "cell_type": "code",
   "execution_count": 10,
   "id": "c118e561-fda8-44f3-9d34-6d77740b92ea",
   "metadata": {},
   "outputs": [
    {
     "name": "stdout",
     "output_type": "stream",
     "text": [
      "The total explained variance encapsulated by our PCs chosen for the PCA is: 80.4%\n"
     ]
    }
   ],
   "source": [
    "print(\"The total explained variance encapsulated by our PCs chosen for the PCA is: \" + \n",
    "      str(variances[\"Explained Variance Ratio\"].head(3).sum().round(4)*100) + \"%\")"
   ]
  },
  {
   "cell_type": "markdown",
   "id": "276d57a0-2b64-4ced-a7c4-ea0d6b8e5bc2",
   "metadata": {},
   "source": [
    "### D5: Summary of Results\n",
    "Overall, the PCA conducted allowed for a reduction in the dimensionality of the dataset, comprised of just 3 Principal Components in comparison to the 5 dimensions originally selected for analysis. As can be seen from the Scree plot generated in Section D2, the number of components relevant to PCA was determined as 3 based on the Kaiser Rule. From the Matrix created in Section D1, PC1 is shown to have influence from both Tenure and Annual Bandwidth, PC2 is shown to carry influence from Monthly Charge and Outage, and PC3 is shown to have influence from primarily customer Age, all based on the weights seen within said matrix. Overall, despite the reduced dimensionality, the 3 PCs selected from the analysis can explain over 80% of the variance that would be seen within the larger dataset. This allows for further analysis to be conducted on a smaller dataset to generate insights for upper level management and major stakeholders with less computational difficulty in detecting patterns and visualizing relationships due to the condensed data."
   ]
  },
  {
   "cell_type": "markdown",
   "id": "26e773ae-138f-4c4f-b714-06185b468957",
   "metadata": {},
   "source": [
    "### G: Code Sources\n",
    "Soares, Aidan. March 7, 2024. *D206 Performance Assessment*. Western Governors University."
   ]
  },
  {
   "cell_type": "markdown",
   "id": "dbf8d1ec-6beb-4cd4-a653-5ed263607d9f",
   "metadata": {},
   "source": [
    "### H: Sources\n",
    "Whitfield, Brennan. Feb 23, 2024. *A Step-by-Step Explanation of Principal Component Analysis (PCA)*. Builtin. https://builtin.com/data-science/step-step-explanation-principal-component-analysis"
   ]
  }
 ],
 "metadata": {
  "kernelspec": {
   "display_name": "Python 3 (ipykernel)",
   "language": "python",
   "name": "python3"
  },
  "language_info": {
   "codemirror_mode": {
    "name": "ipython",
    "version": 3
   },
   "file_extension": ".py",
   "mimetype": "text/x-python",
   "name": "python",
   "nbconvert_exporter": "python",
   "pygments_lexer": "ipython3",
   "version": "3.11.5"
  }
 },
 "nbformat": 4,
 "nbformat_minor": 5
}
