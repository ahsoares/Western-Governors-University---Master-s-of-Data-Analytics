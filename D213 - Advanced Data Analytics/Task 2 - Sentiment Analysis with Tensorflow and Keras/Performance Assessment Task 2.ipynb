{
 "cells": [
  {
   "cell_type": "markdown",
   "id": "a39b3883-cd17-47a6-99bf-02ad494be3ba",
   "metadata": {},
   "source": [
    "# D213 - Advanced Data Analytics Performance Assessment Task 2\n",
    "Aidan Soares, 012042436, Western Governors University"
   ]
  },
  {
   "cell_type": "markdown",
   "id": "8b49f19a-65a7-4593-bd37-25a797b1651d",
   "metadata": {},
   "source": [
    "### A1: Research Question\n",
    "For this assessment, I am seeking to answer \"Can a Neural Network appropriately assess customer sentiment through user reviews?\". Customer input is the backbone of satisfaction assessment, general sentiment can be utilized by companies to assess how well a product is doing within a market and grants insights into furhter improvements. For companies looking to garner trial data through user input, they can collect reviews and aggregate positive/negative sentiment to identify specific areas of pain, and overall need for future development. Take for example a trial run for a new game controller; if general sentiment tends towards negativity, the company can recognize that the current product doesn't mesh well with customers. Individual negative reviews can then be read to identify the exact pain points needed to be remedied. However, in considering aggregate data that doesn't necessarily abide by a scale or a binary yes/no survey output, it would take considerable time and resources to comb through that data manually. As such, a neural network, one that can rapidly assess new information that was built upon observed sentiment, would suit the organizational needs much better."
   ]
  },
  {
   "cell_type": "markdown",
   "id": "7cb09af1-3cea-482f-97bf-df91dba42f83",
   "metadata": {},
   "source": [
    "### A2: Goals\n",
    "My goals for this performance assessment is to utilize the observed Amazon review data collected to train a model to accurately identify positive or negative sentiment for product reviews purely though text. As the focus of this assessment is product reviews, only the Amazon reviews will be used from the UCI Sentiment Labeled Sentences Data Set."
   ]
  },
  {
   "cell_type": "markdown",
   "id": "02788bbd",
   "metadata": {},
   "source": [
    "### A3: Neural Network\n",
    "The neural network identified for this performance assessment was chosen to be a Recurrent Neural Network (RNN). Recurrent neural networks are ideal for sequential-based data, and are commonly utilized for natural language processing, speech recognition, and language translation. These neural networks and are distinguished by their ability to retain 'memory' in analysis, allowing for sentiment to be assessed throughout the entire length of the review (IBM, n.d.). Take for example a sentence that states \"In Italy, I learned many things, how to eat pasta properly, how to dress fashionably, and most importantly, they taught me the language -\", humans can easily interpret the next word as \"Italian\", given the context of being in Italy. However this is an issue that most neural networks struggle with, as they typically utilize the closest surrounding words to make the next prediction. However, a recurrent neural network has the capacity to utilize 'memory' to base its prediction upon terms from the beginnning of the review, allowing it to make an effective prediction. With that in mind, a RNN will be ideal for my analysis."
   ]
  },
  {
   "cell_type": "markdown",
   "id": "ef20fa64-271e-42c9-925c-6b17962e6244",
   "metadata": {},
   "source": [
    "### B1: Exploratory Data Analysis\n"
   ]
  },
  {
   "cell_type": "code",
   "execution_count": 1,
   "id": "3feba3ad-fab2-42f2-9b74-49d0e2ddfff3",
   "metadata": {},
   "outputs": [
    {
     "data": {
      "text/html": [
       "<div>\n",
       "<style scoped>\n",
       "    .dataframe tbody tr th:only-of-type {\n",
       "        vertical-align: middle;\n",
       "    }\n",
       "\n",
       "    .dataframe tbody tr th {\n",
       "        vertical-align: top;\n",
       "    }\n",
       "\n",
       "    .dataframe thead th {\n",
       "        text-align: right;\n",
       "    }\n",
       "</style>\n",
       "<table border=\"1\" class=\"dataframe\">\n",
       "  <thead>\n",
       "    <tr style=\"text-align: right;\">\n",
       "      <th></th>\n",
       "      <th>Review</th>\n",
       "      <th>Sentiment</th>\n",
       "    </tr>\n",
       "  </thead>\n",
       "  <tbody>\n",
       "    <tr>\n",
       "      <th>0</th>\n",
       "      <td>So there is no way for me to plug it in here i...</td>\n",
       "      <td>0</td>\n",
       "    </tr>\n",
       "    <tr>\n",
       "      <th>1</th>\n",
       "      <td>Good case, Excellent value.</td>\n",
       "      <td>1</td>\n",
       "    </tr>\n",
       "    <tr>\n",
       "      <th>2</th>\n",
       "      <td>Great for the jawbone.</td>\n",
       "      <td>1</td>\n",
       "    </tr>\n",
       "    <tr>\n",
       "      <th>3</th>\n",
       "      <td>Tied to charger for conversations lasting more...</td>\n",
       "      <td>0</td>\n",
       "    </tr>\n",
       "    <tr>\n",
       "      <th>4</th>\n",
       "      <td>The mic is great.</td>\n",
       "      <td>1</td>\n",
       "    </tr>\n",
       "  </tbody>\n",
       "</table>\n",
       "</div>"
      ],
      "text/plain": [
       "                                              Review  Sentiment\n",
       "0  So there is no way for me to plug it in here i...          0\n",
       "1                        Good case, Excellent value.          1\n",
       "2                             Great for the jawbone.          1\n",
       "3  Tied to charger for conversations lasting more...          0\n",
       "4                                  The mic is great.          1"
      ]
     },
     "execution_count": 1,
     "metadata": {},
     "output_type": "execute_result"
    }
   ],
   "source": [
    "#importing libraries\n",
    "import pandas as pd\n",
    "import numpy as np\n",
    "import matplotlib.pyplot as plt\n",
    "import seaborn as sns\n",
    "import sklearn\n",
    "import re\n",
    "import tensorflow as tf\n",
    "from sklearn import preprocessing\n",
    "from sklearn.model_selection import train_test_split\n",
    "from tensorflow.keras.preprocessing.text import Tokenizer\n",
    "from tensorflow.keras.callbacks import EarlyStopping\n",
    "from tensorflow.keras.models import load_model\n",
    "from tensorflow.keras.preprocessing.sequence import pad_sequences\n",
    "from tensorflow.keras.layers import Dense, GlobalAveragePooling1D, Embedding, Flatten\n",
    "from tensorflow.keras.models import Sequential\n",
    "\n",
    "#importing dataset into a dataframe\n",
    "df = pd.read_csv('amazon_cells_labelled.txt', sep='\\t', header = None, names = ['Review', 'Sentiment'])\n",
    "df.head()"
   ]
  },
  {
   "cell_type": "code",
   "execution_count": 2,
   "id": "1f5c738e",
   "metadata": {},
   "outputs": [
    {
     "name": "stdout",
     "output_type": "stream",
     "text": [
      "<class 'pandas.core.frame.DataFrame'>\n",
      "RangeIndex: 1000 entries, 0 to 999\n",
      "Data columns (total 2 columns):\n",
      " #   Column     Non-Null Count  Dtype \n",
      "---  ------     --------------  ----- \n",
      " 0   Review     1000 non-null   object\n",
      " 1   Sentiment  1000 non-null   int64 \n",
      "dtypes: int64(1), object(1)\n",
      "memory usage: 15.8+ KB\n"
     ]
    }
   ],
   "source": [
    "#general assessment of null/duplicate values\n",
    "df.info()"
   ]
  },
  {
   "cell_type": "code",
   "execution_count": 3,
   "id": "12bd917a",
   "metadata": {},
   "outputs": [
    {
     "data": {
      "text/plain": [
       "False    990\n",
       "True      10\n",
       "dtype: int64"
      ]
     },
     "execution_count": 3,
     "metadata": {},
     "output_type": "execute_result"
    }
   ],
   "source": [
    "#checking for duplicates\n",
    "df.duplicated().value_counts()"
   ]
  },
  {
   "cell_type": "code",
   "execution_count": 4,
   "id": "2477deb8",
   "metadata": {},
   "outputs": [
    {
     "data": {
      "text/plain": [
       "False    990\n",
       "dtype: int64"
      ]
     },
     "execution_count": 4,
     "metadata": {},
     "output_type": "execute_result"
    }
   ],
   "source": [
    "#removing 10 duplicate entries\n",
    "df.drop_duplicates(inplace=True)\n",
    "\n",
    "#checking if duplicates still remain\n",
    "df.duplicated().value_counts()"
   ]
  },
  {
   "cell_type": "code",
   "execution_count": 5,
   "id": "bcc41cd9",
   "metadata": {},
   "outputs": [
    {
     "data": {
      "text/plain": [
       "(990, 2)"
      ]
     },
     "execution_count": 5,
     "metadata": {},
     "output_type": "execute_result"
    }
   ],
   "source": [
    "df.shape"
   ]
  },
  {
   "cell_type": "code",
   "execution_count": 6,
   "id": "2d23397b",
   "metadata": {},
   "outputs": [
    {
     "data": {
      "text/plain": [
       "0    497\n",
       "1    493\n",
       "Name: Sentiment, dtype: int64"
      ]
     },
     "execution_count": 6,
     "metadata": {},
     "output_type": "execute_result"
    },
    {
     "data": {
      "image/png": "[encoded data removed]",
      "text/plain": [
       "<Figure size 640x480 with 1 Axes>"
      ]
     },
     "metadata": {},
     "output_type": "display_data"
    }
   ],
   "source": [
    "#visualizing the distribution of positive and negative sentiment\n",
    "sns.countplot(x = \"Sentiment\", data=df)\n",
    "df[\"Sentiment\"].value_counts()"
   ]
  },
  {
   "cell_type": "code",
   "execution_count": 7,
   "id": "8552838b",
   "metadata": {},
   "outputs": [
    {
     "name": "stdout",
     "output_type": "stream",
     "text": [
      "[' ', '!', '\"', '#', '$', '%', '&', \"'\", '(', ')', '*', '+', ',', '-', '.', '/', '0', '1', '2', '3', '4', '5', '6', '7', '8', '9', ':', ';', '?', 'A', 'B', 'C', 'D', 'E', 'F', 'G', 'H', 'I', 'J', 'K', 'L', 'M', 'N', 'O', 'P', 'Q', 'R', 'S', 'T', 'U', 'V', 'W', 'X', 'Y', 'Z', '[', ']', 'a', 'b', 'c', 'd', 'e', 'f', 'g', 'h', 'i', 'j', 'k', 'l', 'm', 'n', 'o', 'p', 'q', 'r', 's', 't', 'u', 'v', 'w', 'x', 'y', 'z']\n"
     ]
    }
   ],
   "source": [
    "#generating list of chars to identify unusual characters/non-english letters\n",
    "list_of_characters = []\n",
    "for comment in df.Review:\n",
    "    for character in comment:\n",
    "        if character not in list_of_characters:\n",
    "            list_of_characters.append(character)\n",
    "\n",
    "list_of_characters.sort()\n",
    "print(list_of_characters)"
   ]
  },
  {
   "cell_type": "markdown",
   "id": "89ce0cb8",
   "metadata": {},
   "source": [
    "**Presence of unusual characters/emojis**\n",
    "\n",
    "The purpose for the above function is to establish an array of every unique character that can be found within the dataset provided. I have also sorted the array to easily assess any gaps or characters unused from the traditional alphabet/numerical scale. From this we can see that the amazon reviews contain every letter of the alphabet, both capital and lowercase, every number from 0 to 9, and common punctuation terms such as !, ?, ., etc... However, punctuation marks such as the above and #, &, and / do not particularly indicate any form of sentiment. Additionally, while no emojis appear to be present within my list of characters, it is also possible that customers may have utilized characters in conjunction to create some expressions such as :). Therefore, I am going to remove these punctuation marks from my reviews, and I will also re-express all capital letters to lowercase to eliminate redundancy."
   ]
  },
  {
   "cell_type": "code",
   "execution_count": 8,
   "id": "e0d897b6",
   "metadata": {},
   "outputs": [
    {
     "name": "stdout",
     "output_type": "stream",
     "text": [
      "['i', 'me', 'my', 'myself', 'we', 'our', 'ours', 'ourselves', 'you', \"you're\", \"you've\", \"you'll\", \"you'd\", 'your', 'yours', 'yourself', 'yourselves', 'he', 'him', 'his', 'himself', 'she', \"she's\", 'her', 'hers', 'herself', 'it', \"it's\", 'its', 'itself', 'they', 'them', 'their', 'theirs', 'themselves', 'what', 'which', 'who', 'whom', 'this', 'that', \"that'll\", 'these', 'those', 'am', 'is', 'are', 'was', 'were', 'be', 'been', 'being', 'have', 'has', 'had', 'having', 'do', 'does', 'did', 'doing', 'a', 'an', 'the', 'and', 'but', 'if', 'or', 'because', 'as', 'until', 'while', 'of', 'at', 'by', 'for', 'with', 'about', 'against', 'between', 'into', 'through', 'during', 'before', 'after', 'above', 'below', 'to', 'from', 'up', 'down', 'in', 'out', 'on', 'off', 'over', 'under', 'again', 'further', 'then', 'once', 'here', 'there', 'when', 'where', 'why', 'how', 'all', 'any', 'both', 'each', 'few', 'more', 'most', 'other', 'some', 'such', 'no', 'nor', 'not', 'only', 'own', 'same', 'so', 'than', 'too', 'very', 's', 't', 'can', 'will', 'just', 'don', \"don't\", 'should', \"should've\", 'now', 'd', 'll', 'm', 'o', 're', 've', 'y', 'ain', 'aren', \"aren't\", 'couldn', \"couldn't\", 'didn', \"didn't\", 'doesn', \"doesn't\", 'hadn', \"hadn't\", 'hasn', \"hasn't\", 'haven', \"haven't\", 'isn', \"isn't\", 'ma', 'mightn', \"mightn't\", 'mustn', \"mustn't\", 'needn', \"needn't\", 'shan', \"shan't\", 'shouldn', \"shouldn't\", 'wasn', \"wasn't\", 'weren', \"weren't\", 'won', \"won't\", 'wouldn', \"wouldn't\"]\n"
     ]
    }
   ],
   "source": [
    "import nltk\n",
    "#nltk.download('stopwords')\n",
    "#nltk.download('punkt')\n",
    "from nltk.corpus import stopwords\n",
    "stop_words = stopwords.words('english')\n",
    "\n",
    "print(stop_words)"
   ]
  },
  {
   "cell_type": "markdown",
   "id": "d3549c13",
   "metadata": {},
   "source": [
    "Looking at the list above, these words constitute all the text that bears no sentiment that would indicate a positive or negative review (also known as stopwords). As such, I removed any stopwords from my reviews as they have no relevance to the sentiment analysis. For anyone running this code that does not have a system already equipped with the library for stopwords, simply remove the # comment from the code block above to allow the notebook to download 'stopwords' and 'punkt' to the system."
   ]
  },
  {
   "cell_type": "code",
   "execution_count": 9,
   "id": "11aa37bd",
   "metadata": {},
   "outputs": [],
   "source": [
    "#make all characters in review lowercase\n",
    "df[\"Review\"] = df[\"Review\"].str.lower()\n",
    "\n",
    "#creating empty array to store all reviews that will be re-expressed (Elleh, n.d.)\n",
    "reviews = []\n",
    "for text in df[\"Review\"]:\n",
    "    \n",
    "    #removing puncuation\n",
    "    text = re.sub(\"[^a-zA-Z]\", \" \", text)\n",
    "    \n",
    "    #tokenizing the text in each review\n",
    "    text = nltk.word_tokenize(text)\n",
    "    \n",
    "    #removing stop words from descriptions\n",
    "    text = [word for word in text if not word in stop_words]\n",
    "    \n",
    "    #adding text to the reviews list\n",
    "    text = \" \".join(text)\n",
    "    reviews.append(text)"
   ]
  },
  {
   "cell_type": "code",
   "execution_count": 10,
   "id": "52663f66",
   "metadata": {},
   "outputs": [
    {
     "data": {
      "text/html": [
       "<div>\n",
       "<style scoped>\n",
       "    .dataframe tbody tr th:only-of-type {\n",
       "        vertical-align: middle;\n",
       "    }\n",
       "\n",
       "    .dataframe tbody tr th {\n",
       "        vertical-align: top;\n",
       "    }\n",
       "\n",
       "    .dataframe thead th {\n",
       "        text-align: right;\n",
       "    }\n",
       "</style>\n",
       "<table border=\"1\" class=\"dataframe\">\n",
       "  <thead>\n",
       "    <tr style=\"text-align: right;\">\n",
       "      <th></th>\n",
       "      <th>Review</th>\n",
       "      <th>Sentiment</th>\n",
       "    </tr>\n",
       "  </thead>\n",
       "  <tbody>\n",
       "    <tr>\n",
       "      <th>0</th>\n",
       "      <td>way plug us unless go converter</td>\n",
       "      <td>0</td>\n",
       "    </tr>\n",
       "    <tr>\n",
       "      <th>1</th>\n",
       "      <td>good case excellent value</td>\n",
       "      <td>1</td>\n",
       "    </tr>\n",
       "    <tr>\n",
       "      <th>2</th>\n",
       "      <td>great jawbone</td>\n",
       "      <td>1</td>\n",
       "    </tr>\n",
       "    <tr>\n",
       "      <th>3</th>\n",
       "      <td>tied charger conversations lasting minutes maj...</td>\n",
       "      <td>0</td>\n",
       "    </tr>\n",
       "    <tr>\n",
       "      <th>4</th>\n",
       "      <td>mic great</td>\n",
       "      <td>1</td>\n",
       "    </tr>\n",
       "    <tr>\n",
       "      <th>...</th>\n",
       "      <td>...</td>\n",
       "      <td>...</td>\n",
       "    </tr>\n",
       "    <tr>\n",
       "      <th>995</th>\n",
       "      <td>screen get smudged easily touches ear face</td>\n",
       "      <td>0</td>\n",
       "    </tr>\n",
       "    <tr>\n",
       "      <th>996</th>\n",
       "      <td>piece junk lose calls phone</td>\n",
       "      <td>0</td>\n",
       "    </tr>\n",
       "    <tr>\n",
       "      <th>997</th>\n",
       "      <td>item match picture</td>\n",
       "      <td>0</td>\n",
       "    </tr>\n",
       "    <tr>\n",
       "      <th>998</th>\n",
       "      <td>thing disappoint infra red port irda</td>\n",
       "      <td>0</td>\n",
       "    </tr>\n",
       "    <tr>\n",
       "      <th>999</th>\n",
       "      <td>answer calls unit never worked</td>\n",
       "      <td>0</td>\n",
       "    </tr>\n",
       "  </tbody>\n",
       "</table>\n",
       "<p>990 rows × 2 columns</p>\n",
       "</div>"
      ],
      "text/plain": [
       "                                                Review  Sentiment\n",
       "0                      way plug us unless go converter          0\n",
       "1                            good case excellent value          1\n",
       "2                                        great jawbone          1\n",
       "3    tied charger conversations lasting minutes maj...          0\n",
       "4                                            mic great          1\n",
       "..                                                 ...        ...\n",
       "995         screen get smudged easily touches ear face          0\n",
       "996                        piece junk lose calls phone          0\n",
       "997                                 item match picture          0\n",
       "998               thing disappoint infra red port irda          0\n",
       "999                     answer calls unit never worked          0\n",
       "\n",
       "[990 rows x 2 columns]"
      ]
     },
     "execution_count": 10,
     "metadata": {},
     "output_type": "execute_result"
    }
   ],
   "source": [
    "#replacing the existing review column in the dataframe with the converted reviews\n",
    "df[\"Review\"] = reviews\n",
    "\n",
    "#printing dataframe to see if the changes have been applied\n",
    "df"
   ]
  },
  {
   "cell_type": "markdown",
   "id": "6da54141",
   "metadata": {},
   "source": [
    "**Vocabulary size**"
   ]
  },
  {
   "cell_type": "code",
   "execution_count": 11,
   "id": "15120ad4",
   "metadata": {},
   "outputs": [
    {
     "name": "stdout",
     "output_type": "stream",
     "text": [
      "Vocabulary size:  1690\n"
     ]
    }
   ],
   "source": [
    "#identifying the vocabulary size\n",
    "tokenizer = Tokenizer()\n",
    "tokenizer.fit_on_texts(df[\"Review\"])\n",
    "\n",
    "vocabulary_size = len(tokenizer.word_index)+1\n",
    "\n",
    "print(\"Vocabulary size: \", vocabulary_size)"
   ]
  },
  {
   "cell_type": "markdown",
   "id": "a5b6a780",
   "metadata": {},
   "source": [
    "The vocabulary size (the number of unique words) was determined by tokenizing all the words found across all the reviews, and then by counting the length of the array of tokenized word index.\n",
    "\n",
    "**Proposed word embedding length**\n",
    "\n",
    "Per documentation provided by the Tensorflow Team, a good rule of thumb for determining embedding length is to take the 4th root of the vocabulary size (Tensorflow Team, 2017). "
   ]
  },
  {
   "cell_type": "code",
   "execution_count": 12,
   "id": "53dfdde5",
   "metadata": {},
   "outputs": [
    {
     "name": "stdout",
     "output_type": "stream",
     "text": [
      "The proposed word embedding length is:  6\n"
     ]
    }
   ],
   "source": [
    "#calculating the 4th root (square root twice) of the vocabulary size\n",
    "print(\"The proposed word embedding length is: \", round(vocabulary_size ** 0.25))"
   ]
  },
  {
   "cell_type": "markdown",
   "id": "a65269b1",
   "metadata": {},
   "source": [
    "**Justification for maximum sequence length**"
   ]
  },
  {
   "cell_type": "code",
   "execution_count": 13,
   "id": "1c3e81df",
   "metadata": {},
   "outputs": [
    {
     "name": "stdout",
     "output_type": "stream",
     "text": [
      "Maximum review sequence length:  114\n",
      "Minimum review sequence length:  3\n",
      "Median review sequence length:  29.0\n"
     ]
    }
   ],
   "source": [
    "#creating a list of the length of each review\n",
    "length_sequences = [len(rev) for rev in df[\"Review\"]]\n",
    "\n",
    "#calculating max, min, and median sequence lengths for all reviews within list of reviews\n",
    "print(\"Maximum review sequence length: \", np.max(length_sequences))\n",
    "print(\"Minimum review sequence length: \", np.min(length_sequences))\n",
    "print(\"Median review sequence length: \", np.median(length_sequences))\n",
    "\n",
    "mseq_length = np.max(length_sequences)"
   ]
  },
  {
   "cell_type": "markdown",
   "id": "cec01a18",
   "metadata": {},
   "source": [
    "Based on the statistical review of the sequence lengths above, the maximum sequence length of 114 words will be used to pad sequences shorter than this amount."
   ]
  },
  {
   "cell_type": "markdown",
   "id": "6f79835c-9287-47ed-bd8a-82bd9cc057cf",
   "metadata": {},
   "source": [
    "### B2: Tokenization Goals\n",
    "The tokenization performed within this performance assessment is a process by which words are converted into an index based on the amount of times it appears within the dataset. Within the cleaning stage above, unnecessary symbols, punctuation marks, and text that does not carry any sentiment were removed. I then converted all the text within the reviews to lowercase as tokenization is case sensitive. The code for this was conducted in section B1.\n",
    "\n",
    "Now, the next stage of tokenization is to split the cleaned dataframe into training, validation, and testing sets with sklearn's train_test_split function. In researching the ideal split parameters, there is no defined 'optimal' splitting ratio for these datasets, it has instead been recommended to split based on the quantity of data available to analyze to ensure that each dataset provides enough information for the model to train on (Baheit, 2021). As the cleaned dataset contains 990 reviews for analysis, I am proposing to divide the data at a 70% train, 15% validation, and 15% test split to feed to my tensorflow model. These sets will then be tokenized prior to the padding process. "
   ]
  },
  {
   "cell_type": "code",
   "execution_count": 14,
   "id": "dc0df2d4",
   "metadata": {},
   "outputs": [
    {
     "name": "stdout",
     "output_type": "stream",
     "text": [
      "Training set length: 693\n",
      "Validation set length: 148\n",
      "Testing set length: 149\n"
     ]
    }
   ],
   "source": [
    "#splitting the data into a training set at 70%, reserving the other 30% for another split into validation and test sets\n",
    "X_train, X_reserve, y_train, y_reserve = train_test_split(df.Review, df.Sentiment, train_size = 0.7, random_state = 42)\n",
    "\n",
    "#splitting the reserve data into validation and testing sets at 50% (a total of 15% each from the original dataset)\n",
    "X_val, X_test, y_val, y_test = train_test_split(X_reserve, y_reserve, train_size = 0.5, random_state = 42)\n",
    "\n",
    "#confirmation of size for split sample sets\n",
    "print(\"Training set length:\", X_train.shape[0])\n",
    "print(\"Validation set length:\", X_val.shape[0])\n",
    "print(\"Testing set length:\", X_test.shape[0])"
   ]
  },
  {
   "cell_type": "code",
   "execution_count": 15,
   "id": "112b9303",
   "metadata": {},
   "outputs": [
    {
     "data": {
      "text/plain": [
       "[46, 1302, 199, 1303, 161, 141, 1304, 228, 1, 21, 173, 19]"
      ]
     },
     "execution_count": 15,
     "metadata": {},
     "output_type": "execute_result"
    }
   ],
   "source": [
    "#tokenizing the split data\n",
    "token_train = tokenizer.texts_to_sequences(X_train)\n",
    "token_val = tokenizer.texts_to_sequences(X_val)\n",
    "token_test = tokenizer.texts_to_sequences(X_test)\n",
    "\n",
    "token_train[0]"
   ]
  },
  {
   "cell_type": "markdown",
   "id": "68212181",
   "metadata": {},
   "source": [
    "### B3: Padding Process\n",
    "As calculated in section B1, the maximum sequence length found within my cleaned dataset was 114 words long. As such, I will pad out all of the sequences within the X training and testing sets to match a total 114. This process adds 0 for any sequence that is below the maximum (114) so that all the sequences will be the same length, which will optimize the performance of the tensorflow model. For this process, I have set the padding to occur *after* the existing text sequence by setting the padding parameter to 'post'. Padding only needs to be done on the set of X data, as y data is purely a binary sentiment category. An example of a padded sequence will be printed after the padding process is completed, showing a comparison to the original token_train[0] above."
   ]
  },
  {
   "cell_type": "code",
   "execution_count": 16,
   "id": "36124166",
   "metadata": {},
   "outputs": [
    {
     "data": {
      "text/plain": [
       "array([  46, 1302,  199, 1303,  161,  141, 1304,  228,    1,   21,  173,\n",
       "         19,    0,    0,    0,    0,    0,    0,    0,    0,    0,    0,\n",
       "          0,    0,    0,    0,    0,    0,    0,    0,    0,    0,    0,\n",
       "          0,    0,    0,    0,    0,    0,    0,    0,    0,    0,    0,\n",
       "          0,    0,    0,    0,    0,    0,    0,    0,    0,    0,    0,\n",
       "          0,    0,    0,    0,    0,    0,    0,    0,    0,    0,    0,\n",
       "          0,    0,    0,    0,    0,    0,    0,    0,    0,    0,    0,\n",
       "          0,    0,    0,    0,    0,    0,    0,    0,    0,    0,    0,\n",
       "          0,    0,    0,    0,    0,    0,    0,    0,    0,    0,    0,\n",
       "          0,    0,    0,    0,    0,    0,    0,    0,    0,    0,    0,\n",
       "          0,    0,    0,    0])"
      ]
     },
     "execution_count": 16,
     "metadata": {},
     "output_type": "execute_result"
    }
   ],
   "source": [
    "#padding the training and test data, setting max sequence length to 114 and padding after the text sequence\n",
    "pad_train = pad_sequences(token_train, mseq_length, padding = 'post')\n",
    "pad_val = pad_sequences(token_val, mseq_length, padding = 'post')\n",
    "pad_test = pad_sequences(token_test, mseq_length, padding = 'post')\n",
    "\n",
    "pad_train[0]"
   ]
  },
  {
   "cell_type": "markdown",
   "id": "2cb31c15",
   "metadata": {},
   "source": [
    "As can be seen from the above, the new sequence at index 0 in the training set has been padded to match the 114 maximum length."
   ]
  },
  {
   "cell_type": "markdown",
   "id": "bdacf24f",
   "metadata": {},
   "source": [
    "### B4: Sentiment Categories\n",
    "There are 2 categories of sentiment within my data; a positive sentiment (expressed as 1), and negative sentiment (expressed as 0).\n",
    "\n",
    "The activation function utilized for the final layer of the network will be sigmoid (also referred to as logistic function). The sigmoid function was chosen as it maps outputs to a range between 0 and 1 only (Brownlee, 2021), fitting perfectly with the conditions of our sentiment categories."
   ]
  },
  {
   "cell_type": "markdown",
   "id": "3f2e9fd0",
   "metadata": {},
   "source": [
    "### B5: Data Preparation Steps\n",
    "1. Extract the review data within the amazon_cells_labelled text document, storing it in a dataframe with two columns: Review and Sentiment\n",
    "2. Review dataframe for null values and duplicate entries, removing any nulls and duplicates found.\n",
    "3. List all characters within review dataset to identify presence of emoji's, non-english characters, etc...\n",
    "4. Identify all stopwords within review dataset\n",
    "5. Convert all text in reviews to lowercase, remove punctuation, non-english characters, emojis, and stopwords, cleaning all data in the review dataframe\n",
    "6. Tokenize all text within reviews using fit_on_texts functions, converting words to numerical index for mathematical operations\n",
    "7. Identify the max length of all sequences within the data for padding number\n",
    "8. Split data into training, validation, and test sets at a 70%, 15%, 15% split respectively. NOTE*\n",
    "9. Tokenize the Review portions of the training, validation, and testing sets using texts_to_sequences\n",
    "10. Pad all tokenized sequences using the max length identified from the max sequence length, and set padding to 'post'\n",
    "\n",
    "NOTE*: as discussed within section B2, data was chosen to be split into train, validation, and test sets at 70%, 15%, and 15% respectively as industry practice recommends having a large enough validation set for the model to use for assessment, so it will be no smaller than 15%."
   ]
  },
  {
   "cell_type": "markdown",
   "id": "eea5ae37",
   "metadata": {},
   "source": [
    "### B6: Prepared Dataset\n",
    "I will provide the tokenized/padded training, validation, and testing sets seperately below."
   ]
  },
  {
   "cell_type": "code",
   "execution_count": 17,
   "id": "38c9695b",
   "metadata": {},
   "outputs": [],
   "source": [
    "#exporting cleaned dataset to csv\n",
    "pd.DataFrame(pad_train).to_csv('pad_train.csv')\n",
    "pd.DataFrame(pad_val).to_csv('pad_val.csv')\n",
    "pd.DataFrame(pad_test).to_csv('pad_test.csv')\n",
    "pd.DataFrame(y_train).to_csv('y_train.csv')\n",
    "pd.DataFrame(y_val).to_csv('y_val.csv')\n",
    "pd.DataFrame(y_test).to_csv('y_test.csv')"
   ]
  },
  {
   "cell_type": "markdown",
   "id": "da7e8e9e-88f6-417c-830f-e79fddbaeca3",
   "metadata": {},
   "source": [
    "### C1: TensorFlow Model Output"
   ]
  },
  {
   "cell_type": "code",
   "execution_count": 18,
   "id": "3e525305",
   "metadata": {
    "scrolled": false
   },
   "outputs": [
    {
     "name": "stdout",
     "output_type": "stream",
     "text": [
      "Epoch 1/20\n",
      "\u001b[1m22/22\u001b[0m \u001b[32m━━━━━━━━━━━━━━━━━━━━\u001b[0m\u001b[37m\u001b[0m \u001b[1m1s\u001b[0m 8ms/step - accuracy: 0.5026 - loss: 0.6947 - val_accuracy: 0.4932 - val_loss: 0.6935\n",
      "Epoch 2/20\n",
      "\u001b[1m22/22\u001b[0m \u001b[32m━━━━━━━━━━━━━━━━━━━━\u001b[0m\u001b[37m\u001b[0m \u001b[1m0s\u001b[0m 2ms/step - accuracy: 0.5150 - loss: 0.6907 - val_accuracy: 0.5000 - val_loss: 0.6902\n",
      "Epoch 3/20\n",
      "\u001b[1m22/22\u001b[0m \u001b[32m━━━━━━━━━━━━━━━━━━━━\u001b[0m\u001b[37m\u001b[0m \u001b[1m0s\u001b[0m 2ms/step - accuracy: 0.5571 - loss: 0.6829 - val_accuracy: 0.6419 - val_loss: 0.6819\n",
      "Epoch 4/20\n",
      "\u001b[1m22/22\u001b[0m \u001b[32m━━━━━━━━━━━━━━━━━━━━\u001b[0m\u001b[37m\u001b[0m \u001b[1m0s\u001b[0m 2ms/step - accuracy: 0.7768 - loss: 0.6604 - val_accuracy: 0.6216 - val_loss: 0.6647\n",
      "Epoch 5/20\n",
      "\u001b[1m22/22\u001b[0m \u001b[32m━━━━━━━━━━━━━━━━━━━━\u001b[0m\u001b[37m\u001b[0m \u001b[1m0s\u001b[0m 2ms/step - accuracy: 0.7088 - loss: 0.6135 - val_accuracy: 0.7905 - val_loss: 0.6237\n",
      "Epoch 6/20\n",
      "\u001b[1m22/22\u001b[0m \u001b[32m━━━━━━━━━━━━━━━━━━━━\u001b[0m\u001b[37m\u001b[0m \u001b[1m0s\u001b[0m 2ms/step - accuracy: 0.9332 - loss: 0.5228 - val_accuracy: 0.7230 - val_loss: 0.5704\n",
      "Epoch 7/20\n",
      "\u001b[1m22/22\u001b[0m \u001b[32m━━━━━━━━━━━━━━━━━━━━\u001b[0m\u001b[37m\u001b[0m \u001b[1m0s\u001b[0m 2ms/step - accuracy: 0.9489 - loss: 0.3954 - val_accuracy: 0.6757 - val_loss: 0.5460\n",
      "Epoch 8/20\n",
      "\u001b[1m22/22\u001b[0m \u001b[32m━━━━━━━━━━━━━━━━━━━━\u001b[0m\u001b[37m\u001b[0m \u001b[1m0s\u001b[0m 2ms/step - accuracy: 0.9689 - loss: 0.2874 - val_accuracy: 0.7838 - val_loss: 0.4860\n",
      "Epoch 9/20\n",
      "\u001b[1m22/22\u001b[0m \u001b[32m━━━━━━━━━━━━━━━━━━━━\u001b[0m\u001b[37m\u001b[0m \u001b[1m0s\u001b[0m 2ms/step - accuracy: 0.9772 - loss: 0.2141 - val_accuracy: 0.7973 - val_loss: 0.4680\n",
      "Epoch 10/20\n",
      "\u001b[1m22/22\u001b[0m \u001b[32m━━━━━━━━━━━━━━━━━━━━\u001b[0m\u001b[37m\u001b[0m \u001b[1m0s\u001b[0m 2ms/step - accuracy: 0.9874 - loss: 0.1319 - val_accuracy: 0.7905 - val_loss: 0.4615\n",
      "Epoch 11/20\n",
      "\u001b[1m22/22\u001b[0m \u001b[32m━━━━━━━━━━━━━━━━━━━━\u001b[0m\u001b[37m\u001b[0m \u001b[1m0s\u001b[0m 2ms/step - accuracy: 0.9820 - loss: 0.1083 - val_accuracy: 0.7838 - val_loss: 0.4589\n",
      "Epoch 12/20\n",
      "\u001b[1m22/22\u001b[0m \u001b[32m━━━━━━━━━━━━━━━━━━━━\u001b[0m\u001b[37m\u001b[0m \u001b[1m0s\u001b[0m 2ms/step - accuracy: 0.9894 - loss: 0.0872 - val_accuracy: 0.7905 - val_loss: 0.4601\n",
      "Epoch 13/20\n",
      "\u001b[1m22/22\u001b[0m \u001b[32m━━━━━━━━━━━━━━━━━━━━\u001b[0m\u001b[37m\u001b[0m \u001b[1m0s\u001b[0m 2ms/step - accuracy: 0.9947 - loss: 0.0654 - val_accuracy: 0.7635 - val_loss: 0.4882\n"
     ]
    },
    {
     "data": {
      "text/html": [
       "<pre style=\"white-space:pre;overflow-x:auto;line-height:normal;font-family:Menlo,'DejaVu Sans Mono',consolas,'Courier New',monospace\"><span style=\"font-weight: bold\">Model: \"sequential\"</span>\n",
       "</pre>\n"
      ],
      "text/plain": [
       "\u001b[1mModel: \"sequential\"\u001b[0m\n"
      ]
     },
     "metadata": {},
     "output_type": "display_data"
    },
    {
     "data": {
      "text/html": [
       "<pre style=\"white-space:pre;overflow-x:auto;line-height:normal;font-family:Menlo,'DejaVu Sans Mono',consolas,'Courier New',monospace\">┏━━━━━━━━━━━━━━━━━━━━━━━━━━━━━━━━━┳━━━━━━━━━━━━━━━━━━━━━━━━┳━━━━━━━━━━━━━━━┓\n",
       "┃<span style=\"font-weight: bold\"> Layer (type)                    </span>┃<span style=\"font-weight: bold\"> Output Shape           </span>┃<span style=\"font-weight: bold\">       Param # </span>┃\n",
       "┡━━━━━━━━━━━━━━━━━━━━━━━━━━━━━━━━━╇━━━━━━━━━━━━━━━━━━━━━━━━╇━━━━━━━━━━━━━━━┩\n",
       "│ embedding (<span style=\"color: #0087ff; text-decoration-color: #0087ff\">Embedding</span>)           │ (<span style=\"color: #00d7ff; text-decoration-color: #00d7ff\">None</span>, <span style=\"color: #00af00; text-decoration-color: #00af00\">114</span>, <span style=\"color: #00af00; text-decoration-color: #00af00\">6</span>)         │        <span style=\"color: #00af00; text-decoration-color: #00af00\">10,140</span> │\n",
       "├─────────────────────────────────┼────────────────────────┼───────────────┤\n",
       "│ flatten (<span style=\"color: #0087ff; text-decoration-color: #0087ff\">Flatten</span>)               │ (<span style=\"color: #00d7ff; text-decoration-color: #00d7ff\">None</span>, <span style=\"color: #00af00; text-decoration-color: #00af00\">684</span>)            │             <span style=\"color: #00af00; text-decoration-color: #00af00\">0</span> │\n",
       "├─────────────────────────────────┼────────────────────────┼───────────────┤\n",
       "│ dense (<span style=\"color: #0087ff; text-decoration-color: #0087ff\">Dense</span>)                   │ (<span style=\"color: #00d7ff; text-decoration-color: #00d7ff\">None</span>, <span style=\"color: #00af00; text-decoration-color: #00af00\">50</span>)             │        <span style=\"color: #00af00; text-decoration-color: #00af00\">34,250</span> │\n",
       "├─────────────────────────────────┼────────────────────────┼───────────────┤\n",
       "│ dense_1 (<span style=\"color: #0087ff; text-decoration-color: #0087ff\">Dense</span>)                 │ (<span style=\"color: #00d7ff; text-decoration-color: #00d7ff\">None</span>, <span style=\"color: #00af00; text-decoration-color: #00af00\">1</span>)              │            <span style=\"color: #00af00; text-decoration-color: #00af00\">51</span> │\n",
       "└─────────────────────────────────┴────────────────────────┴───────────────┘\n",
       "</pre>\n"
      ],
      "text/plain": [
       "┏━━━━━━━━━━━━━━━━━━━━━━━━━━━━━━━━━┳━━━━━━━━━━━━━━━━━━━━━━━━┳━━━━━━━━━━━━━━━┓\n",
       "┃\u001b[1m \u001b[0m\u001b[1mLayer (type)                   \u001b[0m\u001b[1m \u001b[0m┃\u001b[1m \u001b[0m\u001b[1mOutput Shape          \u001b[0m\u001b[1m \u001b[0m┃\u001b[1m \u001b[0m\u001b[1m      Param #\u001b[0m\u001b[1m \u001b[0m┃\n",
       "┡━━━━━━━━━━━━━━━━━━━━━━━━━━━━━━━━━╇━━━━━━━━━━━━━━━━━━━━━━━━╇━━━━━━━━━━━━━━━┩\n",
       "│ embedding (\u001b[38;5;33mEmbedding\u001b[0m)           │ (\u001b[38;5;45mNone\u001b[0m, \u001b[38;5;34m114\u001b[0m, \u001b[38;5;34m6\u001b[0m)         │        \u001b[38;5;34m10,140\u001b[0m │\n",
       "├─────────────────────────────────┼────────────────────────┼───────────────┤\n",
       "│ flatten (\u001b[38;5;33mFlatten\u001b[0m)               │ (\u001b[38;5;45mNone\u001b[0m, \u001b[38;5;34m684\u001b[0m)            │             \u001b[38;5;34m0\u001b[0m │\n",
       "├─────────────────────────────────┼────────────────────────┼───────────────┤\n",
       "│ dense (\u001b[38;5;33mDense\u001b[0m)                   │ (\u001b[38;5;45mNone\u001b[0m, \u001b[38;5;34m50\u001b[0m)             │        \u001b[38;5;34m34,250\u001b[0m │\n",
       "├─────────────────────────────────┼────────────────────────┼───────────────┤\n",
       "│ dense_1 (\u001b[38;5;33mDense\u001b[0m)                 │ (\u001b[38;5;45mNone\u001b[0m, \u001b[38;5;34m1\u001b[0m)              │            \u001b[38;5;34m51\u001b[0m │\n",
       "└─────────────────────────────────┴────────────────────────┴───────────────┘\n"
      ]
     },
     "metadata": {},
     "output_type": "display_data"
    },
    {
     "data": {
      "text/html": [
       "<pre style=\"white-space:pre;overflow-x:auto;line-height:normal;font-family:Menlo,'DejaVu Sans Mono',consolas,'Courier New',monospace\"><span style=\"font-weight: bold\"> Total params: </span><span style=\"color: #00af00; text-decoration-color: #00af00\">133,325</span> (520.80 KB)\n",
       "</pre>\n"
      ],
      "text/plain": [
       "\u001b[1m Total params: \u001b[0m\u001b[38;5;34m133,325\u001b[0m (520.80 KB)\n"
      ]
     },
     "metadata": {},
     "output_type": "display_data"
    },
    {
     "data": {
      "text/html": [
       "<pre style=\"white-space:pre;overflow-x:auto;line-height:normal;font-family:Menlo,'DejaVu Sans Mono',consolas,'Courier New',monospace\"><span style=\"font-weight: bold\"> Trainable params: </span><span style=\"color: #00af00; text-decoration-color: #00af00\">44,441</span> (173.60 KB)\n",
       "</pre>\n"
      ],
      "text/plain": [
       "\u001b[1m Trainable params: \u001b[0m\u001b[38;5;34m44,441\u001b[0m (173.60 KB)\n"
      ]
     },
     "metadata": {},
     "output_type": "display_data"
    },
    {
     "data": {
      "text/html": [
       "<pre style=\"white-space:pre;overflow-x:auto;line-height:normal;font-family:Menlo,'DejaVu Sans Mono',consolas,'Courier New',monospace\"><span style=\"font-weight: bold\"> Non-trainable params: </span><span style=\"color: #00af00; text-decoration-color: #00af00\">0</span> (0.00 B)\n",
       "</pre>\n"
      ],
      "text/plain": [
       "\u001b[1m Non-trainable params: \u001b[0m\u001b[38;5;34m0\u001b[0m (0.00 B)\n"
      ]
     },
     "metadata": {},
     "output_type": "display_data"
    },
    {
     "data": {
      "text/html": [
       "<pre style=\"white-space:pre;overflow-x:auto;line-height:normal;font-family:Menlo,'DejaVu Sans Mono',consolas,'Courier New',monospace\"><span style=\"font-weight: bold\"> Optimizer params: </span><span style=\"color: #00af00; text-decoration-color: #00af00\">88,884</span> (347.21 KB)\n",
       "</pre>\n"
      ],
      "text/plain": [
       "\u001b[1m Optimizer params: \u001b[0m\u001b[38;5;34m88,884\u001b[0m (347.21 KB)\n"
      ]
     },
     "metadata": {},
     "output_type": "display_data"
    }
   ],
   "source": [
    "#creating the sequential model (Tensorflow, 2020)\n",
    "model = Sequential()\n",
    "model.add(Embedding(vocabulary_size, round(vocabulary_size ** 0.25)))\n",
    "model.add(Flatten())\n",
    "model.add(Dense(50, activation='relu'))\n",
    "model.add(Dense(1, activation='sigmoid'))\n",
    "    \n",
    "model.compile(loss='binary_crossentropy', optimizer='adam', metrics=['accuracy'])\n",
    "\n",
    "#fitting the model\n",
    "history = model.fit(pad_train, y_train, batch_size=32, epochs = 20, \n",
    "                  validation_data = (pad_val, y_val), callbacks=[EarlyStopping(patience=2)], \n",
    "                    verbose = True)\n",
    "\n",
    "#printing model summary\n",
    "model.summary()"
   ]
  },
  {
   "cell_type": "markdown",
   "id": "90cf770c-0033-4f42-ac30-496032401a3a",
   "metadata": {},
   "source": [
    "### C2: Layer Discussion\n",
    "For the sequential model above, 4 layers were used.\n",
    "- The first layer is an **embedding** layer, establishing the vocabulary size, embedding length of 6, and an implicit maximum sequence length of 114.\n",
    "- The second layer is a **flattening** layer to reduce the dimensionality of the dataset to increase performance and efficiency. There are no parameters assigned to this layer.\n",
    "- The third layer used is a **dense** layer consiting of 50 nodes, this amount was chosen based on suggestion from the course instructor in the educational material (Elleh, n.d.). The activation function for this layer is a ReLU function, which is a function that converts negative inputs into positive outputs to reduce linearity in the model, boosting performance (Brownlee, 2020).\n",
    "- The fourth and final layer is another **dense** layer, containing a single output node (the sentiment output). This layer utilizes the sigmoid function as its activation function, which outputs a binary outcome of either positive (1) or negative (0) sentiment.\n",
    "\n",
    "The total number of parameters for the model is 133,325. Of this amount, 44,441 are trainable parameters, while 88,884 are optimizer parameters."
   ]
  },
  {
   "cell_type": "markdown",
   "id": "5fcfeffc",
   "metadata": {},
   "source": [
    "### C3: Hyperparameter Selection\n",
    "- **Activation functions:** For the first dense layer, ReLU (rectified linear activation function) was chosen as the activation function as it reduces the linearity of the data, making patterns more complex. This allows for more unique relationships to be identified by the model so it increases the performance. The second dense layer utilizes a sigmoid activation function. The benefit of this function provides an output of either positive (1), or negative (0), aligning perfectly with the desired prediction of our sentiment analysis model.\n",
    "- **Nodes per layer:** As stated above, the first dense layer consisted of 50 nodes, this amount was chosen based on suggestion from the course instructor in the course materials (Elleh, n.d.). The second dense layer only had 1 node, as the aim was to return a single binary output for the sentiment.\n",
    "- **Loss function:** Cross-entropy was utilized as the loss function. It is used to assess performance in deep learning models by minimizing errors between actual and predicted outcomes. *Binary* Cross-Entropy was selected as it is meant to be utilized in binary classification, such as the prediction of positive and negative sentiment (Pykes, 2024).\n",
    "- **Optimizer:** The optimizer chosen for this model is known as Adam. It is an optimization algorithm designed to evaluate prediction parameters to achieve an ideal accuracy in a deep learning model. It was selected as it is straightforward to implement and very computationally efficient, allowing for better performance and efficient runtimes of code (Brownlee, 2021).\n",
    "- **Stopping criteria:** The stopping criteria is a parameter that identifies the point at which the model should stop iterating on a training dataset to prevent overfitting of data. In the application of a model, the stopping criteria is a set value that monitors and stops the model from training when the validation accuracy lowers in successive epochs. In the case of my model, I set an early stopping criteria with a Patience of 2 epochs so that the iteration process of my model would immediately halt before it began overfitting on the training data. \n",
    "- **Evaluation metric:** The evaluation metric used for this model was of course the accuracy of predictions. This was chosen as the aim of this assessment is to determine the predictive accuracy of my model in sentiment analysis. As such, this parameter establishes the aim of maximizing the accuracy of the model until either all the epochs have run or the stopping criteria terminates the training process."
   ]
  },
  {
   "cell_type": "markdown",
   "id": "6c64eff4-2de6-4a2c-b22e-1ca34fda1b79",
   "metadata": {},
   "source": [
    "### D1: Stopping Criteria\n",
    "The established stopping criteria with a patience of 2 Epochs terminated the process of fitting my model early as seen in section C1. Overall, while I established a maximum of 20 epochs, the fitting of my model terminated at epoch 13 due to the stopping criteria. To see the termination please refer to the output for section C1 above but I have also copied it below:\n",
    "\n",
    "Epoch 13/20\n",
    "22/22 ━━━━━━━━━━━━━━━━━━━━ 0s 2ms/step - accuracy: 0.9947 - loss: 0.0654 - val_accuracy: 0.7635 - val_loss: 0.4882"
   ]
  },
  {
   "cell_type": "markdown",
   "id": "aad7aaa8-2e91-40af-8c55-bba433253c02",
   "metadata": {},
   "source": [
    "### D2: Fitness of the Model"
   ]
  },
  {
   "cell_type": "code",
   "execution_count": 32,
   "id": "df5eb249",
   "metadata": {},
   "outputs": [
    {
     "name": "stdout",
     "output_type": "stream",
     "text": [
      "Overall training loss: 0.05876835063099861 \n",
      "Overall accuracy score: 99.28 %\n"
     ]
    }
   ],
   "source": [
    "#printing the accuracy score of the model fit on training data\n",
    "a_score = model.evaluate(pad_train, y_train, verbose=0)\n",
    "print(\"Overall training loss:\", a_score[0], \"\\nOverall accuracy score:\", round(a_score[1]*100, 2),\"%\")"
   ]
  },
  {
   "cell_type": "code",
   "execution_count": 33,
   "id": "14a40c91",
   "metadata": {
    "scrolled": true
   },
   "outputs": [
    {
     "name": "stdout",
     "output_type": "stream",
     "text": [
      "Overall testing loss: 0.4799564480781555 \n",
      "Overall accuracy score: 79.87 %\n"
     ]
    }
   ],
   "source": [
    "#printing the accuracy score of the model fit on testing data that it has not seen before\n",
    "b_score = model.evaluate(pad_test, y_test, verbose=0)\n",
    "print(\"Overall testing loss:\", b_score[0], \"\\nOverall accuracy score:\", round(b_score[1]*100, 2),\"%\")"
   ]
  },
  {
   "cell_type": "markdown",
   "id": "b0e6f5aa",
   "metadata": {},
   "source": [
    "As can be seen from the calculations above, the model sports a *very* solid predictive accuracy for customer sentiment at 99%, with a very low loss value of 0.06 with *training* data. Of course, this is an expected outcome as the model was trained on this data, I would expect it to have great predictive accuracy with it.\n",
    "\n",
    "In contrast, when fit on data it has not seen before (test data), the model yields an accuracy of roughly 80% and loss value of 0.48. What this tells us is that the model has overfit on the training data, and it has difficulty in predicting on data it has not seen before. Within the model training process, I utilized a stopping criteria of 2 epochs in an attempt to prevent overfitting training data at the earliest epoch, however the model's predictive accuracy on new data still remains a bit weaker than that of the training data."
   ]
  },
  {
   "cell_type": "markdown",
   "id": "c3b300fe-8ac8-44f1-9372-73c355aef6fa",
   "metadata": {},
   "source": [
    "### D3: Visualization of Training process"
   ]
  },
  {
   "cell_type": "code",
   "execution_count": 21,
   "id": "c2137819",
   "metadata": {},
   "outputs": [
    {
     "data": {
      "image/png": "[encoded data removed]",
      "text/plain": [
       "<Figure size 1200x500 with 2 Axes>"
      ]
     },
     "metadata": {},
     "output_type": "display_data"
    }
   ],
   "source": [
    "#visualizations for training process\n",
    "plt.figure(figsize = [12,5])\n",
    "\n",
    "#plot 1: Training Accuracy \n",
    "plt.subplot(1, 2, 1)\n",
    "plt.title(\"Training Accuracy Across Epochs\")\n",
    "plt.plot(history.history['accuracy'], label = \"Training Accuracy\")\n",
    "plt.plot(history.history['val_accuracy'], label = \"Validation Accuracy\")\n",
    "plt.xlabel(\"Epoch Number\")\n",
    "plt.ylabel(\"Accuracy\")\n",
    "plt.legend()\n",
    "\n",
    "#plot 2: Loss of Training\n",
    "plt.subplot(1, 2, 2)\n",
    "plt.title(\"Training Loss Across Epochs\")\n",
    "plt.plot(history.history['loss'], label = \"Training Loss\")\n",
    "plt.plot(history.history['val_loss'], label = \"Validation Loss\")\n",
    "plt.xlabel(\"Epoch Number\")\n",
    "plt.ylabel(\"Loss\")\n",
    "plt.legend()\n",
    "\n",
    "plt.show()"
   ]
  },
  {
   "cell_type": "markdown",
   "id": "bb01d941",
   "metadata": {},
   "source": [
    "As can be seen from the graphs above, the chosen evaluation metrics for the performance of my model visualized are the training accuracy against validation accuracy, and the training loss against the validation loss."
   ]
  },
  {
   "cell_type": "markdown",
   "id": "49d87d5e",
   "metadata": {},
   "source": [
    "### D4: Predictive Accuracy\n",
    "To reiterate on the calculations performed in section D2, the accuracy & loss data across my model is:\n",
    "- 99% accurate, with loss value of 0.06 for the *training* data\n",
    "- 80% accurate, with loss value of 0.48 for the *testing* data\n",
    "\n",
    "It is known that the model has overfit a bit on the training data, which makes the accuracy of predictions on new, unseen data less accurate than the information that it is comfortable with. Furthermore, looking at the loss value of 0.48 within the testing data, this means the model is not very confident in the predictions it makes. However, while not as spectacular as its predictive accuracy on the training data, the model still demonstrates a modest ability to predict correct customer sentiment on new data as evidenced by the decent accuracy score when evaluating on the test dataset."
   ]
  },
  {
   "cell_type": "markdown",
   "id": "276d57a0-2b64-4ced-a7c4-ea0d6b8e5bc2",
   "metadata": {},
   "source": [
    "### E: Training Code"
   ]
  },
  {
   "cell_type": "code",
   "execution_count": 22,
   "id": "9bb975f7",
   "metadata": {},
   "outputs": [],
   "source": [
    "#Code used to save model for later use if needed\n",
    "#I received a warning from the program that HDF5 files are now legacy and that I should instead save the model in .keras\n",
    "#format instead\n",
    "model.save(\"task2_model.keras\")"
   ]
  },
  {
   "cell_type": "markdown",
   "id": "9c1fee86",
   "metadata": {},
   "source": [
    "### F: Neural Network Functionality\n",
    "The model created is a Recurrent Neural Network that was training to identify sentiment of customer satisfaction on products tested and purchased from Amazon. It has trained on a total of 693 user reviews alongside the binary sentiment to create a model that can predict the positive or negative status of a customer's review purely from text. \n",
    "\n",
    "The impact of the network architecture has significant to achieving solid predictive accuracy in the model. Said architecture involved optimization to establish the appropriate layers necessary for the model to achieve solid performance through the ideal parameters chosen for layering a binary output, choosing the appropriate activation functions, establishing appropriate node count, loss function, optimization algorithm, evaluating accuracy during training, and setting stopping criteria in order to result in a relatively high prediction accuracy on the unseen testing data.\n",
    "\n",
    "Overall, this network has achieved the goal established within the research question of this performance assessment as it's testing accuracy of 80% has the appropriate predictive accuracy to deem it usable in a testing environment with new unseen data. Thus, the model shows suitability in use for sentiment analysis"
   ]
  },
  {
   "cell_type": "markdown",
   "id": "7e6e01d9",
   "metadata": {},
   "source": [
    "### G: Recommendation\n",
    "Given the predictive accuracy of the model on unseen data, I do recommend for it to be used in a business environment to quickly assess customer sentiment of new product runs. The use of this model could significantly aide in the analysis of customer feedback without the necessity of long surveys or using a rating system, and can be applied at scale for synthesis of evaulation metrics, identifying areas of improvement and significant business needs. In the evaluation of product improvements, analysts can pull from reviews classified with a negative sentiment to isolate specific pain points, allowing for the identification and remediation of friction with user experience."
   ]
  },
  {
   "cell_type": "markdown",
   "id": "1d45f0c7",
   "metadata": {},
   "source": [
    "### H: Development Environment\n",
    "The entirety of this performance assessment was conducted within the Jupyter Notebook interactive development environment, allowing for a structured breakdown of both my code and written notes. I will provide the completed ipynb file alongside an executed HTML document within my final submission."
   ]
  },
  {
   "cell_type": "markdown",
   "id": "26e773ae-138f-4c4f-b714-06185b468957",
   "metadata": {},
   "source": [
    "### I: Code Sources\n",
    "Elleh, Festus. n.d. *Task 2 Data Preprocessing Python*. Western Governors University. https://wgu.hosted.panopto.com/Panopto/Pages/Viewer.aspx?id=8639374a-964b-4ae9-b33b-b1210052c07d\n",
    "\n",
    "Elleh, Festus. n.d. *Building NN Model in Python*. Western Governors University. https://wgu.hosted.panopto.com/Panopto/Pages/Viewer.aspx?id=1b9aff54-735f-456a-a6b4-b11b00eb8d2f\n",
    "\n"
   ]
  },
  {
   "cell_type": "markdown",
   "id": "dbf8d1ec-6beb-4cd4-a653-5ed263607d9f",
   "metadata": {},
   "source": [
    "### J: Sources\n",
    "IBM. n.d. *What are Recurrent Neural Networks?* IBM. https://www.ibm.com/topics/recurrent-neural-networks\n",
    "\n",
    "Tensorflow Team. November 20, 2017. *Introducing TensorFlow Feature Columns*. Google for Developers. https://developers.googleblog.com/en/introducing-tensorflow-feature-columns/\n",
    "\n",
    "Brownlee, Jason. January 22, 2021. *How to Choose an Activation Function for Deep Learning*. Machine Learning Mastery. https://machinelearningmastery.com/choose-an-activation-function-for-deep-learning/\n",
    "\n",
    "Brownlee, Jason. August 20, 2020. *A Gentle Introduction to the Rectified Linear Unit (ReLU)*. Machine Learning Mastery. https://machinelearningmastery.com/rectified-linear-activation-function-for-deep-learning-neural-networks/\n",
    "\n",
    "Brownlee, Jason. January 13, 2021. *Gentle Introduction to the Adam Optimization Algorithm for Deep Learning*. Machine Learning Mastery. https://machinelearningmastery.com/adam-optimization-algorithm-for-deep-learning/\n",
    "\n",
    "Baheti, Pragati. September 13, 2021. *Train Test Validation Split: How To & Best Practices [2024]*. V7. https://www.v7labs.com/blog/train-validation-test-set\n",
    "\n",
    "Pykes, Kurtis. January 2024. *Cross-Entropy Loss Function in Machine Learning: Enhancing Model Accuracy*. Datacamp. https://www.datacamp.com/tutorial/the-cross-entropy-loss-function-in-machine-learning"
   ]
  }
 ],
 "metadata": {
  "kernelspec": {
   "display_name": "Python 3 (ipykernel)",
   "language": "python",
   "name": "python3"
  },
  "language_info": {
   "codemirror_mode": {
    "name": "ipython",
    "version": 3
   },
   "file_extension": ".py",
   "mimetype": "text/x-python",
   "name": "python",
   "nbconvert_exporter": "python",
   "pygments_lexer": "ipython3",
   "version": "3.11.5"
  }
 },
 "nbformat": 4,
 "nbformat_minor": 5
}
